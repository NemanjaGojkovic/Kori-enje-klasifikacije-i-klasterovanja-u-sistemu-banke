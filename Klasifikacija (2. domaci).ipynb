{
 "cells": [
  {
   "cell_type": "markdown",
   "id": "cc77cd31",
   "metadata": {},
   "source": [
    "# Klasifikacija"
   ]
  },
  {
   "cell_type": "markdown",
   "id": "1fd81a3e",
   "metadata": {},
   "source": [
    "Za početak ćemo dodati biblioteke za rad sa podacima i učitati sređeni skup podataka."
   ]
  },
  {
   "cell_type": "code",
   "execution_count": 1,
   "id": "8067d3cf",
   "metadata": {},
   "outputs": [],
   "source": [
    "import pandas as pd\n",
    "import numpy as np\n",
    "import matplotlib.pyplot as plt\n",
    "pd.options.display.max_columns=30"
   ]
  },
  {
   "cell_type": "code",
   "execution_count": 2,
   "id": "20a8fb82",
   "metadata": {},
   "outputs": [],
   "source": [
    "banks=pd.read_csv('Bank Marketing/prepared_bank.csv')"
   ]
  },
  {
   "cell_type": "code",
   "execution_count": 3,
   "id": "4265faaf",
   "metadata": {},
   "outputs": [
    {
     "data": {
      "text/html": [
       "<div>\n",
       "<style scoped>\n",
       "    .dataframe tbody tr th:only-of-type {\n",
       "        vertical-align: middle;\n",
       "    }\n",
       "\n",
       "    .dataframe tbody tr th {\n",
       "        vertical-align: top;\n",
       "    }\n",
       "\n",
       "    .dataframe thead th {\n",
       "        text-align: right;\n",
       "    }\n",
       "</style>\n",
       "<table border=\"1\" class=\"dataframe\">\n",
       "  <thead>\n",
       "    <tr style=\"text-align: right;\">\n",
       "      <th></th>\n",
       "      <th>age</th>\n",
       "      <th>job</th>\n",
       "      <th>education</th>\n",
       "      <th>housing</th>\n",
       "      <th>loan</th>\n",
       "      <th>winter</th>\n",
       "      <th>spring</th>\n",
       "      <th>summer</th>\n",
       "      <th>autumn</th>\n",
       "      <th>cellular</th>\n",
       "      <th>telephone</th>\n",
       "      <th>anxiety</th>\n",
       "      <th>duration</th>\n",
       "      <th>campaign</th>\n",
       "      <th>pdays</th>\n",
       "      <th>previous</th>\n",
       "      <th>emp_var_rate</th>\n",
       "      <th>cons_price_idx</th>\n",
       "      <th>cons_conf_idx</th>\n",
       "      <th>nr_employed</th>\n",
       "      <th>euribor3m</th>\n",
       "      <th>divorced</th>\n",
       "      <th>married</th>\n",
       "      <th>single</th>\n",
       "      <th>subscribed?</th>\n",
       "    </tr>\n",
       "  </thead>\n",
       "  <tbody>\n",
       "    <tr>\n",
       "      <th>0</th>\n",
       "      <td>30</td>\n",
       "      <td>0</td>\n",
       "      <td>2</td>\n",
       "      <td>True</td>\n",
       "      <td>False</td>\n",
       "      <td>0</td>\n",
       "      <td>1</td>\n",
       "      <td>0</td>\n",
       "      <td>0</td>\n",
       "      <td>1</td>\n",
       "      <td>0</td>\n",
       "      <td>4</td>\n",
       "      <td>487.000000</td>\n",
       "      <td>2.0</td>\n",
       "      <td>False</td>\n",
       "      <td>False</td>\n",
       "      <td>-1.8</td>\n",
       "      <td>92.893</td>\n",
       "      <td>-46.2</td>\n",
       "      <td>5099.1</td>\n",
       "      <td>1.313</td>\n",
       "      <td>0</td>\n",
       "      <td>1</td>\n",
       "      <td>0</td>\n",
       "      <td>False</td>\n",
       "    </tr>\n",
       "    <tr>\n",
       "      <th>1</th>\n",
       "      <td>39</td>\n",
       "      <td>1</td>\n",
       "      <td>3</td>\n",
       "      <td>False</td>\n",
       "      <td>False</td>\n",
       "      <td>0</td>\n",
       "      <td>1</td>\n",
       "      <td>0</td>\n",
       "      <td>0</td>\n",
       "      <td>0</td>\n",
       "      <td>1</td>\n",
       "      <td>4</td>\n",
       "      <td>346.000000</td>\n",
       "      <td>4.0</td>\n",
       "      <td>False</td>\n",
       "      <td>False</td>\n",
       "      <td>1.1</td>\n",
       "      <td>93.994</td>\n",
       "      <td>-36.4</td>\n",
       "      <td>5191.0</td>\n",
       "      <td>4.855</td>\n",
       "      <td>0</td>\n",
       "      <td>0</td>\n",
       "      <td>1</td>\n",
       "      <td>False</td>\n",
       "    </tr>\n",
       "    <tr>\n",
       "      <th>2</th>\n",
       "      <td>25</td>\n",
       "      <td>1</td>\n",
       "      <td>3</td>\n",
       "      <td>True</td>\n",
       "      <td>False</td>\n",
       "      <td>0</td>\n",
       "      <td>0</td>\n",
       "      <td>1</td>\n",
       "      <td>0</td>\n",
       "      <td>0</td>\n",
       "      <td>1</td>\n",
       "      <td>2</td>\n",
       "      <td>227.000000</td>\n",
       "      <td>1.0</td>\n",
       "      <td>False</td>\n",
       "      <td>False</td>\n",
       "      <td>1.4</td>\n",
       "      <td>94.465</td>\n",
       "      <td>-41.8</td>\n",
       "      <td>5228.1</td>\n",
       "      <td>4.962</td>\n",
       "      <td>0</td>\n",
       "      <td>1</td>\n",
       "      <td>0</td>\n",
       "      <td>False</td>\n",
       "    </tr>\n",
       "    <tr>\n",
       "      <th>3</th>\n",
       "      <td>47</td>\n",
       "      <td>2</td>\n",
       "      <td>5</td>\n",
       "      <td>True</td>\n",
       "      <td>False</td>\n",
       "      <td>1</td>\n",
       "      <td>0</td>\n",
       "      <td>0</td>\n",
       "      <td>0</td>\n",
       "      <td>1</td>\n",
       "      <td>0</td>\n",
       "      <td>0</td>\n",
       "      <td>58.000000</td>\n",
       "      <td>1.0</td>\n",
       "      <td>False</td>\n",
       "      <td>False</td>\n",
       "      <td>-0.1</td>\n",
       "      <td>93.200</td>\n",
       "      <td>-42.0</td>\n",
       "      <td>5195.8</td>\n",
       "      <td>4.191</td>\n",
       "      <td>0</td>\n",
       "      <td>1</td>\n",
       "      <td>0</td>\n",
       "      <td>False</td>\n",
       "    </tr>\n",
       "    <tr>\n",
       "      <th>4</th>\n",
       "      <td>32</td>\n",
       "      <td>1</td>\n",
       "      <td>5</td>\n",
       "      <td>False</td>\n",
       "      <td>False</td>\n",
       "      <td>0</td>\n",
       "      <td>0</td>\n",
       "      <td>0</td>\n",
       "      <td>1</td>\n",
       "      <td>1</td>\n",
       "      <td>0</td>\n",
       "      <td>3</td>\n",
       "      <td>128.000000</td>\n",
       "      <td>3.0</td>\n",
       "      <td>False</td>\n",
       "      <td>True</td>\n",
       "      <td>-1.1</td>\n",
       "      <td>94.199</td>\n",
       "      <td>-37.5</td>\n",
       "      <td>4963.6</td>\n",
       "      <td>0.884</td>\n",
       "      <td>0</td>\n",
       "      <td>0</td>\n",
       "      <td>1</td>\n",
       "      <td>False</td>\n",
       "    </tr>\n",
       "    <tr>\n",
       "      <th>5</th>\n",
       "      <td>32</td>\n",
       "      <td>2</td>\n",
       "      <td>5</td>\n",
       "      <td>True</td>\n",
       "      <td>False</td>\n",
       "      <td>0</td>\n",
       "      <td>0</td>\n",
       "      <td>0</td>\n",
       "      <td>1</td>\n",
       "      <td>1</td>\n",
       "      <td>0</td>\n",
       "      <td>0</td>\n",
       "      <td>290.000000</td>\n",
       "      <td>4.0</td>\n",
       "      <td>False</td>\n",
       "      <td>False</td>\n",
       "      <td>-1.1</td>\n",
       "      <td>94.199</td>\n",
       "      <td>-37.5</td>\n",
       "      <td>4963.6</td>\n",
       "      <td>0.879</td>\n",
       "      <td>0</td>\n",
       "      <td>0</td>\n",
       "      <td>1</td>\n",
       "      <td>False</td>\n",
       "    </tr>\n",
       "    <tr>\n",
       "      <th>6</th>\n",
       "      <td>41</td>\n",
       "      <td>2</td>\n",
       "      <td>5</td>\n",
       "      <td>True</td>\n",
       "      <td>False</td>\n",
       "      <td>1</td>\n",
       "      <td>0</td>\n",
       "      <td>0</td>\n",
       "      <td>0</td>\n",
       "      <td>1</td>\n",
       "      <td>0</td>\n",
       "      <td>0</td>\n",
       "      <td>44.000000</td>\n",
       "      <td>2.0</td>\n",
       "      <td>False</td>\n",
       "      <td>False</td>\n",
       "      <td>-0.1</td>\n",
       "      <td>93.200</td>\n",
       "      <td>-42.0</td>\n",
       "      <td>5195.8</td>\n",
       "      <td>4.191</td>\n",
       "      <td>0</td>\n",
       "      <td>1</td>\n",
       "      <td>0</td>\n",
       "      <td>False</td>\n",
       "    </tr>\n",
       "    <tr>\n",
       "      <th>7</th>\n",
       "      <td>31</td>\n",
       "      <td>1</td>\n",
       "      <td>4</td>\n",
       "      <td>False</td>\n",
       "      <td>False</td>\n",
       "      <td>1</td>\n",
       "      <td>0</td>\n",
       "      <td>0</td>\n",
       "      <td>0</td>\n",
       "      <td>1</td>\n",
       "      <td>0</td>\n",
       "      <td>1</td>\n",
       "      <td>68.000000</td>\n",
       "      <td>1.0</td>\n",
       "      <td>False</td>\n",
       "      <td>True</td>\n",
       "      <td>-0.1</td>\n",
       "      <td>93.200</td>\n",
       "      <td>-42.0</td>\n",
       "      <td>5195.8</td>\n",
       "      <td>4.153</td>\n",
       "      <td>1</td>\n",
       "      <td>0</td>\n",
       "      <td>0</td>\n",
       "      <td>False</td>\n",
       "    </tr>\n",
       "    <tr>\n",
       "      <th>8</th>\n",
       "      <td>35</td>\n",
       "      <td>0</td>\n",
       "      <td>2</td>\n",
       "      <td>False</td>\n",
       "      <td>False</td>\n",
       "      <td>0</td>\n",
       "      <td>1</td>\n",
       "      <td>0</td>\n",
       "      <td>0</td>\n",
       "      <td>0</td>\n",
       "      <td>1</td>\n",
       "      <td>3</td>\n",
       "      <td>256.974477</td>\n",
       "      <td>1.0</td>\n",
       "      <td>False</td>\n",
       "      <td>False</td>\n",
       "      <td>1.1</td>\n",
       "      <td>93.994</td>\n",
       "      <td>-36.4</td>\n",
       "      <td>5191.0</td>\n",
       "      <td>4.855</td>\n",
       "      <td>0</td>\n",
       "      <td>1</td>\n",
       "      <td>0</td>\n",
       "      <td>False</td>\n",
       "    </tr>\n",
       "    <tr>\n",
       "      <th>9</th>\n",
       "      <td>25</td>\n",
       "      <td>1</td>\n",
       "      <td>1</td>\n",
       "      <td>True</td>\n",
       "      <td>False</td>\n",
       "      <td>0</td>\n",
       "      <td>0</td>\n",
       "      <td>1</td>\n",
       "      <td>0</td>\n",
       "      <td>1</td>\n",
       "      <td>0</td>\n",
       "      <td>3</td>\n",
       "      <td>301.000000</td>\n",
       "      <td>1.0</td>\n",
       "      <td>False</td>\n",
       "      <td>False</td>\n",
       "      <td>1.4</td>\n",
       "      <td>93.918</td>\n",
       "      <td>-42.7</td>\n",
       "      <td>5228.1</td>\n",
       "      <td>4.958</td>\n",
       "      <td>0</td>\n",
       "      <td>0</td>\n",
       "      <td>1</td>\n",
       "      <td>False</td>\n",
       "    </tr>\n",
       "  </tbody>\n",
       "</table>\n",
       "</div>"
      ],
      "text/plain": [
       "   age  job  education  housing   loan  winter  spring  summer  autumn  \\\n",
       "0   30    0          2     True  False       0       1       0       0   \n",
       "1   39    1          3    False  False       0       1       0       0   \n",
       "2   25    1          3     True  False       0       0       1       0   \n",
       "3   47    2          5     True  False       1       0       0       0   \n",
       "4   32    1          5    False  False       0       0       0       1   \n",
       "5   32    2          5     True  False       0       0       0       1   \n",
       "6   41    2          5     True  False       1       0       0       0   \n",
       "7   31    1          4    False  False       1       0       0       0   \n",
       "8   35    0          2    False  False       0       1       0       0   \n",
       "9   25    1          1     True  False       0       0       1       0   \n",
       "\n",
       "   cellular  telephone  anxiety    duration  campaign  pdays  previous  \\\n",
       "0         1          0        4  487.000000       2.0  False     False   \n",
       "1         0          1        4  346.000000       4.0  False     False   \n",
       "2         0          1        2  227.000000       1.0  False     False   \n",
       "3         1          0        0   58.000000       1.0  False     False   \n",
       "4         1          0        3  128.000000       3.0  False      True   \n",
       "5         1          0        0  290.000000       4.0  False     False   \n",
       "6         1          0        0   44.000000       2.0  False     False   \n",
       "7         1          0        1   68.000000       1.0  False      True   \n",
       "8         0          1        3  256.974477       1.0  False     False   \n",
       "9         1          0        3  301.000000       1.0  False     False   \n",
       "\n",
       "   emp_var_rate  cons_price_idx  cons_conf_idx  nr_employed  euribor3m  \\\n",
       "0          -1.8          92.893          -46.2       5099.1      1.313   \n",
       "1           1.1          93.994          -36.4       5191.0      4.855   \n",
       "2           1.4          94.465          -41.8       5228.1      4.962   \n",
       "3          -0.1          93.200          -42.0       5195.8      4.191   \n",
       "4          -1.1          94.199          -37.5       4963.6      0.884   \n",
       "5          -1.1          94.199          -37.5       4963.6      0.879   \n",
       "6          -0.1          93.200          -42.0       5195.8      4.191   \n",
       "7          -0.1          93.200          -42.0       5195.8      4.153   \n",
       "8           1.1          93.994          -36.4       5191.0      4.855   \n",
       "9           1.4          93.918          -42.7       5228.1      4.958   \n",
       "\n",
       "   divorced  married  single  subscribed?  \n",
       "0         0        1       0        False  \n",
       "1         0        0       1        False  \n",
       "2         0        1       0        False  \n",
       "3         0        1       0        False  \n",
       "4         0        0       1        False  \n",
       "5         0        0       1        False  \n",
       "6         0        1       0        False  \n",
       "7         1        0       0        False  \n",
       "8         0        1       0        False  \n",
       "9         0        0       1        False  "
      ]
     },
     "execution_count": 3,
     "metadata": {},
     "output_type": "execute_result"
    }
   ],
   "source": [
    "banks.head(10)"
   ]
  },
  {
   "cell_type": "code",
   "execution_count": 4,
   "id": "e685a547",
   "metadata": {
    "scrolled": false
   },
   "outputs": [
    {
     "data": {
      "text/plain": [
       "age                 int64\n",
       "job                 int64\n",
       "education           int64\n",
       "housing              bool\n",
       "loan                 bool\n",
       "winter              int64\n",
       "spring              int64\n",
       "summer              int64\n",
       "autumn              int64\n",
       "cellular            int64\n",
       "telephone           int64\n",
       "anxiety             int64\n",
       "duration          float64\n",
       "campaign          float64\n",
       "pdays                bool\n",
       "previous             bool\n",
       "emp_var_rate      float64\n",
       "cons_price_idx    float64\n",
       "cons_conf_idx     float64\n",
       "nr_employed       float64\n",
       "euribor3m         float64\n",
       "divorced            int64\n",
       "married             int64\n",
       "single              int64\n",
       "subscribed?          bool\n",
       "dtype: object"
      ]
     },
     "execution_count": 4,
     "metadata": {},
     "output_type": "execute_result"
    }
   ],
   "source": [
    "banks.dtypes"
   ]
  },
  {
   "cell_type": "code",
   "execution_count": 5,
   "id": "cb163705",
   "metadata": {},
   "outputs": [],
   "source": [
    "banks=banks.dropna()"
   ]
  },
  {
   "cell_type": "markdown",
   "id": "cb07025e",
   "metadata": {},
   "source": [
    "Nakon dorade podataka vreme je da podelimo skup u dva dela, ulazne podatke (X) i izlazne podatke (y)."
   ]
  },
  {
   "cell_type": "code",
   "execution_count": 6,
   "id": "9a9587c6",
   "metadata": {},
   "outputs": [],
   "source": [
    "X=banks.drop('subscribed?', axis=1)\n",
    "y=banks['subscribed?']"
   ]
  },
  {
   "cell_type": "code",
   "execution_count": 7,
   "id": "c0c2841d",
   "metadata": {},
   "outputs": [
    {
     "data": {
      "text/plain": [
       "0    False\n",
       "1    False\n",
       "2    False\n",
       "3    False\n",
       "4    False\n",
       "Name: subscribed?, dtype: bool"
      ]
     },
     "execution_count": 7,
     "metadata": {},
     "output_type": "execute_result"
    }
   ],
   "source": [
    "y.head()"
   ]
  },
  {
   "cell_type": "code",
   "execution_count": 8,
   "id": "93bb8d66",
   "metadata": {},
   "outputs": [
    {
     "data": {
      "text/html": [
       "<div>\n",
       "<style scoped>\n",
       "    .dataframe tbody tr th:only-of-type {\n",
       "        vertical-align: middle;\n",
       "    }\n",
       "\n",
       "    .dataframe tbody tr th {\n",
       "        vertical-align: top;\n",
       "    }\n",
       "\n",
       "    .dataframe thead th {\n",
       "        text-align: right;\n",
       "    }\n",
       "</style>\n",
       "<table border=\"1\" class=\"dataframe\">\n",
       "  <thead>\n",
       "    <tr style=\"text-align: right;\">\n",
       "      <th></th>\n",
       "      <th>age</th>\n",
       "      <th>job</th>\n",
       "      <th>education</th>\n",
       "      <th>housing</th>\n",
       "      <th>loan</th>\n",
       "      <th>winter</th>\n",
       "      <th>spring</th>\n",
       "      <th>summer</th>\n",
       "      <th>autumn</th>\n",
       "      <th>cellular</th>\n",
       "      <th>telephone</th>\n",
       "      <th>anxiety</th>\n",
       "      <th>duration</th>\n",
       "      <th>campaign</th>\n",
       "      <th>pdays</th>\n",
       "      <th>previous</th>\n",
       "      <th>emp_var_rate</th>\n",
       "      <th>cons_price_idx</th>\n",
       "      <th>cons_conf_idx</th>\n",
       "      <th>nr_employed</th>\n",
       "      <th>euribor3m</th>\n",
       "      <th>divorced</th>\n",
       "      <th>married</th>\n",
       "      <th>single</th>\n",
       "    </tr>\n",
       "  </thead>\n",
       "  <tbody>\n",
       "    <tr>\n",
       "      <th>0</th>\n",
       "      <td>30</td>\n",
       "      <td>0</td>\n",
       "      <td>2</td>\n",
       "      <td>True</td>\n",
       "      <td>False</td>\n",
       "      <td>0</td>\n",
       "      <td>1</td>\n",
       "      <td>0</td>\n",
       "      <td>0</td>\n",
       "      <td>1</td>\n",
       "      <td>0</td>\n",
       "      <td>4</td>\n",
       "      <td>487.0</td>\n",
       "      <td>2.0</td>\n",
       "      <td>False</td>\n",
       "      <td>False</td>\n",
       "      <td>-1.8</td>\n",
       "      <td>92.893</td>\n",
       "      <td>-46.2</td>\n",
       "      <td>5099.1</td>\n",
       "      <td>1.313</td>\n",
       "      <td>0</td>\n",
       "      <td>1</td>\n",
       "      <td>0</td>\n",
       "    </tr>\n",
       "    <tr>\n",
       "      <th>1</th>\n",
       "      <td>39</td>\n",
       "      <td>1</td>\n",
       "      <td>3</td>\n",
       "      <td>False</td>\n",
       "      <td>False</td>\n",
       "      <td>0</td>\n",
       "      <td>1</td>\n",
       "      <td>0</td>\n",
       "      <td>0</td>\n",
       "      <td>0</td>\n",
       "      <td>1</td>\n",
       "      <td>4</td>\n",
       "      <td>346.0</td>\n",
       "      <td>4.0</td>\n",
       "      <td>False</td>\n",
       "      <td>False</td>\n",
       "      <td>1.1</td>\n",
       "      <td>93.994</td>\n",
       "      <td>-36.4</td>\n",
       "      <td>5191.0</td>\n",
       "      <td>4.855</td>\n",
       "      <td>0</td>\n",
       "      <td>0</td>\n",
       "      <td>1</td>\n",
       "    </tr>\n",
       "    <tr>\n",
       "      <th>2</th>\n",
       "      <td>25</td>\n",
       "      <td>1</td>\n",
       "      <td>3</td>\n",
       "      <td>True</td>\n",
       "      <td>False</td>\n",
       "      <td>0</td>\n",
       "      <td>0</td>\n",
       "      <td>1</td>\n",
       "      <td>0</td>\n",
       "      <td>0</td>\n",
       "      <td>1</td>\n",
       "      <td>2</td>\n",
       "      <td>227.0</td>\n",
       "      <td>1.0</td>\n",
       "      <td>False</td>\n",
       "      <td>False</td>\n",
       "      <td>1.4</td>\n",
       "      <td>94.465</td>\n",
       "      <td>-41.8</td>\n",
       "      <td>5228.1</td>\n",
       "      <td>4.962</td>\n",
       "      <td>0</td>\n",
       "      <td>1</td>\n",
       "      <td>0</td>\n",
       "    </tr>\n",
       "    <tr>\n",
       "      <th>3</th>\n",
       "      <td>47</td>\n",
       "      <td>2</td>\n",
       "      <td>5</td>\n",
       "      <td>True</td>\n",
       "      <td>False</td>\n",
       "      <td>1</td>\n",
       "      <td>0</td>\n",
       "      <td>0</td>\n",
       "      <td>0</td>\n",
       "      <td>1</td>\n",
       "      <td>0</td>\n",
       "      <td>0</td>\n",
       "      <td>58.0</td>\n",
       "      <td>1.0</td>\n",
       "      <td>False</td>\n",
       "      <td>False</td>\n",
       "      <td>-0.1</td>\n",
       "      <td>93.200</td>\n",
       "      <td>-42.0</td>\n",
       "      <td>5195.8</td>\n",
       "      <td>4.191</td>\n",
       "      <td>0</td>\n",
       "      <td>1</td>\n",
       "      <td>0</td>\n",
       "    </tr>\n",
       "    <tr>\n",
       "      <th>4</th>\n",
       "      <td>32</td>\n",
       "      <td>1</td>\n",
       "      <td>5</td>\n",
       "      <td>False</td>\n",
       "      <td>False</td>\n",
       "      <td>0</td>\n",
       "      <td>0</td>\n",
       "      <td>0</td>\n",
       "      <td>1</td>\n",
       "      <td>1</td>\n",
       "      <td>0</td>\n",
       "      <td>3</td>\n",
       "      <td>128.0</td>\n",
       "      <td>3.0</td>\n",
       "      <td>False</td>\n",
       "      <td>True</td>\n",
       "      <td>-1.1</td>\n",
       "      <td>94.199</td>\n",
       "      <td>-37.5</td>\n",
       "      <td>4963.6</td>\n",
       "      <td>0.884</td>\n",
       "      <td>0</td>\n",
       "      <td>0</td>\n",
       "      <td>1</td>\n",
       "    </tr>\n",
       "  </tbody>\n",
       "</table>\n",
       "</div>"
      ],
      "text/plain": [
       "   age  job  education  housing   loan  winter  spring  summer  autumn  \\\n",
       "0   30    0          2     True  False       0       1       0       0   \n",
       "1   39    1          3    False  False       0       1       0       0   \n",
       "2   25    1          3     True  False       0       0       1       0   \n",
       "3   47    2          5     True  False       1       0       0       0   \n",
       "4   32    1          5    False  False       0       0       0       1   \n",
       "\n",
       "   cellular  telephone  anxiety  duration  campaign  pdays  previous  \\\n",
       "0         1          0        4     487.0       2.0  False     False   \n",
       "1         0          1        4     346.0       4.0  False     False   \n",
       "2         0          1        2     227.0       1.0  False     False   \n",
       "3         1          0        0      58.0       1.0  False     False   \n",
       "4         1          0        3     128.0       3.0  False      True   \n",
       "\n",
       "   emp_var_rate  cons_price_idx  cons_conf_idx  nr_employed  euribor3m  \\\n",
       "0          -1.8          92.893          -46.2       5099.1      1.313   \n",
       "1           1.1          93.994          -36.4       5191.0      4.855   \n",
       "2           1.4          94.465          -41.8       5228.1      4.962   \n",
       "3          -0.1          93.200          -42.0       5195.8      4.191   \n",
       "4          -1.1          94.199          -37.5       4963.6      0.884   \n",
       "\n",
       "   divorced  married  single  \n",
       "0         0        1       0  \n",
       "1         0        0       1  \n",
       "2         0        1       0  \n",
       "3         0        1       0  \n",
       "4         0        0       1  "
      ]
     },
     "execution_count": 8,
     "metadata": {},
     "output_type": "execute_result"
    }
   ],
   "source": [
    "X.head()"
   ]
  },
  {
   "cell_type": "markdown",
   "id": "05ab97e0",
   "metadata": {},
   "source": [
    "Pre nego što počnemo sa pojedinačnim algoritmima, dodaćemo metrike performansa, matricu konfuzije i definišemo funckiju za prikaz dobijenih vrednosti. Takođe ćemo da izvršimo proveru tačnosti večinskog izbora, tj. ukoliko svaki atrbiut proglasimo za False, koliko ćemo procentualno biti u pravu. Dobili smo visok procenat 89.1%, što može da implicira da tačnost klasifikacije možda nije najbolja mera za evaulaciju."
   ]
  },
  {
   "cell_type": "code",
   "execution_count": 39,
   "id": "f6e8c0b1",
   "metadata": {
    "scrolled": true
   },
   "outputs": [
    {
     "data": {
      "text/plain": [
       "0.8914525432616676"
      ]
     },
     "execution_count": 39,
     "metadata": {},
     "output_type": "execute_result"
    }
   ],
   "source": [
    "from sklearn.metrics import confusion_matrix, accuracy_score, recall_score, precision_score, f1_score, ConfusionMatrixDisplay\n",
    "def print_performance(y, y_hat):\n",
    "    print(f'Accuracy: {accuracy_score(y, y_hat)}')\n",
    "    print(f'Precision: {precision_score(y, y_hat)}')\n",
    "    print(f'Recall: {recall_score(y, y_hat)}')\n",
    "    print(f'F1: {f1_score(y, y_hat)}')\n",
    "accuracy_score(y, np.repeat(0, len(y)))"
   ]
  },
  {
   "cell_type": "markdown",
   "id": "47bf0cde",
   "metadata": {},
   "source": [
    "Prvo ćemo odraditi neke osnovne algoirtme bez ikakvog deljenja skupa, a zatim ćemo probati iste algoritme primenom train/test podele i kros-validacijom."
   ]
  },
  {
   "cell_type": "markdown",
   "id": "24afb004",
   "metadata": {},
   "source": [
    "## Logistička regresija"
   ]
  },
  {
   "cell_type": "code",
   "execution_count": 33,
   "id": "a77f4c1b",
   "metadata": {},
   "outputs": [],
   "source": [
    "from sklearn.linear_model import LogisticRegression\n",
    "model = LogisticRegression(max_iter=1000)"
   ]
  },
  {
   "cell_type": "code",
   "execution_count": 34,
   "id": "4b70ab66",
   "metadata": {},
   "outputs": [
    {
     "data": {
      "text/plain": [
       "LogisticRegression(max_iter=1000)"
      ]
     },
     "execution_count": 34,
     "metadata": {},
     "output_type": "execute_result"
    }
   ],
   "source": [
    "model.fit(X,y)"
   ]
  },
  {
   "cell_type": "code",
   "execution_count": 35,
   "id": "d6fa29e5",
   "metadata": {},
   "outputs": [
    {
     "name": "stdout",
     "output_type": "stream",
     "text": [
      "Accuracy: 0.9137388568432092\n",
      "Precision: 0.6693227091633466\n",
      "Recall: 0.4057971014492754\n",
      "F1: 0.505263157894737\n"
     ]
    }
   ],
   "source": [
    "print_performance(y, model.predict(X))"
   ]
  },
  {
   "cell_type": "code",
   "execution_count": 45,
   "id": "6ce5c349",
   "metadata": {},
   "outputs": [
    {
     "data": {
      "image/png": "[encoded data removed]",
      "text/plain": [
       "<Figure size 640x480 with 2 Axes>"
      ]
     },
     "metadata": {},
     "output_type": "display_data"
    }
   ],
   "source": [
    "ConfusionMatrixDisplay(confusion_matrix(y, model.predict(X)), display_labels = [False, True]).plot()\n",
    "plt.show()"
   ]
  },
  {
   "cell_type": "markdown",
   "id": "390b2626",
   "metadata": {},
   "source": [
    "## Naivni Bayes"
   ]
  },
  {
   "cell_type": "code",
   "execution_count": 41,
   "id": "320e7722",
   "metadata": {},
   "outputs": [],
   "source": [
    "from sklearn.naive_bayes import GaussianNB\n",
    "model=GaussianNB()"
   ]
  },
  {
   "cell_type": "code",
   "execution_count": 42,
   "id": "844ad23b",
   "metadata": {},
   "outputs": [
    {
     "data": {
      "text/plain": [
       "GaussianNB()"
      ]
     },
     "execution_count": 42,
     "metadata": {},
     "output_type": "execute_result"
    }
   ],
   "source": [
    "model.fit(X,y)"
   ]
  },
  {
   "cell_type": "code",
   "execution_count": 43,
   "id": "efcb81cb",
   "metadata": {},
   "outputs": [
    {
     "name": "stdout",
     "output_type": "stream",
     "text": [
      "Accuracy: 0.8518615626638699\n",
      "Precision: 0.3857791225416036\n",
      "Recall: 0.6159420289855072\n",
      "F1: 0.47441860465116287\n"
     ]
    }
   ],
   "source": [
    "print_performance(y, model.predict(X))"
   ]
  },
  {
   "cell_type": "code",
   "execution_count": 46,
   "id": "c900a06a",
   "metadata": {},
   "outputs": [
    {
     "data": {
      "image/png": "[encoded data removed]",
      "text/plain": [
       "<Figure size 640x480 with 2 Axes>"
      ]
     },
     "metadata": {},
     "output_type": "display_data"
    }
   ],
   "source": [
    "ConfusionMatrixDisplay(confusion_matrix(y, model.predict(X)), display_labels = [False, True]).plot()\n",
    "plt.show()"
   ]
  },
  {
   "cell_type": "markdown",
   "id": "f8f42083",
   "metadata": {},
   "source": [
    "## KNN klasifikacija"
   ]
  },
  {
   "cell_type": "code",
   "execution_count": 47,
   "id": "49188650",
   "metadata": {},
   "outputs": [],
   "source": [
    "from sklearn.neighbors import KNeighborsClassifier\n",
    "model=KNeighborsClassifier()"
   ]
  },
  {
   "cell_type": "code",
   "execution_count": 48,
   "id": "0745f0ad",
   "metadata": {},
   "outputs": [
    {
     "data": {
      "text/plain": [
       "KNeighborsClassifier()"
      ]
     },
     "execution_count": 48,
     "metadata": {},
     "output_type": "execute_result"
    }
   ],
   "source": [
    "model.fit(X, y)"
   ]
  },
  {
   "cell_type": "code",
   "execution_count": 49,
   "id": "1cafacbd",
   "metadata": {},
   "outputs": [
    {
     "name": "stdout",
     "output_type": "stream",
     "text": [
      "Accuracy: 0.9268484530676455\n",
      "Precision: 0.7051671732522796\n",
      "Recall: 0.5603864734299517\n",
      "F1: 0.6244952893674294\n"
     ]
    },
    {
     "name": "stderr",
     "output_type": "stream",
     "text": [
      "D:\\Programi\\Anaconda\\lib\\site-packages\\sklearn\\neighbors\\_classification.py:228: FutureWarning: Unlike other reduction functions (e.g. `skew`, `kurtosis`), the default behavior of `mode` typically preserves the axis it acts along. In SciPy 1.11.0, this behavior will change: the default value of `keepdims` will become False, the `axis` over which the statistic is taken will be eliminated, and the value None will no longer be accepted. Set `keepdims` to True or False to avoid this warning.\n",
      "  mode, _ = stats.mode(_y[neigh_ind, k], axis=1)\n"
     ]
    }
   ],
   "source": [
    "print_performance(y, model.predict(X))"
   ]
  },
  {
   "cell_type": "code",
   "execution_count": 50,
   "id": "aa50fcf8",
   "metadata": {},
   "outputs": [
    {
     "name": "stderr",
     "output_type": "stream",
     "text": [
      "D:\\Programi\\Anaconda\\lib\\site-packages\\sklearn\\neighbors\\_classification.py:228: FutureWarning: Unlike other reduction functions (e.g. `skew`, `kurtosis`), the default behavior of `mode` typically preserves the axis it acts along. In SciPy 1.11.0, this behavior will change: the default value of `keepdims` will become False, the `axis` over which the statistic is taken will be eliminated, and the value None will no longer be accepted. Set `keepdims` to True or False to avoid this warning.\n",
      "  mode, _ = stats.mode(_y[neigh_ind, k], axis=1)\n"
     ]
    },
    {
     "data": {
      "image/png": "[encoded data removed]",
      "text/plain": [
       "<Figure size 640x480 with 2 Axes>"
      ]
     },
     "metadata": {},
     "output_type": "display_data"
    }
   ],
   "source": [
    "ConfusionMatrixDisplay(confusion_matrix(y, model.predict(X)), display_labels = [False, True]).plot()\n",
    "plt.show()"
   ]
  },
  {
   "cell_type": "markdown",
   "id": "a841dd03",
   "metadata": {},
   "source": [
    "## Stablo odlučivanja"
   ]
  },
  {
   "cell_type": "code",
   "execution_count": 51,
   "id": "1f6c4544",
   "metadata": {},
   "outputs": [],
   "source": [
    "from sklearn.tree import DecisionTreeClassifier\n",
    "model=DecisionTreeClassifier()"
   ]
  },
  {
   "cell_type": "code",
   "execution_count": 52,
   "id": "32d58528",
   "metadata": {},
   "outputs": [
    {
     "data": {
      "text/plain": [
       "DecisionTreeClassifier()"
      ]
     },
     "execution_count": 52,
     "metadata": {},
     "output_type": "execute_result"
    }
   ],
   "source": [
    "model.fit(X, y)"
   ]
  },
  {
   "cell_type": "code",
   "execution_count": 53,
   "id": "390517d4",
   "metadata": {},
   "outputs": [
    {
     "name": "stdout",
     "output_type": "stream",
     "text": [
      "Accuracy: 1.0\n",
      "Precision: 1.0\n",
      "Recall: 1.0\n",
      "F1: 1.0\n"
     ]
    }
   ],
   "source": [
    "print_performance(y, model.predict(X))"
   ]
  },
  {
   "cell_type": "markdown",
   "id": "51fecbfe",
   "metadata": {},
   "source": [
    "## Zaključak 1"
   ]
  },
  {
   "cell_type": "markdown",
   "id": "53392b10",
   "metadata": {},
   "source": [
    "Bez definisanja ikakvih parametara (osim kod logističke regresije, jer je izbacivalo grešku) dobijamo sledeće zaključke:\n",
    "* Kod logističke regresije se dobija bolji CA nego kod trivijalnog modela, što nije loše. Preciznost je 67% što nije mnogo loše, ali odziv je vrlo nizak. U ovom slučaju više ćemo vrednovati odziv nego preciznost, jer nam je bitnije da što manje korsnika koji su zapravo uplatili depozit proglasimo onima koji nisu, nego da proglasimo korisnike koji nisu uplatili depozit za one koji jesu.\n",
    "* Kod naivnog Bayes-a smo dobili nižu vrednost CA u odnosu na trivijalnu što nije dobro, ali smo zato dobili višu vrednost odziva u odnosu na logističku regresiju, Sa druge strane preciznost je dosta niža nego što je bila.\n",
    "* Kod KNN algoritma smo dobili zaista fine rezultate svuda, iako je vrednost odziva manja od preciznosti, ovaj alogritam je u opštem slučaju mnogo bolje odradio klasifikaciju nego prethodna dva.\n",
    "* Dolazimo do stabla odlučivanja koje je dobilo perfektne rezultate. Ovo je primer pretreniranosti modela. Pošto nismo definisali maksimalnu dubinu stabla, ono se pružilo do krajnjih tačaka gde je klasifikaciju odradilo za svaki objekat posebno, pa samim tim ne postoji greška. Kako bismo sprečili ovo, kasnije ćemo uvesti ograničenja za dubinu stabla i proveriti kakvi su rezultati dobijeni onda."
   ]
  },
  {
   "cell_type": "code",
   "execution_count": 54,
   "id": "85315646",
   "metadata": {},
   "outputs": [],
   "source": [
    "# odvoji train i test set"
   ]
  }
 ],
 "metadata": {
  "kernelspec": {
   "display_name": "Python 3 (ipykernel)",
   "language": "python",
   "name": "python3"
  },
  "language_info": {
   "codemirror_mode": {
    "name": "ipython",
    "version": 3
   },
   "file_extension": ".py",
   "mimetype": "text/x-python",
   "name": "python",
   "nbconvert_exporter": "python",
   "pygments_lexer": "ipython3",
   "version": "3.9.13"
  }
 },
 "nbformat": 4,
 "nbformat_minor": 5
}
