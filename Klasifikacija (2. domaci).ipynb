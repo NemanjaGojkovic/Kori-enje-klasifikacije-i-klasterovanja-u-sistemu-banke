{
 "cells": [
  {
   "cell_type": "markdown",
   "id": "cc77cd31",
   "metadata": {},
   "source": [
    "# Klasifikacija"
   ]
  },
  {
   "cell_type": "markdown",
   "id": "1fd81a3e",
   "metadata": {},
   "source": [
    "Za početak ćemo dodati biblioteke za rad sa podacima i učitati sređeni skup podataka."
   ]
  },
  {
   "cell_type": "code",
   "execution_count": 1,
   "id": "8067d3cf",
   "metadata": {},
   "outputs": [],
   "source": [
    "import pandas as pd\n",
    "import numpy as np\n",
    "import matplotlib.pyplot as plt\n",
    "pd.options.display.max_columns=30\n",
    "np.option"
   ]
  },
  {
   "cell_type": "code",
   "execution_count": 2,
   "id": "20a8fb82",
   "metadata": {},
   "outputs": [],
   "source": [
    "banks=pd.read_csv('Bank Marketing/prepared_bank.csv')"
   ]
  },
  {
   "cell_type": "code",
   "execution_count": 3,
   "id": "4265faaf",
   "metadata": {},
   "outputs": [
    {
     "data": {
      "text/html": [
       "<div>\n",
       "<style scoped>\n",
       "    .dataframe tbody tr th:only-of-type {\n",
       "        vertical-align: middle;\n",
       "    }\n",
       "\n",
       "    .dataframe tbody tr th {\n",
       "        vertical-align: top;\n",
       "    }\n",
       "\n",
       "    .dataframe thead th {\n",
       "        text-align: right;\n",
       "    }\n",
       "</style>\n",
       "<table border=\"1\" class=\"dataframe\">\n",
       "  <thead>\n",
       "    <tr style=\"text-align: right;\">\n",
       "      <th></th>\n",
       "      <th>age</th>\n",
       "      <th>job</th>\n",
       "      <th>education</th>\n",
       "      <th>housing</th>\n",
       "      <th>loan</th>\n",
       "      <th>winter</th>\n",
       "      <th>spring</th>\n",
       "      <th>summer</th>\n",
       "      <th>autumn</th>\n",
       "      <th>cellular</th>\n",
       "      <th>telephone</th>\n",
       "      <th>anxiety</th>\n",
       "      <th>duration</th>\n",
       "      <th>campaign</th>\n",
       "      <th>pdays</th>\n",
       "      <th>previous</th>\n",
       "      <th>emp_var_rate</th>\n",
       "      <th>cons_price_idx</th>\n",
       "      <th>cons_conf_idx</th>\n",
       "      <th>nr_employed</th>\n",
       "      <th>euribor3m</th>\n",
       "      <th>divorced</th>\n",
       "      <th>married</th>\n",
       "      <th>single</th>\n",
       "      <th>subscribed?</th>\n",
       "    </tr>\n",
       "  </thead>\n",
       "  <tbody>\n",
       "    <tr>\n",
       "      <th>0</th>\n",
       "      <td>30</td>\n",
       "      <td>0</td>\n",
       "      <td>2</td>\n",
       "      <td>True</td>\n",
       "      <td>False</td>\n",
       "      <td>0</td>\n",
       "      <td>1</td>\n",
       "      <td>0</td>\n",
       "      <td>0</td>\n",
       "      <td>1</td>\n",
       "      <td>0</td>\n",
       "      <td>4</td>\n",
       "      <td>487.000000</td>\n",
       "      <td>2.0</td>\n",
       "      <td>False</td>\n",
       "      <td>False</td>\n",
       "      <td>-1.8</td>\n",
       "      <td>92.893</td>\n",
       "      <td>-46.2</td>\n",
       "      <td>5099.1</td>\n",
       "      <td>1.313</td>\n",
       "      <td>0</td>\n",
       "      <td>1</td>\n",
       "      <td>0</td>\n",
       "      <td>False</td>\n",
       "    </tr>\n",
       "    <tr>\n",
       "      <th>1</th>\n",
       "      <td>39</td>\n",
       "      <td>1</td>\n",
       "      <td>3</td>\n",
       "      <td>False</td>\n",
       "      <td>False</td>\n",
       "      <td>0</td>\n",
       "      <td>1</td>\n",
       "      <td>0</td>\n",
       "      <td>0</td>\n",
       "      <td>0</td>\n",
       "      <td>1</td>\n",
       "      <td>4</td>\n",
       "      <td>346.000000</td>\n",
       "      <td>4.0</td>\n",
       "      <td>False</td>\n",
       "      <td>False</td>\n",
       "      <td>1.1</td>\n",
       "      <td>93.994</td>\n",
       "      <td>-36.4</td>\n",
       "      <td>5191.0</td>\n",
       "      <td>4.855</td>\n",
       "      <td>0</td>\n",
       "      <td>0</td>\n",
       "      <td>1</td>\n",
       "      <td>False</td>\n",
       "    </tr>\n",
       "    <tr>\n",
       "      <th>2</th>\n",
       "      <td>25</td>\n",
       "      <td>1</td>\n",
       "      <td>3</td>\n",
       "      <td>True</td>\n",
       "      <td>False</td>\n",
       "      <td>0</td>\n",
       "      <td>0</td>\n",
       "      <td>1</td>\n",
       "      <td>0</td>\n",
       "      <td>0</td>\n",
       "      <td>1</td>\n",
       "      <td>2</td>\n",
       "      <td>227.000000</td>\n",
       "      <td>1.0</td>\n",
       "      <td>False</td>\n",
       "      <td>False</td>\n",
       "      <td>1.4</td>\n",
       "      <td>94.465</td>\n",
       "      <td>-41.8</td>\n",
       "      <td>5228.1</td>\n",
       "      <td>4.962</td>\n",
       "      <td>0</td>\n",
       "      <td>1</td>\n",
       "      <td>0</td>\n",
       "      <td>False</td>\n",
       "    </tr>\n",
       "    <tr>\n",
       "      <th>3</th>\n",
       "      <td>47</td>\n",
       "      <td>2</td>\n",
       "      <td>5</td>\n",
       "      <td>True</td>\n",
       "      <td>False</td>\n",
       "      <td>1</td>\n",
       "      <td>0</td>\n",
       "      <td>0</td>\n",
       "      <td>0</td>\n",
       "      <td>1</td>\n",
       "      <td>0</td>\n",
       "      <td>0</td>\n",
       "      <td>58.000000</td>\n",
       "      <td>1.0</td>\n",
       "      <td>False</td>\n",
       "      <td>False</td>\n",
       "      <td>-0.1</td>\n",
       "      <td>93.200</td>\n",
       "      <td>-42.0</td>\n",
       "      <td>5195.8</td>\n",
       "      <td>4.191</td>\n",
       "      <td>0</td>\n",
       "      <td>1</td>\n",
       "      <td>0</td>\n",
       "      <td>False</td>\n",
       "    </tr>\n",
       "    <tr>\n",
       "      <th>4</th>\n",
       "      <td>32</td>\n",
       "      <td>1</td>\n",
       "      <td>5</td>\n",
       "      <td>False</td>\n",
       "      <td>False</td>\n",
       "      <td>0</td>\n",
       "      <td>0</td>\n",
       "      <td>0</td>\n",
       "      <td>1</td>\n",
       "      <td>1</td>\n",
       "      <td>0</td>\n",
       "      <td>3</td>\n",
       "      <td>128.000000</td>\n",
       "      <td>3.0</td>\n",
       "      <td>False</td>\n",
       "      <td>True</td>\n",
       "      <td>-1.1</td>\n",
       "      <td>94.199</td>\n",
       "      <td>-37.5</td>\n",
       "      <td>4963.6</td>\n",
       "      <td>0.884</td>\n",
       "      <td>0</td>\n",
       "      <td>0</td>\n",
       "      <td>1</td>\n",
       "      <td>False</td>\n",
       "    </tr>\n",
       "    <tr>\n",
       "      <th>5</th>\n",
       "      <td>32</td>\n",
       "      <td>2</td>\n",
       "      <td>5</td>\n",
       "      <td>True</td>\n",
       "      <td>False</td>\n",
       "      <td>0</td>\n",
       "      <td>0</td>\n",
       "      <td>0</td>\n",
       "      <td>1</td>\n",
       "      <td>1</td>\n",
       "      <td>0</td>\n",
       "      <td>0</td>\n",
       "      <td>290.000000</td>\n",
       "      <td>4.0</td>\n",
       "      <td>False</td>\n",
       "      <td>False</td>\n",
       "      <td>-1.1</td>\n",
       "      <td>94.199</td>\n",
       "      <td>-37.5</td>\n",
       "      <td>4963.6</td>\n",
       "      <td>0.879</td>\n",
       "      <td>0</td>\n",
       "      <td>0</td>\n",
       "      <td>1</td>\n",
       "      <td>False</td>\n",
       "    </tr>\n",
       "    <tr>\n",
       "      <th>6</th>\n",
       "      <td>41</td>\n",
       "      <td>2</td>\n",
       "      <td>5</td>\n",
       "      <td>True</td>\n",
       "      <td>False</td>\n",
       "      <td>1</td>\n",
       "      <td>0</td>\n",
       "      <td>0</td>\n",
       "      <td>0</td>\n",
       "      <td>1</td>\n",
       "      <td>0</td>\n",
       "      <td>0</td>\n",
       "      <td>44.000000</td>\n",
       "      <td>2.0</td>\n",
       "      <td>False</td>\n",
       "      <td>False</td>\n",
       "      <td>-0.1</td>\n",
       "      <td>93.200</td>\n",
       "      <td>-42.0</td>\n",
       "      <td>5195.8</td>\n",
       "      <td>4.191</td>\n",
       "      <td>0</td>\n",
       "      <td>1</td>\n",
       "      <td>0</td>\n",
       "      <td>False</td>\n",
       "    </tr>\n",
       "    <tr>\n",
       "      <th>7</th>\n",
       "      <td>31</td>\n",
       "      <td>1</td>\n",
       "      <td>4</td>\n",
       "      <td>False</td>\n",
       "      <td>False</td>\n",
       "      <td>1</td>\n",
       "      <td>0</td>\n",
       "      <td>0</td>\n",
       "      <td>0</td>\n",
       "      <td>1</td>\n",
       "      <td>0</td>\n",
       "      <td>1</td>\n",
       "      <td>68.000000</td>\n",
       "      <td>1.0</td>\n",
       "      <td>False</td>\n",
       "      <td>True</td>\n",
       "      <td>-0.1</td>\n",
       "      <td>93.200</td>\n",
       "      <td>-42.0</td>\n",
       "      <td>5195.8</td>\n",
       "      <td>4.153</td>\n",
       "      <td>1</td>\n",
       "      <td>0</td>\n",
       "      <td>0</td>\n",
       "      <td>False</td>\n",
       "    </tr>\n",
       "    <tr>\n",
       "      <th>8</th>\n",
       "      <td>35</td>\n",
       "      <td>0</td>\n",
       "      <td>2</td>\n",
       "      <td>False</td>\n",
       "      <td>False</td>\n",
       "      <td>0</td>\n",
       "      <td>1</td>\n",
       "      <td>0</td>\n",
       "      <td>0</td>\n",
       "      <td>0</td>\n",
       "      <td>1</td>\n",
       "      <td>3</td>\n",
       "      <td>256.974477</td>\n",
       "      <td>1.0</td>\n",
       "      <td>False</td>\n",
       "      <td>False</td>\n",
       "      <td>1.1</td>\n",
       "      <td>93.994</td>\n",
       "      <td>-36.4</td>\n",
       "      <td>5191.0</td>\n",
       "      <td>4.855</td>\n",
       "      <td>0</td>\n",
       "      <td>1</td>\n",
       "      <td>0</td>\n",
       "      <td>False</td>\n",
       "    </tr>\n",
       "    <tr>\n",
       "      <th>9</th>\n",
       "      <td>25</td>\n",
       "      <td>1</td>\n",
       "      <td>1</td>\n",
       "      <td>True</td>\n",
       "      <td>False</td>\n",
       "      <td>0</td>\n",
       "      <td>0</td>\n",
       "      <td>1</td>\n",
       "      <td>0</td>\n",
       "      <td>1</td>\n",
       "      <td>0</td>\n",
       "      <td>3</td>\n",
       "      <td>301.000000</td>\n",
       "      <td>1.0</td>\n",
       "      <td>False</td>\n",
       "      <td>False</td>\n",
       "      <td>1.4</td>\n",
       "      <td>93.918</td>\n",
       "      <td>-42.7</td>\n",
       "      <td>5228.1</td>\n",
       "      <td>4.958</td>\n",
       "      <td>0</td>\n",
       "      <td>0</td>\n",
       "      <td>1</td>\n",
       "      <td>False</td>\n",
       "    </tr>\n",
       "  </tbody>\n",
       "</table>\n",
       "</div>"
      ],
      "text/plain": [
       "   age  job  education  housing   loan  winter  spring  summer  autumn  \\\n",
       "0   30    0          2     True  False       0       1       0       0   \n",
       "1   39    1          3    False  False       0       1       0       0   \n",
       "2   25    1          3     True  False       0       0       1       0   \n",
       "3   47    2          5     True  False       1       0       0       0   \n",
       "4   32    1          5    False  False       0       0       0       1   \n",
       "5   32    2          5     True  False       0       0       0       1   \n",
       "6   41    2          5     True  False       1       0       0       0   \n",
       "7   31    1          4    False  False       1       0       0       0   \n",
       "8   35    0          2    False  False       0       1       0       0   \n",
       "9   25    1          1     True  False       0       0       1       0   \n",
       "\n",
       "   cellular  telephone  anxiety    duration  campaign  pdays  previous  \\\n",
       "0         1          0        4  487.000000       2.0  False     False   \n",
       "1         0          1        4  346.000000       4.0  False     False   \n",
       "2         0          1        2  227.000000       1.0  False     False   \n",
       "3         1          0        0   58.000000       1.0  False     False   \n",
       "4         1          0        3  128.000000       3.0  False      True   \n",
       "5         1          0        0  290.000000       4.0  False     False   \n",
       "6         1          0        0   44.000000       2.0  False     False   \n",
       "7         1          0        1   68.000000       1.0  False      True   \n",
       "8         0          1        3  256.974477       1.0  False     False   \n",
       "9         1          0        3  301.000000       1.0  False     False   \n",
       "\n",
       "   emp_var_rate  cons_price_idx  cons_conf_idx  nr_employed  euribor3m  \\\n",
       "0          -1.8          92.893          -46.2       5099.1      1.313   \n",
       "1           1.1          93.994          -36.4       5191.0      4.855   \n",
       "2           1.4          94.465          -41.8       5228.1      4.962   \n",
       "3          -0.1          93.200          -42.0       5195.8      4.191   \n",
       "4          -1.1          94.199          -37.5       4963.6      0.884   \n",
       "5          -1.1          94.199          -37.5       4963.6      0.879   \n",
       "6          -0.1          93.200          -42.0       5195.8      4.191   \n",
       "7          -0.1          93.200          -42.0       5195.8      4.153   \n",
       "8           1.1          93.994          -36.4       5191.0      4.855   \n",
       "9           1.4          93.918          -42.7       5228.1      4.958   \n",
       "\n",
       "   divorced  married  single  subscribed?  \n",
       "0         0        1       0        False  \n",
       "1         0        0       1        False  \n",
       "2         0        1       0        False  \n",
       "3         0        1       0        False  \n",
       "4         0        0       1        False  \n",
       "5         0        0       1        False  \n",
       "6         0        1       0        False  \n",
       "7         1        0       0        False  \n",
       "8         0        1       0        False  \n",
       "9         0        0       1        False  "
      ]
     },
     "execution_count": 3,
     "metadata": {},
     "output_type": "execute_result"
    }
   ],
   "source": [
    "banks.head(10)"
   ]
  },
  {
   "cell_type": "code",
   "execution_count": 4,
   "id": "e685a547",
   "metadata": {
    "scrolled": false
   },
   "outputs": [
    {
     "data": {
      "text/plain": [
       "age                 int64\n",
       "job                 int64\n",
       "education           int64\n",
       "housing              bool\n",
       "loan                 bool\n",
       "winter              int64\n",
       "spring              int64\n",
       "summer              int64\n",
       "autumn              int64\n",
       "cellular            int64\n",
       "telephone           int64\n",
       "anxiety             int64\n",
       "duration          float64\n",
       "campaign          float64\n",
       "pdays                bool\n",
       "previous             bool\n",
       "emp_var_rate      float64\n",
       "cons_price_idx    float64\n",
       "cons_conf_idx     float64\n",
       "nr_employed       float64\n",
       "euribor3m         float64\n",
       "divorced            int64\n",
       "married             int64\n",
       "single              int64\n",
       "subscribed?          bool\n",
       "dtype: object"
      ]
     },
     "execution_count": 4,
     "metadata": {},
     "output_type": "execute_result"
    }
   ],
   "source": [
    "banks.dtypes"
   ]
  },
  {
   "cell_type": "code",
   "execution_count": 5,
   "id": "cb163705",
   "metadata": {},
   "outputs": [],
   "source": [
    "banks=banks.dropna()"
   ]
  },
  {
   "cell_type": "markdown",
   "id": "cb07025e",
   "metadata": {},
   "source": [
    "Nakon dorade podataka vreme je da podelimo skup u dva dela, ulazne podatke (X) i izlazne podatke (y)."
   ]
  },
  {
   "cell_type": "code",
   "execution_count": 6,
   "id": "9a9587c6",
   "metadata": {},
   "outputs": [],
   "source": [
    "X=banks.drop('subscribed?', axis=1)\n",
    "y=banks['subscribed?']"
   ]
  },
  {
   "cell_type": "code",
   "execution_count": 7,
   "id": "c0c2841d",
   "metadata": {},
   "outputs": [
    {
     "data": {
      "text/plain": [
       "0    False\n",
       "1    False\n",
       "2    False\n",
       "3    False\n",
       "4    False\n",
       "Name: subscribed?, dtype: bool"
      ]
     },
     "execution_count": 7,
     "metadata": {},
     "output_type": "execute_result"
    }
   ],
   "source": [
    "y.head()"
   ]
  },
  {
   "cell_type": "code",
   "execution_count": 8,
   "id": "93bb8d66",
   "metadata": {},
   "outputs": [
    {
     "data": {
      "text/html": [
       "<div>\n",
       "<style scoped>\n",
       "    .dataframe tbody tr th:only-of-type {\n",
       "        vertical-align: middle;\n",
       "    }\n",
       "\n",
       "    .dataframe tbody tr th {\n",
       "        vertical-align: top;\n",
       "    }\n",
       "\n",
       "    .dataframe thead th {\n",
       "        text-align: right;\n",
       "    }\n",
       "</style>\n",
       "<table border=\"1\" class=\"dataframe\">\n",
       "  <thead>\n",
       "    <tr style=\"text-align: right;\">\n",
       "      <th></th>\n",
       "      <th>age</th>\n",
       "      <th>job</th>\n",
       "      <th>education</th>\n",
       "      <th>housing</th>\n",
       "      <th>loan</th>\n",
       "      <th>winter</th>\n",
       "      <th>spring</th>\n",
       "      <th>summer</th>\n",
       "      <th>autumn</th>\n",
       "      <th>cellular</th>\n",
       "      <th>telephone</th>\n",
       "      <th>anxiety</th>\n",
       "      <th>duration</th>\n",
       "      <th>campaign</th>\n",
       "      <th>pdays</th>\n",
       "      <th>previous</th>\n",
       "      <th>emp_var_rate</th>\n",
       "      <th>cons_price_idx</th>\n",
       "      <th>cons_conf_idx</th>\n",
       "      <th>nr_employed</th>\n",
       "      <th>euribor3m</th>\n",
       "      <th>divorced</th>\n",
       "      <th>married</th>\n",
       "      <th>single</th>\n",
       "    </tr>\n",
       "  </thead>\n",
       "  <tbody>\n",
       "    <tr>\n",
       "      <th>0</th>\n",
       "      <td>30</td>\n",
       "      <td>0</td>\n",
       "      <td>2</td>\n",
       "      <td>True</td>\n",
       "      <td>False</td>\n",
       "      <td>0</td>\n",
       "      <td>1</td>\n",
       "      <td>0</td>\n",
       "      <td>0</td>\n",
       "      <td>1</td>\n",
       "      <td>0</td>\n",
       "      <td>4</td>\n",
       "      <td>487.0</td>\n",
       "      <td>2.0</td>\n",
       "      <td>False</td>\n",
       "      <td>False</td>\n",
       "      <td>-1.8</td>\n",
       "      <td>92.893</td>\n",
       "      <td>-46.2</td>\n",
       "      <td>5099.1</td>\n",
       "      <td>1.313</td>\n",
       "      <td>0</td>\n",
       "      <td>1</td>\n",
       "      <td>0</td>\n",
       "    </tr>\n",
       "    <tr>\n",
       "      <th>1</th>\n",
       "      <td>39</td>\n",
       "      <td>1</td>\n",
       "      <td>3</td>\n",
       "      <td>False</td>\n",
       "      <td>False</td>\n",
       "      <td>0</td>\n",
       "      <td>1</td>\n",
       "      <td>0</td>\n",
       "      <td>0</td>\n",
       "      <td>0</td>\n",
       "      <td>1</td>\n",
       "      <td>4</td>\n",
       "      <td>346.0</td>\n",
       "      <td>4.0</td>\n",
       "      <td>False</td>\n",
       "      <td>False</td>\n",
       "      <td>1.1</td>\n",
       "      <td>93.994</td>\n",
       "      <td>-36.4</td>\n",
       "      <td>5191.0</td>\n",
       "      <td>4.855</td>\n",
       "      <td>0</td>\n",
       "      <td>0</td>\n",
       "      <td>1</td>\n",
       "    </tr>\n",
       "    <tr>\n",
       "      <th>2</th>\n",
       "      <td>25</td>\n",
       "      <td>1</td>\n",
       "      <td>3</td>\n",
       "      <td>True</td>\n",
       "      <td>False</td>\n",
       "      <td>0</td>\n",
       "      <td>0</td>\n",
       "      <td>1</td>\n",
       "      <td>0</td>\n",
       "      <td>0</td>\n",
       "      <td>1</td>\n",
       "      <td>2</td>\n",
       "      <td>227.0</td>\n",
       "      <td>1.0</td>\n",
       "      <td>False</td>\n",
       "      <td>False</td>\n",
       "      <td>1.4</td>\n",
       "      <td>94.465</td>\n",
       "      <td>-41.8</td>\n",
       "      <td>5228.1</td>\n",
       "      <td>4.962</td>\n",
       "      <td>0</td>\n",
       "      <td>1</td>\n",
       "      <td>0</td>\n",
       "    </tr>\n",
       "    <tr>\n",
       "      <th>3</th>\n",
       "      <td>47</td>\n",
       "      <td>2</td>\n",
       "      <td>5</td>\n",
       "      <td>True</td>\n",
       "      <td>False</td>\n",
       "      <td>1</td>\n",
       "      <td>0</td>\n",
       "      <td>0</td>\n",
       "      <td>0</td>\n",
       "      <td>1</td>\n",
       "      <td>0</td>\n",
       "      <td>0</td>\n",
       "      <td>58.0</td>\n",
       "      <td>1.0</td>\n",
       "      <td>False</td>\n",
       "      <td>False</td>\n",
       "      <td>-0.1</td>\n",
       "      <td>93.200</td>\n",
       "      <td>-42.0</td>\n",
       "      <td>5195.8</td>\n",
       "      <td>4.191</td>\n",
       "      <td>0</td>\n",
       "      <td>1</td>\n",
       "      <td>0</td>\n",
       "    </tr>\n",
       "    <tr>\n",
       "      <th>4</th>\n",
       "      <td>32</td>\n",
       "      <td>1</td>\n",
       "      <td>5</td>\n",
       "      <td>False</td>\n",
       "      <td>False</td>\n",
       "      <td>0</td>\n",
       "      <td>0</td>\n",
       "      <td>0</td>\n",
       "      <td>1</td>\n",
       "      <td>1</td>\n",
       "      <td>0</td>\n",
       "      <td>3</td>\n",
       "      <td>128.0</td>\n",
       "      <td>3.0</td>\n",
       "      <td>False</td>\n",
       "      <td>True</td>\n",
       "      <td>-1.1</td>\n",
       "      <td>94.199</td>\n",
       "      <td>-37.5</td>\n",
       "      <td>4963.6</td>\n",
       "      <td>0.884</td>\n",
       "      <td>0</td>\n",
       "      <td>0</td>\n",
       "      <td>1</td>\n",
       "    </tr>\n",
       "  </tbody>\n",
       "</table>\n",
       "</div>"
      ],
      "text/plain": [
       "   age  job  education  housing   loan  winter  spring  summer  autumn  \\\n",
       "0   30    0          2     True  False       0       1       0       0   \n",
       "1   39    1          3    False  False       0       1       0       0   \n",
       "2   25    1          3     True  False       0       0       1       0   \n",
       "3   47    2          5     True  False       1       0       0       0   \n",
       "4   32    1          5    False  False       0       0       0       1   \n",
       "\n",
       "   cellular  telephone  anxiety  duration  campaign  pdays  previous  \\\n",
       "0         1          0        4     487.0       2.0  False     False   \n",
       "1         0          1        4     346.0       4.0  False     False   \n",
       "2         0          1        2     227.0       1.0  False     False   \n",
       "3         1          0        0      58.0       1.0  False     False   \n",
       "4         1          0        3     128.0       3.0  False      True   \n",
       "\n",
       "   emp_var_rate  cons_price_idx  cons_conf_idx  nr_employed  euribor3m  \\\n",
       "0          -1.8          92.893          -46.2       5099.1      1.313   \n",
       "1           1.1          93.994          -36.4       5191.0      4.855   \n",
       "2           1.4          94.465          -41.8       5228.1      4.962   \n",
       "3          -0.1          93.200          -42.0       5195.8      4.191   \n",
       "4          -1.1          94.199          -37.5       4963.6      0.884   \n",
       "\n",
       "   divorced  married  single  \n",
       "0         0        1       0  \n",
       "1         0        0       1  \n",
       "2         0        1       0  \n",
       "3         0        1       0  \n",
       "4         0        0       1  "
      ]
     },
     "execution_count": 8,
     "metadata": {},
     "output_type": "execute_result"
    }
   ],
   "source": [
    "X.head()"
   ]
  },
  {
   "cell_type": "markdown",
   "id": "05ab97e0",
   "metadata": {},
   "source": [
    "Pre nego što počnemo sa pojedinačnim algoritmima, dodaćemo metrike performansa, matricu konfuzije i definišemo funckiju za prikaz dobijenih vrednosti. Takođe ćemo da izvršimo proveru tačnosti večinskog izbora, tj. ukoliko svaki atrbiut proglasimo za False, koliko ćemo procentualno biti u pravu. Dobili smo visok procenat 89.1%, što može da implicira da tačnost klasifikacije možda nije najbolja mera za evaulaciju."
   ]
  },
  {
   "cell_type": "code",
   "execution_count": 9,
   "id": "f6e8c0b1",
   "metadata": {
    "scrolled": true
   },
   "outputs": [
    {
     "data": {
      "text/plain": [
       "0.8914525432616676"
      ]
     },
     "execution_count": 9,
     "metadata": {},
     "output_type": "execute_result"
    }
   ],
   "source": [
    "from sklearn.metrics import confusion_matrix, accuracy_score, recall_score, precision_score, f1_score, ConfusionMatrixDisplay\n",
    "def print_performance(y, y_hat):\n",
    "    print(f'Accuracy: {accuracy_score(y, y_hat)}')\n",
    "    print(f'Precision: {precision_score(y, y_hat)}')\n",
    "    print(f'Recall: {recall_score(y, y_hat)}')\n",
    "    print(f'F1: {f1_score(y, y_hat)}')\n",
    "accuracy_score(y, np.repeat(0, len(y)))"
   ]
  },
  {
   "cell_type": "markdown",
   "id": "47bf0cde",
   "metadata": {},
   "source": [
    "Sada ćemo proći kroz 4 osnovna algoritma, logističku regresiju, naivni Bayes, stablo odlučivanja i kNN klasifikaciju. Za svaki algoritam ćemo kreirati modele prvo nad celim skupom, zatim ćemo skup podeliti na train/test, zatim pomoću kros-valudacije, i na kraju ćemo da korigujemo parametre algoritma kako bismo pokušali da poboljšamo njegovu klasifikaciju."
   ]
  },
  {
   "cell_type": "markdown",
   "id": "24afb004",
   "metadata": {},
   "source": [
    "## Logistička regresija"
   ]
  },
  {
   "cell_type": "code",
   "execution_count": 10,
   "id": "a77f4c1b",
   "metadata": {},
   "outputs": [],
   "source": [
    "from sklearn.linear_model import LogisticRegression\n",
    "model = LogisticRegression(max_iter=1000)"
   ]
  },
  {
   "cell_type": "code",
   "execution_count": 11,
   "id": "4b70ab66",
   "metadata": {},
   "outputs": [
    {
     "data": {
      "text/plain": [
       "LogisticRegression(max_iter=1000)"
      ]
     },
     "execution_count": 11,
     "metadata": {},
     "output_type": "execute_result"
    }
   ],
   "source": [
    "model.fit(X,y)"
   ]
  },
  {
   "cell_type": "code",
   "execution_count": 12,
   "id": "d6fa29e5",
   "metadata": {},
   "outputs": [
    {
     "name": "stdout",
     "output_type": "stream",
     "text": [
      "Accuracy: 0.9137388568432092\n",
      "Precision: 0.6693227091633466\n",
      "Recall: 0.4057971014492754\n",
      "F1: 0.505263157894737\n"
     ]
    }
   ],
   "source": [
    "print_performance(y, model.predict(X))"
   ]
  },
  {
   "cell_type": "code",
   "execution_count": 13,
   "id": "6ce5c349",
   "metadata": {
    "scrolled": false
   },
   "outputs": [
    {
     "data": {
      "image/png": "[encoded data removed]",
      "text/plain": [
       "<Figure size 640x480 with 2 Axes>"
      ]
     },
     "metadata": {},
     "output_type": "display_data"
    }
   ],
   "source": [
    "ConfusionMatrixDisplay(confusion_matrix(y, model.predict(X)), display_labels = [False, True]).plot()\n",
    "plt.show()"
   ]
  },
  {
   "cell_type": "markdown",
   "id": "f92624dd",
   "metadata": {},
   "source": [
    "Primenom logističke regresije na osnovnom skupu podataka smo doblili visok rezultat za tačnost klasifikacije (viša od većisnke klasifikacije), ali nam je zato odziv imao vrlo nisku vrednost. Prceiznost je donekle i prihvatljiva. Pošto moramo da definišemo koja nam je mera bitnija, u ovom slulaju ćemo najviše gledati odziv, pošto nam je skuplja greška ukoliko klasifikujemo osobu koja nije ostavila depozit kao osobu koja jeste, nego obrnuto."
   ]
  },
  {
   "cell_type": "code",
   "execution_count": 14,
   "id": "ff8cce28",
   "metadata": {},
   "outputs": [],
   "source": [
    "from sklearn.model_selection import train_test_split\n",
    "X_train, X_test, y_train, y_test = train_test_split(X, y, test_size=0.3, random_state=1111)"
   ]
  },
  {
   "cell_type": "code",
   "execution_count": 15,
   "id": "cfdbcb15",
   "metadata": {},
   "outputs": [
    {
     "data": {
      "text/plain": [
       "LogisticRegression(max_iter=1000)"
      ]
     },
     "execution_count": 15,
     "metadata": {},
     "output_type": "execute_result"
    }
   ],
   "source": [
    "model.fit(X_train, y_train)"
   ]
  },
  {
   "cell_type": "code",
   "execution_count": 16,
   "id": "8dcc4191",
   "metadata": {},
   "outputs": [
    {
     "name": "stdout",
     "output_type": "stream",
     "text": [
      "Accuracy: 0.9109170305676856\n",
      "Precision: 0.6153846153846154\n",
      "Recall: 0.4\n",
      "F1: 0.4848484848484849\n"
     ]
    }
   ],
   "source": [
    "print_performance(y_test, model.predict(X_test))"
   ]
  },
  {
   "cell_type": "code",
   "execution_count": 17,
   "id": "6bba5092",
   "metadata": {},
   "outputs": [
    {
     "data": {
      "image/png": "[encoded data removed]",
      "text/plain": [
       "<Figure size 640x480 with 2 Axes>"
      ]
     },
     "metadata": {},
     "output_type": "display_data"
    }
   ],
   "source": [
    "ConfusionMatrixDisplay(confusion_matrix(y_test, model.predict(X_test)), display_labels = [False, True]).plot()\n",
    "plt.show()"
   ]
  },
  {
   "cell_type": "markdown",
   "id": "14b602ae",
   "metadata": {},
   "source": [
    "Nakon podele skupa na test i train (train je 70%, test 30%) dobili smo malo lošije rezultate za svaku od metrika."
   ]
  },
  {
   "cell_type": "code",
   "execution_count": 18,
   "id": "45b0104b",
   "metadata": {},
   "outputs": [],
   "source": [
    "from sklearn.model_selection import cross_validate"
   ]
  },
  {
   "cell_type": "code",
   "execution_count": 19,
   "id": "de3e04b8",
   "metadata": {},
   "outputs": [],
   "source": [
    "model=LogisticRegression(max_iter=2000)"
   ]
  },
  {
   "cell_type": "code",
   "execution_count": 20,
   "id": "5dfd5af4",
   "metadata": {},
   "outputs": [],
   "source": [
    "result=cross_validate(model, X, y, cv=10, scoring=['accuracy', 'precision', 'recall', 'f1'])"
   ]
  },
  {
   "cell_type": "code",
   "execution_count": 21,
   "id": "6a69b0b2",
   "metadata": {},
   "outputs": [],
   "source": [
    "def print_cv_performance(result):\n",
    "    print(f\"Accuracy: {round(np.mean(result['test_accuracy'])*100, 2)}% +/- {round(np.std(result['test_accuracy'])*100, 2)}%\")\n",
    "    print(f\"Precision: {round(np.mean(result['test_precision'])*100, 2)}% +/- {round(np.std(result['test_precision'])*100, 2)}%\")\n",
    "    print(f\"Recall: {round(np.mean(result['test_recall'])*100, 2)}% +/- {round(np.std(result['test_recall'])*100, 2)}%\")\n",
    "    print(f\"F1: {round(np.mean(result['test_f1'])*100, 2)}% +/- {round(np.std(result['test_f1'])*100, 2)}%\")"
   ]
  },
  {
   "cell_type": "code",
   "execution_count": 22,
   "id": "5400c5bc",
   "metadata": {},
   "outputs": [
    {
     "name": "stdout",
     "output_type": "stream",
     "text": [
      "Accuracy: 91.24% +/- 0.54%\n",
      "Precision: 66.26% +/- 5.18%\n",
      "Recall: 40.31% +/- 7.56%\n",
      "F1: 49.61% +/- 5.48%\n"
     ]
    }
   ],
   "source": [
    "print_cv_performance(result)"
   ]
  },
  {
   "cell_type": "markdown",
   "id": "51e8f224",
   "metadata": {},
   "source": [
    "Uvođenjem kros-validacije dobili smo da su prosečni rezultati vrlo slični početnom modelu, a takođe možemo da primetimo da postoji visok nivo variranja vrednosti kod odziva."
   ]
  },
  {
   "cell_type": "code",
   "execution_count": 49,
   "id": "ce6e8a73",
   "metadata": {},
   "outputs": [],
   "source": [
    "lr=[0.001, 0.01, 0.05, 0.1, 0.2, 0.3, 0.5, 0.7, 1, 5]"
   ]
  },
  {
   "cell_type": "code",
   "execution_count": 53,
   "id": "2fa23766",
   "metadata": {
    "scrolled": false
   },
   "outputs": [
    {
     "name": "stdout",
     "output_type": "stream",
     "text": [
      "Learning rate = 0.001\n",
      "Accuracy: 90.61% +/- 0.73%\n",
      "Precision: 68.79% +/- 8.75%\n",
      "Recall: 25.35% +/- 7.18%\n",
      "F1: 36.45% +/- 8.13%\n",
      "-------------------------------\n",
      "Learning rate = 0.01\n",
      "Accuracy: 91.09% +/- 1.06%\n",
      "Precision: 68.38% +/- 9.14%\n",
      "Recall: 34.03% +/- 8.67%\n",
      "F1: 44.86% +/- 8.23%\n",
      "-------------------------------\n",
      "Learning rate = 0.05\n",
      "Accuracy: 91.11% +/- 0.96%\n",
      "Precision: 65.99% +/- 7.72%\n",
      "Recall: 37.89% +/- 8.03%\n",
      "F1: 47.71% +/- 7.21%\n",
      "-------------------------------\n",
      "Learning rate = 0.1\n",
      "Accuracy: 91.14% +/- 0.77%\n",
      "Precision: 65.9% +/- 6.67%\n",
      "Recall: 38.84% +/- 8.22%\n",
      "F1: 48.35% +/- 6.59%\n",
      "-------------------------------\n",
      "Learning rate = 0.2\n",
      "Accuracy: 91.32% +/- 0.87%\n",
      "Precision: 67.02% +/- 5.8%\n",
      "Recall: 39.59% +/- 8.49%\n",
      "F1: 49.32% +/- 7.25%\n",
      "-------------------------------\n",
      "Learning rate = 0.3\n",
      "Accuracy: 91.19% +/- 0.66%\n",
      "Precision: 65.58% +/- 5.33%\n",
      "Recall: 40.55% +/- 7.74%\n",
      "F1: 49.61% +/- 5.8%\n",
      "-------------------------------\n",
      "Learning rate = 0.5\n",
      "Accuracy: 91.22% +/- 0.98%\n",
      "Precision: 66.19% +/- 7.56%\n",
      "Recall: 39.84% +/- 7.84%\n",
      "F1: 49.29% +/- 6.93%\n",
      "-------------------------------\n",
      "Learning rate = 0.7\n",
      "Accuracy: 91.14% +/- 0.64%\n",
      "Precision: 65.61% +/- 5.36%\n",
      "Recall: 39.83% +/- 7.71%\n",
      "F1: 49.01% +/- 5.61%\n",
      "-------------------------------\n",
      "Learning rate = 1\n",
      "Accuracy: 91.24% +/- 0.54%\n",
      "Precision: 66.26% +/- 5.18%\n",
      "Recall: 40.31% +/- 7.56%\n",
      "F1: 49.61% +/- 5.48%\n",
      "-------------------------------\n",
      "Learning rate = 5\n",
      "Accuracy: 91.22% +/- 0.69%\n",
      "Precision: 65.58% +/- 5.1%\n",
      "Recall: 40.3% +/- 7.63%\n",
      "F1: 49.56% +/- 6.12%\n",
      "-------------------------------\n"
     ]
    }
   ],
   "source": [
    "for i in lr:\n",
    "    print(f'Learning rate = {i}')\n",
    "    model=LogisticRegression(max_iter=2000, C=i)\n",
    "    result=cross_validate(model, X, y, cv=10, scoring=['accuracy', 'precision', 'recall', 'f1'])\n",
    "    print_cv_performance(result)\n",
    "    print('-------------------------------')"
   ]
  },
  {
   "cell_type": "code",
   "execution_count": 54,
   "id": "14995bcc",
   "metadata": {},
   "outputs": [
    {
     "name": "stdout",
     "output_type": "stream",
     "text": [
      "Learning rate = 0.001\n",
      "Accuracy: 90.64% +/- 0.78%\n",
      "Precision: 68.95% +/- 8.9%\n",
      "Recall: 25.59% +/- 7.44%\n",
      "F1: 36.72% +/- 8.38%\n",
      "-------------------------------\n",
      "Learning rate = 0.01\n",
      "Accuracy: 91.06% +/- 1.08%\n",
      "Precision: 68.12% +/- 9.11%\n",
      "Recall: 33.8% +/- 9.62%\n",
      "F1: 44.46% +/- 9.17%\n",
      "-------------------------------\n",
      "Learning rate = 0.05\n",
      "Accuracy: 91.14% +/- 0.93%\n",
      "Precision: 66.29% +/- 7.4%\n",
      "Recall: 38.15% +/- 7.72%\n",
      "F1: 47.99% +/- 6.73%\n",
      "-------------------------------\n",
      "Learning rate = 0.1\n",
      "Accuracy: 91.24% +/- 0.92%\n",
      "Precision: 67.19% +/- 7.75%\n",
      "Recall: 38.86% +/- 7.54%\n",
      "F1: 48.77% +/- 6.43%\n",
      "-------------------------------\n",
      "Learning rate = 0.2\n",
      "Accuracy: 91.16% +/- 0.94%\n",
      "Precision: 66.4% +/- 8.05%\n",
      "Recall: 38.86% +/- 7.7%\n",
      "F1: 48.53% +/- 6.64%\n",
      "-------------------------------\n",
      "Learning rate = 0.3\n",
      "Accuracy: 91.06% +/- 0.87%\n",
      "Precision: 65.47% +/- 7.3%\n",
      "Recall: 38.37% +/- 7.78%\n",
      "F1: 47.89% +/- 6.53%\n",
      "-------------------------------\n",
      "Learning rate = 0.5\n",
      "Accuracy: 91.09% +/- 0.89%\n",
      "Precision: 65.52% +/- 7.86%\n",
      "Recall: 39.1% +/- 7.74%\n",
      "F1: 48.45% +/- 6.49%\n",
      "-------------------------------\n",
      "Learning rate = 0.7\n",
      "Accuracy: 91.11% +/- 0.91%\n",
      "Precision: 65.82% +/- 7.79%\n",
      "Recall: 38.86% +/- 7.46%\n",
      "F1: 48.4% +/- 6.44%\n",
      "-------------------------------\n",
      "Learning rate = 1\n",
      "Accuracy: 91.14% +/- 0.92%\n",
      "Precision: 66.05% +/- 7.74%\n",
      "Recall: 38.86% +/- 7.7%\n",
      "F1: 48.45% +/- 6.64%\n",
      "-------------------------------\n",
      "Learning rate = 5\n",
      "Accuracy: 91.09% +/- 0.88%\n",
      "Precision: 65.7% +/- 7.68%\n",
      "Recall: 38.61% +/- 7.41%\n",
      "F1: 48.16% +/- 6.31%\n",
      "-------------------------------\n"
     ]
    }
   ],
   "source": [
    "for i in lr:\n",
    "    print(f'Learning rate = {i}')\n",
    "    model=LogisticRegression(max_iter=2000, C=i, solver='liblinear')\n",
    "    result=cross_validate(model, X, y, cv=10, scoring=['accuracy', 'precision', 'recall', 'f1'])\n",
    "    print_cv_performance(result)\n",
    "    print('-------------------------------')"
   ]
  },
  {
   "cell_type": "markdown",
   "id": "f6f41d0b",
   "metadata": {},
   "source": [
    "U ovom koraku smo promenili hiperparametre logističke regresije i testirali model. Definisali smo niz `lr` koji predstavlja skup vrednosti parametra learning rate i kroz petlju smo ga menjali. U prvom slučaju smo ostavili podrazumevani solver (`lbfgs`), a u drugom smo definisali da solver bude `liblinear`. Rezultati nisu doveli do značajnog poboljšanja i najbolji su bili za `solver='lbfgs'` i `C=0.3`."
   ]
  },
  {
   "cell_type": "code",
   "execution_count": 65,
   "id": "dff8e802",
   "metadata": {},
   "outputs": [],
   "source": [
    "model=LogisticRegression(max_iter=1000, C=0.3).fit(X, y)"
   ]
  },
  {
   "cell_type": "code",
   "execution_count": 66,
   "id": "ff7d888b",
   "metadata": {},
   "outputs": [],
   "source": [
    "y_hat=model.predict_proba(X)[:, 1] >= 0.2"
   ]
  },
  {
   "cell_type": "code",
   "execution_count": 67,
   "id": "cdf28e28",
   "metadata": {},
   "outputs": [
    {
     "name": "stdout",
     "output_type": "stream",
     "text": [
      "Accuracy: 0.894861038280021\n",
      "Precision: 0.5104669887278583\n",
      "Recall: 0.7657004830917874\n",
      "F1: 0.61256038647343\n"
     ]
    }
   ],
   "source": [
    "print_performance(y, y_hat)"
   ]
  },
  {
   "cell_type": "code",
   "execution_count": 68,
   "id": "bbc14bb8",
   "metadata": {},
   "outputs": [
    {
     "data": {
      "image/png": "[encoded data removed]",
      "text/plain": [
       "<Figure size 640x480 with 2 Axes>"
      ]
     },
     "metadata": {},
     "output_type": "display_data"
    }
   ],
   "source": [
    "ConfusionMatrixDisplay(confusion_matrix(y, y_hat), display_labels = [False, True]).plot()\n",
    "plt.show()"
   ]
  },
  {
   "cell_type": "code",
   "execution_count": 69,
   "id": "56c56a16",
   "metadata": {},
   "outputs": [],
   "source": [
    "y_hat=model.predict_proba(X)[:, 1] >= 0.3"
   ]
  },
  {
   "cell_type": "code",
   "execution_count": 70,
   "id": "c37b8640",
   "metadata": {},
   "outputs": [
    {
     "name": "stdout",
     "output_type": "stream",
     "text": [
      "Accuracy: 0.9116413214472994\n",
      "Precision: 0.5849889624724062\n",
      "Recall: 0.6400966183574879\n",
      "F1: 0.6113033448673588\n"
     ]
    }
   ],
   "source": [
    "print_performance(y, y_hat)"
   ]
  },
  {
   "cell_type": "code",
   "execution_count": 71,
   "id": "4de011a1",
   "metadata": {},
   "outputs": [
    {
     "data": {
      "image/png": "[encoded data removed]",
      "text/plain": [
       "<Figure size 640x480 with 2 Axes>"
      ]
     },
     "metadata": {},
     "output_type": "display_data"
    }
   ],
   "source": [
    "ConfusionMatrixDisplay(confusion_matrix(y, y_hat), display_labels = [False, True]).plot()\n",
    "plt.show()"
   ]
  },
  {
   "cell_type": "code",
   "execution_count": 73,
   "id": "fb41bb35",
   "metadata": {},
   "outputs": [
    {
     "name": "stdout",
     "output_type": "stream",
     "text": [
      "Accuracy: 0.8434714210802308\n",
      "Precision: 0.40021810250817885\n",
      "Recall: 0.8864734299516909\n",
      "F1: 0.5514650638617581\n"
     ]
    }
   ],
   "source": [
    "y_hat=model.predict_proba(X)[:, 1] >= 0.1\n",
    "print_performance(y, y_hat)"
   ]
  },
  {
   "cell_type": "code",
   "execution_count": 74,
   "id": "29b03a08",
   "metadata": {
    "scrolled": false
   },
   "outputs": [
    {
     "data": {
      "image/png": "[encoded data removed]",
      "text/plain": [
       "<Figure size 640x480 with 2 Axes>"
      ]
     },
     "metadata": {},
     "output_type": "display_data"
    }
   ],
   "source": [
    "ConfusionMatrixDisplay(confusion_matrix(y, y_hat), display_labels = [False, True]).plot()\n",
    "plt.show()"
   ]
  },
  {
   "cell_type": "code",
   "execution_count": 75,
   "id": "ce823392",
   "metadata": {},
   "outputs": [],
   "source": [
    "from sklearn.metrics import roc_auc_score, roc_curve"
   ]
  },
  {
   "cell_type": "code",
   "execution_count": 79,
   "id": "40c8a539",
   "metadata": {},
   "outputs": [],
   "source": [
    "y_hat=model.predict_proba(X)[:, 1]\n",
    "roc_auc_score(y, y_hat)"
   ]
  },
  {
   "cell_type": "code",
   "execution_count": 81,
   "id": "7e9c0103",
   "metadata": {},
   "outputs": [
    {
     "data": {
      "image/png": "[encoded data removed]",
      "text/plain": [
       "<Figure size 640x480 with 1 Axes>"
      ]
     },
     "metadata": {},
     "output_type": "display_data"
    }
   ],
   "source": [
    "fpr, tpr, thresholds = roc_curve(y, y_hat)\n",
    "plt.plot(fpr, tpr)\n",
    "plt.show()"
   ]
  },
  {
   "cell_type": "code",
   "execution_count": 85,
   "id": "259f4f50",
   "metadata": {},
   "outputs": [],
   "source": [
    "from sklearn.model_selection import cross_val_score\n",
    "result=cross_val_score(model, X, y, cv=10, scoring='roc_auc')"
   ]
  },
  {
   "cell_type": "code",
   "execution_count": 86,
   "id": "95b0b0dc",
   "metadata": {},
   "outputs": [
    {
     "name": "stdout",
     "output_type": "stream",
     "text": [
      "AUC: 92.5% +/- 2.07%\n"
     ]
    }
   ],
   "source": [
    "print(f\"AUC: {round(np.mean(result)*100, 2)}% +/- {round(np.std(result)*100, 2)}%\")"
   ]
  },
  {
   "cell_type": "markdown",
   "id": "42530e18",
   "metadata": {},
   "source": [
    "Za kraj smo vršili promenu granice odluke našeg modela. Spustili smo je prvo na 0.2 a zatim i na 0.1 i 0.3 pošto nam je želja da odziv bude što bolji. Najbolji rezultati su bili na granici 0.2, jer ukoliko smo nastavili da spuštamo granicu, odziv bi rastao ali bi se preciznost i tačnost drastično smanjivale. Zatim smo odlučili da predstavimo ROC krivu i da pomoću metrike AUC (Area under ROC curve) vidimo koliko nam je model dobar. AUC vrednost je bila vrlo visoka pa samim tim možemo da smatramo da je model prema ovom kriterijumu odličan."
   ]
  },
  {
   "cell_type": "markdown",
   "id": "390b2626",
   "metadata": {},
   "source": [
    "## Naivni Bayes"
   ]
  },
  {
   "cell_type": "code",
   "execution_count": 23,
   "id": "320e7722",
   "metadata": {},
   "outputs": [],
   "source": [
    "from sklearn.naive_bayes import GaussianNB\n",
    "model=GaussianNB()"
   ]
  },
  {
   "cell_type": "code",
   "execution_count": 24,
   "id": "844ad23b",
   "metadata": {},
   "outputs": [
    {
     "data": {
      "text/plain": [
       "GaussianNB()"
      ]
     },
     "execution_count": 24,
     "metadata": {},
     "output_type": "execute_result"
    }
   ],
   "source": [
    "model.fit(X,y)"
   ]
  },
  {
   "cell_type": "code",
   "execution_count": 25,
   "id": "efcb81cb",
   "metadata": {},
   "outputs": [
    {
     "name": "stdout",
     "output_type": "stream",
     "text": [
      "Accuracy: 0.8518615626638699\n",
      "Precision: 0.3857791225416036\n",
      "Recall: 0.6159420289855072\n",
      "F1: 0.47441860465116287\n"
     ]
    }
   ],
   "source": [
    "print_performance(y, model.predict(X))"
   ]
  },
  {
   "cell_type": "code",
   "execution_count": 26,
   "id": "c900a06a",
   "metadata": {
    "scrolled": false
   },
   "outputs": [
    {
     "data": {
      "image/png": "[encoded data removed]",
      "text/plain": [
       "<Figure size 640x480 with 2 Axes>"
      ]
     },
     "metadata": {},
     "output_type": "display_data"
    }
   ],
   "source": [
    "ConfusionMatrixDisplay(confusion_matrix(y, model.predict(X)), display_labels = [False, True]).plot()\n",
    "plt.show()"
   ]
  },
  {
   "cell_type": "markdown",
   "id": "08e9d4bd",
   "metadata": {},
   "source": [
    "Primenom naivnog Bayes-a na originalnom skupu smo postigli ono što smo želeli, a to je viši nivo odziva. Preciznost je mnogo lošija u odnosu na logističku regresiju, ali bismo pre prihvatili ovakav rezultat nego niži nivo odziva."
   ]
  },
  {
   "cell_type": "code",
   "execution_count": 27,
   "id": "efe628de",
   "metadata": {},
   "outputs": [
    {
     "data": {
      "text/plain": [
       "GaussianNB()"
      ]
     },
     "execution_count": 27,
     "metadata": {},
     "output_type": "execute_result"
    }
   ],
   "source": [
    "model.fit(X_train, y_train)"
   ]
  },
  {
   "cell_type": "code",
   "execution_count": 28,
   "id": "22630ded",
   "metadata": {},
   "outputs": [
    {
     "name": "stdout",
     "output_type": "stream",
     "text": [
      "Accuracy: 0.8436681222707424\n",
      "Precision: 0.35609756097560974\n",
      "Recall: 0.6083333333333333\n",
      "F1: 0.44923076923076916\n"
     ]
    }
   ],
   "source": [
    "print_performance(y_test, model.predict(X_test))"
   ]
  },
  {
   "cell_type": "code",
   "execution_count": 29,
   "id": "a1707272",
   "metadata": {},
   "outputs": [
    {
     "data": {
      "image/png": "[encoded data removed]",
      "text/plain": [
       "<Figure size 640x480 with 2 Axes>"
      ]
     },
     "metadata": {},
     "output_type": "display_data"
    }
   ],
   "source": [
    "ConfusionMatrixDisplay(confusion_matrix(y_test, model.predict(X_test)), display_labels = [False, True]).plot()\n",
    "plt.show()"
   ]
  },
  {
   "cell_type": "markdown",
   "id": "f8763db9",
   "metadata": {},
   "source": [
    "Podelom na train i test skup rezultati koje smo dobili su vrlo malo slabiji nego kod prvog modela."
   ]
  },
  {
   "cell_type": "code",
   "execution_count": 30,
   "id": "1b7db82a",
   "metadata": {},
   "outputs": [],
   "source": [
    "result=cross_validate(model, X, y, cv=10, scoring=['accuracy', 'precision', 'recall', 'f1'])"
   ]
  },
  {
   "cell_type": "code",
   "execution_count": 31,
   "id": "2a4d46f6",
   "metadata": {
    "scrolled": true
   },
   "outputs": [
    {
     "name": "stdout",
     "output_type": "stream",
     "text": [
      "Accuracy: 85.16% +/- 1.24%\n",
      "Precision: 38.65% +/- 2.8%\n",
      "Recall: 61.39% +/- 4.89%\n",
      "F1: 47.33% +/- 2.72%\n"
     ]
    }
   ],
   "source": [
    "print_cv_performance(result)"
   ]
  },
  {
   "cell_type": "markdown",
   "id": "9c539419",
   "metadata": {},
   "source": [
    "Uvođenjem kros-validacije smo dobili, kao i kod logističke regresije, vrlo slične rezultate u odnosu na prethodna dva modela."
   ]
  },
  {
   "cell_type": "markdown",
   "id": "4afee94c",
   "metadata": {},
   "source": [
    "Pošto naivni Bayes nema hiperparametre za menjanje, još ćemo samo proveriti njegov AUC skor."
   ]
  },
  {
   "cell_type": "code",
   "execution_count": 89,
   "id": "d785fc4c",
   "metadata": {},
   "outputs": [
    {
     "data": {
      "text/plain": [
       "0.8559775504404661"
      ]
     },
     "execution_count": 89,
     "metadata": {},
     "output_type": "execute_result"
    }
   ],
   "source": [
    "model=GaussianNB().fit(X, y)\n",
    "y_hat=model.predict_proba(X)[:, 1]\n",
    "roc_auc_score(y, y_hat)"
   ]
  },
  {
   "cell_type": "code",
   "execution_count": 90,
   "id": "6b7793b7",
   "metadata": {},
   "outputs": [
    {
     "data": {
      "image/png": "[encoded data removed]",
      "text/plain": [
       "<Figure size 640x480 with 1 Axes>"
      ]
     },
     "metadata": {},
     "output_type": "display_data"
    }
   ],
   "source": [
    "fpr, tpr, thresholds = roc_curve(y, y_hat)\n",
    "plt.plot(fpr, tpr)\n",
    "plt.show()"
   ]
  },
  {
   "cell_type": "code",
   "execution_count": 91,
   "id": "d9f683ad",
   "metadata": {},
   "outputs": [
    {
     "name": "stdout",
     "output_type": "stream",
     "text": [
      "AUC: 85.28% +/- 3.05%\n"
     ]
    }
   ],
   "source": [
    "result=cross_val_score(model, X, y, cv=10, scoring='roc_auc')\n",
    "print(f\"AUC: {round(np.mean(result)*100, 2)}% +/- {round(np.std(result)*100, 2)}%\")"
   ]
  },
  {
   "cell_type": "markdown",
   "id": "15ccc101",
   "metadata": {},
   "source": [
    "Kod ovog modela nismo menjali granicu odluke, pošto je on davao niske rezultate preciznosti, a više rezultate odziva, pa samim tim nam nije odgovaralo ni smanjivanje ni povećanje granice odluke. Na osnovu AUC metrike možemo da kažemo da je ovaj model vrlo dobar."
   ]
  },
  {
   "cell_type": "markdown",
   "id": "f8f42083",
   "metadata": {},
   "source": [
    "## KNN klasifikacija"
   ]
  },
  {
   "cell_type": "code",
   "execution_count": 93,
   "id": "49188650",
   "metadata": {},
   "outputs": [],
   "source": [
    "from sklearn.neighbors import KNeighborsClassifier\n",
    "from warnings import simplefilter\n",
    "simplefilter(action='ignore', category=FutureWarning)\n",
    "model=KNeighborsClassifier()"
   ]
  },
  {
   "cell_type": "code",
   "execution_count": 95,
   "id": "0745f0ad",
   "metadata": {},
   "outputs": [
    {
     "data": {
      "text/plain": [
       "KNeighborsClassifier()"
      ]
     },
     "execution_count": 95,
     "metadata": {},
     "output_type": "execute_result"
    }
   ],
   "source": [
    "model.fit(X, y)"
   ]
  },
  {
   "cell_type": "code",
   "execution_count": 96,
   "id": "1cafacbd",
   "metadata": {},
   "outputs": [
    {
     "name": "stdout",
     "output_type": "stream",
     "text": [
      "Accuracy: 0.9268484530676455\n",
      "Precision: 0.7051671732522796\n",
      "Recall: 0.5603864734299517\n",
      "F1: 0.6244952893674294\n"
     ]
    }
   ],
   "source": [
    "print_performance(y, model.predict(X))"
   ]
  },
  {
   "cell_type": "code",
   "execution_count": 35,
   "id": "aa50fcf8",
   "metadata": {
    "scrolled": false
   },
   "outputs": [
    {
     "name": "stderr",
     "output_type": "stream",
     "text": [
      "D:\\Programi\\Anaconda\\lib\\site-packages\\sklearn\\neighbors\\_classification.py:228: FutureWarning: Unlike other reduction functions (e.g. `skew`, `kurtosis`), the default behavior of `mode` typically preserves the axis it acts along. In SciPy 1.11.0, this behavior will change: the default value of `keepdims` will become False, the `axis` over which the statistic is taken will be eliminated, and the value None will no longer be accepted. Set `keepdims` to True or False to avoid this warning.\n",
      "  mode, _ = stats.mode(_y[neigh_ind, k], axis=1)\n"
     ]
    },
    {
     "data": {
      "image/png": "[encoded data removed]",
      "text/plain": [
       "<Figure size 640x480 with 2 Axes>"
      ]
     },
     "metadata": {},
     "output_type": "display_data"
    }
   ],
   "source": [
    "ConfusionMatrixDisplay(confusion_matrix(y, model.predict(X)), display_labels = [False, True]).plot()\n",
    "plt.show()"
   ]
  },
  {
   "cell_type": "markdown",
   "id": "23b02a5d",
   "metadata": {},
   "source": [
    "Kod modela kNN klasifikacije na originalnom skupu podataka smo dobili vrlo visoke skorove metrika. Preciznost je vrlo visoka, kao i tačnost. Odziv ima nižu vrednost u odnosu na naivni bayes ali nije ni previše loša."
   ]
  },
  {
   "cell_type": "code",
   "execution_count": 36,
   "id": "69b2d983",
   "metadata": {},
   "outputs": [
    {
     "data": {
      "text/plain": [
       "KNeighborsClassifier()"
      ]
     },
     "execution_count": 36,
     "metadata": {},
     "output_type": "execute_result"
    }
   ],
   "source": [
    "model.fit(X_train, y_train)"
   ]
  },
  {
   "cell_type": "code",
   "execution_count": 37,
   "id": "376eb923",
   "metadata": {},
   "outputs": [
    {
     "name": "stdout",
     "output_type": "stream",
     "text": [
      "Accuracy: 0.8943231441048035\n",
      "Precision: 0.49504950495049505\n",
      "Recall: 0.4166666666666667\n",
      "F1: 0.4524886877828054\n"
     ]
    },
    {
     "name": "stderr",
     "output_type": "stream",
     "text": [
      "D:\\Programi\\Anaconda\\lib\\site-packages\\sklearn\\neighbors\\_classification.py:228: FutureWarning: Unlike other reduction functions (e.g. `skew`, `kurtosis`), the default behavior of `mode` typically preserves the axis it acts along. In SciPy 1.11.0, this behavior will change: the default value of `keepdims` will become False, the `axis` over which the statistic is taken will be eliminated, and the value None will no longer be accepted. Set `keepdims` to True or False to avoid this warning.\n",
      "  mode, _ = stats.mode(_y[neigh_ind, k], axis=1)\n"
     ]
    }
   ],
   "source": [
    "print_performance(y_test, model.predict(X_test))"
   ]
  },
  {
   "cell_type": "code",
   "execution_count": 38,
   "id": "efa51dbc",
   "metadata": {},
   "outputs": [
    {
     "name": "stderr",
     "output_type": "stream",
     "text": [
      "D:\\Programi\\Anaconda\\lib\\site-packages\\sklearn\\neighbors\\_classification.py:228: FutureWarning: Unlike other reduction functions (e.g. `skew`, `kurtosis`), the default behavior of `mode` typically preserves the axis it acts along. In SciPy 1.11.0, this behavior will change: the default value of `keepdims` will become False, the `axis` over which the statistic is taken will be eliminated, and the value None will no longer be accepted. Set `keepdims` to True or False to avoid this warning.\n",
      "  mode, _ = stats.mode(_y[neigh_ind, k], axis=1)\n"
     ]
    },
    {
     "data": {
      "image/png": "[encoded data removed]",
      "text/plain": [
       "<Figure size 640x480 with 2 Axes>"
      ]
     },
     "metadata": {},
     "output_type": "display_data"
    }
   ],
   "source": [
    "ConfusionMatrixDisplay(confusion_matrix(y_test, model.predict(X_test)), display_labels = [False, True]).plot()\n",
    "plt.show()"
   ]
  },
  {
   "cell_type": "markdown",
   "id": "101b4d65",
   "metadata": {},
   "source": [
    "Podelom na train i test podskup, rezultati su se drastišno promenili na gore. Sve metrike su se smanjile, pogotovo preciznost."
   ]
  },
  {
   "cell_type": "code",
   "execution_count": 39,
   "id": "f1a2374c",
   "metadata": {},
   "outputs": [
    {
     "name": "stderr",
     "output_type": "stream",
     "text": [
      "D:\\Programi\\Anaconda\\lib\\site-packages\\sklearn\\neighbors\\_classification.py:228: FutureWarning: Unlike other reduction functions (e.g. `skew`, `kurtosis`), the default behavior of `mode` typically preserves the axis it acts along. In SciPy 1.11.0, this behavior will change: the default value of `keepdims` will become False, the `axis` over which the statistic is taken will be eliminated, and the value None will no longer be accepted. Set `keepdims` to True or False to avoid this warning.\n",
      "  mode, _ = stats.mode(_y[neigh_ind, k], axis=1)\n",
      "D:\\Programi\\Anaconda\\lib\\site-packages\\sklearn\\neighbors\\_classification.py:228: FutureWarning: Unlike other reduction functions (e.g. `skew`, `kurtosis`), the default behavior of `mode` typically preserves the axis it acts along. In SciPy 1.11.0, this behavior will change: the default value of `keepdims` will become False, the `axis` over which the statistic is taken will be eliminated, and the value None will no longer be accepted. Set `keepdims` to True or False to avoid this warning.\n",
      "  mode, _ = stats.mode(_y[neigh_ind, k], axis=1)\n",
      "D:\\Programi\\Anaconda\\lib\\site-packages\\sklearn\\neighbors\\_classification.py:228: FutureWarning: Unlike other reduction functions (e.g. `skew`, `kurtosis`), the default behavior of `mode` typically preserves the axis it acts along. In SciPy 1.11.0, this behavior will change: the default value of `keepdims` will become False, the `axis` over which the statistic is taken will be eliminated, and the value None will no longer be accepted. Set `keepdims` to True or False to avoid this warning.\n",
      "  mode, _ = stats.mode(_y[neigh_ind, k], axis=1)\n",
      "D:\\Programi\\Anaconda\\lib\\site-packages\\sklearn\\neighbors\\_classification.py:228: FutureWarning: Unlike other reduction functions (e.g. `skew`, `kurtosis`), the default behavior of `mode` typically preserves the axis it acts along. In SciPy 1.11.0, this behavior will change: the default value of `keepdims` will become False, the `axis` over which the statistic is taken will be eliminated, and the value None will no longer be accepted. Set `keepdims` to True or False to avoid this warning.\n",
      "  mode, _ = stats.mode(_y[neigh_ind, k], axis=1)\n",
      "D:\\Programi\\Anaconda\\lib\\site-packages\\sklearn\\neighbors\\_classification.py:228: FutureWarning: Unlike other reduction functions (e.g. `skew`, `kurtosis`), the default behavior of `mode` typically preserves the axis it acts along. In SciPy 1.11.0, this behavior will change: the default value of `keepdims` will become False, the `axis` over which the statistic is taken will be eliminated, and the value None will no longer be accepted. Set `keepdims` to True or False to avoid this warning.\n",
      "  mode, _ = stats.mode(_y[neigh_ind, k], axis=1)\n",
      "D:\\Programi\\Anaconda\\lib\\site-packages\\sklearn\\neighbors\\_classification.py:228: FutureWarning: Unlike other reduction functions (e.g. `skew`, `kurtosis`), the default behavior of `mode` typically preserves the axis it acts along. In SciPy 1.11.0, this behavior will change: the default value of `keepdims` will become False, the `axis` over which the statistic is taken will be eliminated, and the value None will no longer be accepted. Set `keepdims` to True or False to avoid this warning.\n",
      "  mode, _ = stats.mode(_y[neigh_ind, k], axis=1)\n",
      "D:\\Programi\\Anaconda\\lib\\site-packages\\sklearn\\neighbors\\_classification.py:228: FutureWarning: Unlike other reduction functions (e.g. `skew`, `kurtosis`), the default behavior of `mode` typically preserves the axis it acts along. In SciPy 1.11.0, this behavior will change: the default value of `keepdims` will become False, the `axis` over which the statistic is taken will be eliminated, and the value None will no longer be accepted. Set `keepdims` to True or False to avoid this warning.\n",
      "  mode, _ = stats.mode(_y[neigh_ind, k], axis=1)\n",
      "D:\\Programi\\Anaconda\\lib\\site-packages\\sklearn\\neighbors\\_classification.py:228: FutureWarning: Unlike other reduction functions (e.g. `skew`, `kurtosis`), the default behavior of `mode` typically preserves the axis it acts along. In SciPy 1.11.0, this behavior will change: the default value of `keepdims` will become False, the `axis` over which the statistic is taken will be eliminated, and the value None will no longer be accepted. Set `keepdims` to True or False to avoid this warning.\n",
      "  mode, _ = stats.mode(_y[neigh_ind, k], axis=1)\n",
      "D:\\Programi\\Anaconda\\lib\\site-packages\\sklearn\\neighbors\\_classification.py:228: FutureWarning: Unlike other reduction functions (e.g. `skew`, `kurtosis`), the default behavior of `mode` typically preserves the axis it acts along. In SciPy 1.11.0, this behavior will change: the default value of `keepdims` will become False, the `axis` over which the statistic is taken will be eliminated, and the value None will no longer be accepted. Set `keepdims` to True or False to avoid this warning.\n",
      "  mode, _ = stats.mode(_y[neigh_ind, k], axis=1)\n",
      "D:\\Programi\\Anaconda\\lib\\site-packages\\sklearn\\neighbors\\_classification.py:228: FutureWarning: Unlike other reduction functions (e.g. `skew`, `kurtosis`), the default behavior of `mode` typically preserves the axis it acts along. In SciPy 1.11.0, this behavior will change: the default value of `keepdims` will become False, the `axis` over which the statistic is taken will be eliminated, and the value None will no longer be accepted. Set `keepdims` to True or False to avoid this warning.\n",
      "  mode, _ = stats.mode(_y[neigh_ind, k], axis=1)\n"
     ]
    }
   ],
   "source": [
    "result=cross_validate(model, X, y, cv=10, scoring=['accuracy', 'precision', 'recall', 'f1'])"
   ]
  },
  {
   "cell_type": "code",
   "execution_count": 40,
   "id": "2c41f305",
   "metadata": {
    "scrolled": true
   },
   "outputs": [
    {
     "name": "stdout",
     "output_type": "stream",
     "text": [
      "Accuracy: 89.75% +/- 1.06%\n",
      "Precision: 54.19% +/- 7.68%\n",
      "Recall: 41.8% +/- 7.87%\n",
      "F1: 46.73% +/- 5.78%\n"
     ]
    }
   ],
   "source": [
    "print_cv_performance(result)"
   ]
  },
  {
   "cell_type": "markdown",
   "id": "23e322e1",
   "metadata": {},
   "source": [
    "Uvođenjem kros-validacije smo dobili rezultate koji pokazuju da je u proseku preciznost viša nego kod train/test podele, ali odziv nam je praktično isti. Kod ovog modela i preciznost i odziv variraju dosta."
   ]
  },
  {
   "cell_type": "code",
   "execution_count": 98,
   "id": "2a233dfd",
   "metadata": {
    "scrolled": false
   },
   "outputs": [
    {
     "name": "stdout",
     "output_type": "stream",
     "text": [
      "Number of neighbros = 5\n",
      "Accuracy: 89.75% +/- 1.06%\n",
      "Precision: 54.19% +/- 7.68%\n",
      "Recall: 41.8% +/- 7.87%\n",
      "F1: 46.73% +/- 5.78%\n",
      "-------------------------------\n",
      "Number of neighbros = 6\n",
      "Accuracy: 89.98% +/- 0.72%\n",
      "Precision: 57.21% +/- 6.24%\n",
      "Recall: 33.8% +/- 7.43%\n",
      "F1: 41.9% +/- 5.63%\n",
      "-------------------------------\n",
      "Number of neighbros = 7\n",
      "Accuracy: 90.12% +/- 0.87%\n",
      "Precision: 56.32% +/- 6.29%\n",
      "Recall: 43.23% +/- 8.29%\n",
      "F1: 48.38% +/- 5.65%\n",
      "-------------------------------\n",
      "Number of neighbros = 8\n",
      "Accuracy: 90.46% +/- 0.64%\n",
      "Precision: 60.35% +/- 6.21%\n",
      "Recall: 36.21% +/- 7.94%\n",
      "F1: 44.73% +/- 6.35%\n",
      "-------------------------------\n",
      "Number of neighbros = 9\n",
      "Accuracy: 90.09% +/- 0.79%\n",
      "Precision: 55.69% +/- 5.12%\n",
      "Recall: 43.46% +/- 9.97%\n",
      "F1: 48.26% +/- 6.57%\n",
      "-------------------------------\n",
      "Number of neighbros = 10\n",
      "Accuracy: 90.32% +/- 0.48%\n",
      "Precision: 58.97% +/- 3.35%\n",
      "Recall: 35.49% +/- 9.27%\n",
      "F1: 43.72% +/- 6.91%\n",
      "-------------------------------\n",
      "Number of neighbros = 11\n",
      "Accuracy: 90.14% +/- 0.66%\n",
      "Precision: 55.93% +/- 3.64%\n",
      "Recall: 42.73% +/- 10.4%\n",
      "F1: 47.87% +/- 6.9%\n",
      "-------------------------------\n",
      "Number of neighbros = 12\n",
      "Accuracy: 90.43% +/- 0.77%\n",
      "Precision: 59.5% +/- 6.14%\n",
      "Recall: 36.44% +/- 10.0%\n",
      "F1: 44.56% +/- 8.35%\n",
      "-------------------------------\n",
      "Number of neighbros = 13\n",
      "Accuracy: 90.35% +/- 0.78%\n",
      "Precision: 57.41% +/- 5.0%\n",
      "Recall: 43.95% +/- 8.18%\n",
      "F1: 49.39% +/- 5.82%\n",
      "-------------------------------\n",
      "Number of neighbros = 14\n",
      "Accuracy: 90.61% +/- 0.85%\n",
      "Precision: 61.13% +/- 7.84%\n",
      "Recall: 38.64% +/- 9.26%\n",
      "F1: 46.66% +/- 7.42%\n",
      "-------------------------------\n",
      "Number of neighbros = 15\n",
      "Accuracy: 90.35% +/- 0.88%\n",
      "Precision: 57.96% +/- 6.22%\n",
      "Recall: 43.23% +/- 7.12%\n",
      "F1: 49.1% +/- 5.09%\n",
      "-------------------------------\n",
      "Number of neighbros = 16\n",
      "Accuracy: 90.46% +/- 0.85%\n",
      "Precision: 60.14% +/- 7.94%\n",
      "Recall: 39.13% +/- 8.1%\n",
      "F1: 46.73% +/- 5.92%\n",
      "-------------------------------\n",
      "Number of neighbros = 17\n",
      "Accuracy: 90.48% +/- 0.88%\n",
      "Precision: 58.84% +/- 5.59%\n",
      "Recall: 43.72% +/- 6.98%\n",
      "F1: 49.72% +/- 4.81%\n",
      "-------------------------------\n",
      "Number of neighbros = 18\n",
      "Accuracy: 90.56% +/- 0.59%\n",
      "Precision: 60.4% +/- 4.94%\n",
      "Recall: 39.61% +/- 8.13%\n",
      "F1: 47.23% +/- 5.69%\n",
      "-------------------------------\n",
      "Number of neighbros = 19\n",
      "Accuracy: 90.38% +/- 1.01%\n",
      "Precision: 58.2% +/- 6.78%\n",
      "Recall: 43.95% +/- 6.79%\n",
      "F1: 49.63% +/- 5.11%\n",
      "-------------------------------\n",
      "Number of neighbros = 20\n",
      "Accuracy: 90.59% +/- 0.84%\n",
      "Precision: 59.9% +/- 6.12%\n",
      "Recall: 41.53% +/- 7.92%\n",
      "F1: 48.59% +/- 6.19%\n",
      "-------------------------------\n"
     ]
    }
   ],
   "source": [
    "for i in range(5, 21):\n",
    "    print(f'Number of neighbros = {i}')\n",
    "    model=KNeighborsClassifier(n_neighbors=i)\n",
    "    result=cross_validate(model, X, y, cv=10, scoring=['accuracy', 'precision', 'recall', 'f1'])\n",
    "    print_cv_performance(result)\n",
    "    print('-------------------------------')"
   ]
  },
  {
   "cell_type": "markdown",
   "id": "341f70d7",
   "metadata": {},
   "source": [
    "Izmenom broja k (broj suseda) smo dobili određena poboljšanja u modelu. Možemo da kažemo da je model imao najbolji odnos odziv/preciznost kada je `k=17`."
   ]
  },
  {
   "cell_type": "code",
   "execution_count": 99,
   "id": "c0d9e19f",
   "metadata": {},
   "outputs": [],
   "source": [
    "model=KNeighborsClassifier(n_neighbors=17).fit(X, y)"
   ]
  },
  {
   "cell_type": "code",
   "execution_count": 100,
   "id": "381c98bd",
   "metadata": {},
   "outputs": [],
   "source": [
    "y_hat=model.predict_proba(X)[:, 1] >= 0.2"
   ]
  },
  {
   "cell_type": "code",
   "execution_count": 101,
   "id": "f7530fdb",
   "metadata": {},
   "outputs": [
    {
     "name": "stdout",
     "output_type": "stream",
     "text": [
      "Accuracy: 0.8888306240167803\n",
      "Precision: 0.4927536231884058\n",
      "Recall: 0.821256038647343\n",
      "F1: 0.6159420289855073\n"
     ]
    }
   ],
   "source": [
    "print_performance(y, y_hat)"
   ]
  },
  {
   "cell_type": "code",
   "execution_count": 102,
   "id": "5bbe9f55",
   "metadata": {},
   "outputs": [
    {
     "data": {
      "image/png": "[encoded data removed]",
      "text/plain": [
       "<Figure size 640x480 with 2 Axes>"
      ]
     },
     "metadata": {},
     "output_type": "display_data"
    }
   ],
   "source": [
    "ConfusionMatrixDisplay(confusion_matrix(y, y_hat), display_labels = [False, True]).plot()\n",
    "plt.show()"
   ]
  },
  {
   "cell_type": "code",
   "execution_count": 103,
   "id": "5a9d35c6",
   "metadata": {},
   "outputs": [],
   "source": [
    "y_hat=model.predict_proba(X)[:, 1] >= 0.25"
   ]
  },
  {
   "cell_type": "code",
   "execution_count": 104,
   "id": "8cccf2cf",
   "metadata": {},
   "outputs": [
    {
     "name": "stdout",
     "output_type": "stream",
     "text": [
      "Accuracy: 0.899580492920818\n",
      "Precision: 0.5257903494176372\n",
      "Recall: 0.7632850241545893\n",
      "F1: 0.6226600985221675\n"
     ]
    }
   ],
   "source": [
    "print_performance(y, y_hat)"
   ]
  },
  {
   "cell_type": "code",
   "execution_count": 105,
   "id": "60de5ec0",
   "metadata": {},
   "outputs": [
    {
     "data": {
      "image/png": "[encoded data removed]",
      "text/plain": [
       "<Figure size 640x480 with 2 Axes>"
      ]
     },
     "metadata": {},
     "output_type": "display_data"
    }
   ],
   "source": [
    "ConfusionMatrixDisplay(confusion_matrix(y, y_hat), display_labels = [False, True]).plot()\n",
    "plt.show()"
   ]
  },
  {
   "cell_type": "markdown",
   "id": "427f4016",
   "metadata": {},
   "source": [
    "Pomeranjem granice odlučivanja na prvo 0.2 a zatim i 0.25 dobili smo mnogo veći odziv i generalno poboljšanje modela. Ipak kada bismo birali granicu uzeli bismo verovatno 0.2 jer se odziv povećava više nego što preciznost otpada."
   ]
  },
  {
   "cell_type": "code",
   "execution_count": 106,
   "id": "7b097198",
   "metadata": {},
   "outputs": [
    {
     "data": {
      "text/plain": [
       "0.9431042199488492"
      ]
     },
     "execution_count": 106,
     "metadata": {},
     "output_type": "execute_result"
    }
   ],
   "source": [
    "y_hat=model.predict_proba(X)[:, 1]\n",
    "roc_auc_score(y, y_hat)"
   ]
  },
  {
   "cell_type": "code",
   "execution_count": 107,
   "id": "37f77f53",
   "metadata": {},
   "outputs": [
    {
     "data": {
      "image/png": "[encoded data removed]",
      "text/plain": [
       "<Figure size 640x480 with 1 Axes>"
      ]
     },
     "metadata": {},
     "output_type": "display_data"
    }
   ],
   "source": [
    "fpr, tpr, thresholds = roc_curve(y, y_hat)\n",
    "plt.plot(fpr, tpr)\n",
    "plt.show()"
   ]
  },
  {
   "cell_type": "code",
   "execution_count": 108,
   "id": "9ea11c7c",
   "metadata": {},
   "outputs": [
    {
     "name": "stdout",
     "output_type": "stream",
     "text": [
      "AUC: 90.32% +/- 2.56%\n"
     ]
    }
   ],
   "source": [
    "result=cross_val_score(model, X, y, cv=10, scoring='roc_auc')\n",
    "print(f\"AUC: {round(np.mean(result)*100, 2)}% +/- {round(np.std(result)*100, 2)}%\")"
   ]
  },
  {
   "cell_type": "markdown",
   "id": "c440c6e3",
   "metadata": {},
   "source": [
    "Korićenjem AUC metrike bez kros-validacije dobijamo da je model najbolji do sada. Uvođenjem kros-validacije AUC vrednost malo opada ali je i dalje preko 90% što znači da je model odličan."
   ]
  },
  {
   "cell_type": "markdown",
   "id": "a841dd03",
   "metadata": {},
   "source": [
    "## Stablo odlučivanja"
   ]
  },
  {
   "cell_type": "code",
   "execution_count": 41,
   "id": "1f6c4544",
   "metadata": {},
   "outputs": [],
   "source": [
    "from sklearn.tree import DecisionTreeClassifier\n",
    "model=DecisionTreeClassifier()"
   ]
  },
  {
   "cell_type": "code",
   "execution_count": 42,
   "id": "32d58528",
   "metadata": {},
   "outputs": [
    {
     "data": {
      "text/plain": [
       "DecisionTreeClassifier()"
      ]
     },
     "execution_count": 42,
     "metadata": {},
     "output_type": "execute_result"
    }
   ],
   "source": [
    "model.fit(X, y)"
   ]
  },
  {
   "cell_type": "code",
   "execution_count": 43,
   "id": "390517d4",
   "metadata": {
    "scrolled": true
   },
   "outputs": [
    {
     "name": "stdout",
     "output_type": "stream",
     "text": [
      "Accuracy: 1.0\n",
      "Precision: 1.0\n",
      "Recall: 1.0\n",
      "F1: 1.0\n"
     ]
    }
   ],
   "source": [
    "print_performance(y, model.predict(X))"
   ]
  },
  {
   "cell_type": "markdown",
   "id": "e7a8bed0",
   "metadata": {},
   "source": [
    "Stablo odlučivanja nam je dalo perfektne rezultate na osnovnom skupu. Ovo je posledica pretreniranja, jer stablu nismo definisali nikakvo ograničenje."
   ]
  },
  {
   "cell_type": "code",
   "execution_count": 44,
   "id": "69b43747",
   "metadata": {},
   "outputs": [
    {
     "data": {
      "text/plain": [
       "DecisionTreeClassifier()"
      ]
     },
     "execution_count": 44,
     "metadata": {},
     "output_type": "execute_result"
    }
   ],
   "source": [
    "model.fit(X_train, y_train)"
   ]
  },
  {
   "cell_type": "code",
   "execution_count": 45,
   "id": "661afffc",
   "metadata": {},
   "outputs": [
    {
     "name": "stdout",
     "output_type": "stream",
     "text": [
      "Accuracy: 0.874235807860262\n",
      "Precision: 0.4142857142857143\n",
      "Recall: 0.48333333333333334\n",
      "F1: 0.4461538461538461\n"
     ]
    }
   ],
   "source": [
    "print_performance(y_test, model.predict(X_test))"
   ]
  },
  {
   "cell_type": "code",
   "execution_count": 46,
   "id": "d9a5b53b",
   "metadata": {
    "scrolled": false
   },
   "outputs": [
    {
     "data": {
      "image/png": "[encoded data removed]",
      "text/plain": [
       "<Figure size 640x480 with 2 Axes>"
      ]
     },
     "metadata": {},
     "output_type": "display_data"
    }
   ],
   "source": [
    "ConfusionMatrixDisplay(confusion_matrix(y_test, model.predict(X_test)), display_labels = [False, True]).plot()\n",
    "plt.show()"
   ]
  },
  {
   "cell_type": "markdown",
   "id": "6da8d2ac",
   "metadata": {},
   "source": [
    "Nakon podele na test i train podskup stablo je dobilo realnije rezultate, koji nisu preterano dobri."
   ]
  },
  {
   "cell_type": "code",
   "execution_count": 47,
   "id": "787f2fb6",
   "metadata": {},
   "outputs": [],
   "source": [
    "result=cross_validate(model, X, y, cv=10, scoring=['accuracy', 'precision', 'recall', 'f1'])"
   ]
  },
  {
   "cell_type": "code",
   "execution_count": 48,
   "id": "d6b1b97b",
   "metadata": {},
   "outputs": [
    {
     "name": "stdout",
     "output_type": "stream",
     "text": [
      "Accuracy: 88.75% +/- 1.38%\n",
      "Precision: 48.71% +/- 6.28%\n",
      "Recall: 52.64% +/- 5.44%\n",
      "F1: 50.45% +/- 5.16%\n"
     ]
    }
   ],
   "source": [
    "print_cv_performance(result)"
   ]
  },
  {
   "cell_type": "markdown",
   "id": "84df1439",
   "metadata": {},
   "source": [
    "Uvođenjem kros validacije se u proseku dobijaju bolji rezultati nego podelom na train/test podelu."
   ]
  },
  {
   "cell_type": "code",
   "execution_count": 110,
   "id": "e674737e",
   "metadata": {
    "scrolled": false
   },
   "outputs": [
    {
     "name": "stdout",
     "output_type": "stream",
     "text": [
      "Max depth 3\n",
      "Accuracy: 91.32% +/- 1.1%\n",
      "Precision: 59.87% +/- 4.8%\n",
      "Recall: 61.88% +/- 7.99%\n",
      "F1: 60.61% +/- 5.38%\n",
      "-------------------------------\n",
      "Max depth 4\n",
      "Accuracy: 90.33% +/- 1.03%\n",
      "Precision: 60.72% +/- 10.15%\n",
      "Recall: 36.43% +/- 8.9%\n",
      "F1: 44.56% +/- 6.13%\n",
      "-------------------------------\n",
      "Max depth 5\n",
      "Accuracy: 91.19% +/- 1.56%\n",
      "Precision: 61.04% +/- 7.54%\n",
      "Recall: 53.7% +/- 12.37%\n",
      "F1: 56.44% +/- 9.13%\n",
      "-------------------------------\n",
      "Max depth 6\n",
      "Accuracy: 90.25% +/- 1.14%\n",
      "Precision: 57.42% +/- 8.0%\n",
      "Recall: 43.94% +/- 7.63%\n",
      "F1: 49.24% +/- 6.0%\n",
      "-------------------------------\n",
      "Max depth 7\n",
      "Accuracy: 90.4% +/- 0.92%\n",
      "Precision: 58.4% +/- 7.32%\n",
      "Recall: 44.19% +/- 7.78%\n",
      "F1: 49.74% +/- 5.37%\n",
      "-------------------------------\n",
      "Max depth 8\n",
      "Accuracy: 90.43% +/- 0.88%\n",
      "Precision: 57.03% +/- 4.96%\n",
      "Recall: 48.78% +/- 5.78%\n",
      "F1: 52.44% +/- 4.8%\n",
      "-------------------------------\n",
      "Max depth 9\n",
      "Accuracy: 90.3% +/- 1.36%\n",
      "Precision: 56.12% +/- 7.14%\n",
      "Recall: 50.5% +/- 8.3%\n",
      "F1: 52.9% +/- 7.02%\n",
      "-------------------------------\n",
      "Max depth 10\n",
      "Accuracy: 90.01% +/- 1.32%\n",
      "Precision: 54.56% +/- 6.9%\n",
      "Recall: 50.5% +/- 6.73%\n",
      "F1: 52.29% +/- 6.12%\n",
      "-------------------------------\n",
      "Max depth 12\n",
      "Accuracy: 89.41% +/- 1.37%\n",
      "Precision: 51.43% +/- 6.41%\n",
      "Recall: 51.46% +/- 6.8%\n",
      "F1: 51.31% +/- 5.98%\n",
      "-------------------------------\n",
      "Max depth 14\n",
      "Accuracy: 89.41% +/- 1.42%\n",
      "Precision: 51.37% +/- 6.31%\n",
      "Recall: 53.88% +/- 6.16%\n",
      "F1: 52.51% +/- 5.84%\n",
      "-------------------------------\n",
      "Max depth 16\n",
      "Accuracy: 89.09% +/- 1.35%\n",
      "Precision: 50.31% +/- 6.02%\n",
      "Recall: 52.4% +/- 4.81%\n",
      "F1: 51.13% +/- 4.37%\n",
      "-------------------------------\n",
      "Max depth 18\n",
      "Accuracy: 89.01% +/- 1.41%\n",
      "Precision: 49.7% +/- 6.17%\n",
      "Recall: 53.14% +/- 5.79%\n",
      "F1: 51.26% +/- 5.59%\n",
      "-------------------------------\n",
      "Max depth 20\n",
      "Accuracy: 89.09% +/- 1.05%\n",
      "Precision: 49.95% +/- 4.93%\n",
      "Recall: 53.62% +/- 6.07%\n",
      "F1: 51.58% +/- 4.61%\n",
      "-------------------------------\n",
      "Max depth 22\n",
      "Accuracy: 88.7% +/- 1.27%\n",
      "Precision: 48.36% +/- 5.84%\n",
      "Recall: 51.19% +/- 5.95%\n",
      "F1: 49.58% +/- 5.06%\n",
      "-------------------------------\n",
      "Max depth 24\n",
      "Accuracy: 89.17% +/- 1.39%\n",
      "Precision: 50.49% +/- 6.37%\n",
      "Recall: 54.35% +/- 5.1%\n",
      "F1: 52.22% +/- 5.15%\n",
      "-------------------------------\n",
      "Max depth 26\n",
      "Accuracy: 88.62% +/- 1.14%\n",
      "Precision: 48.02% +/- 5.04%\n",
      "Recall: 53.12% +/- 5.44%\n",
      "F1: 50.33% +/- 4.58%\n",
      "-------------------------------\n",
      "Max depth 28\n",
      "Accuracy: 89.04% +/- 1.43%\n",
      "Precision: 49.81% +/- 6.43%\n",
      "Recall: 53.86% +/- 6.7%\n",
      "F1: 51.61% +/- 5.95%\n",
      "-------------------------------\n",
      "Max depth 30\n",
      "Accuracy: 89.17% +/- 1.32%\n",
      "Precision: 50.29% +/- 6.33%\n",
      "Recall: 51.9% +/- 6.02%\n",
      "F1: 51.0% +/- 5.76%\n",
      "-------------------------------\n"
     ]
    }
   ],
   "source": [
    "for i in [3,4,5,6,7,8,9,10,12,14,16,18,20,22,24,26,28,30]:\n",
    "    print(f'Max depth {i}')\n",
    "    model = DecisionTreeClassifier(max_depth=i)\n",
    "    result=cross_validate(model, X, y, cv=10, scoring=['accuracy', 'precision', 'recall', 'f1'])\n",
    "    print_cv_performance(result)\n",
    "    print('-------------------------------')"
   ]
  },
  {
   "cell_type": "markdown",
   "id": "3865a489",
   "metadata": {},
   "source": [
    "Za parametar koji smo menjali za stablo smo uzeli `max_depth`. Model sa najboljim metrikama je bio model kod koga je `max_depth=3`."
   ]
  },
  {
   "cell_type": "code",
   "execution_count": 111,
   "id": "a0fb9e05",
   "metadata": {},
   "outputs": [
    {
     "data": {
      "text/plain": [
       "0.8796881216254618"
      ]
     },
     "execution_count": 111,
     "metadata": {},
     "output_type": "execute_result"
    }
   ],
   "source": [
    "model=DecisionTreeClassifier(max_depth=3).fit(X, y)\n",
    "y_hat=model.predict_proba(X)[:, 1]\n",
    "roc_auc_score(y, y_hat)"
   ]
  },
  {
   "cell_type": "code",
   "execution_count": 112,
   "id": "1af714a8",
   "metadata": {
    "scrolled": false
   },
   "outputs": [
    {
     "data": {
      "image/png": "[encoded data removed]",
      "text/plain": [
       "<Figure size 640x480 with 1 Axes>"
      ]
     },
     "metadata": {},
     "output_type": "display_data"
    }
   ],
   "source": [
    "fpr, tpr, thresholds = roc_curve(y, y_hat)\n",
    "plt.plot(fpr, tpr)\n",
    "plt.show()"
   ]
  },
  {
   "cell_type": "code",
   "execution_count": 113,
   "id": "eac0dd23",
   "metadata": {},
   "outputs": [
    {
     "name": "stdout",
     "output_type": "stream",
     "text": [
      "AUC: 87.94% +/- 3.27%\n"
     ]
    }
   ],
   "source": [
    "result=cross_val_score(model, X, y, cv=10, scoring='roc_auc')\n",
    "print(f\"AUC: {round(np.mean(result)*100, 2)}% +/- {round(np.std(result)*100, 2)}%\")"
   ]
  },
  {
   "cell_type": "markdown",
   "id": "092db80a",
   "metadata": {},
   "source": [
    "I kod stabla, kao i kod drugih algoritama, vrednost AUC metrike je vrlo visoka i pokazuje da imamo vrlo dobar model."
   ]
  },
  {
   "cell_type": "markdown",
   "id": "297aa732",
   "metadata": {},
   "source": [
    "# Ansambl algoritmi"
   ]
  },
  {
   "cell_type": "markdown",
   "id": "0e6914a2",
   "metadata": {},
   "source": [
    "Pošto smo dobili dobre rezultate za stablo odlučivanja, odlučili smo da probamo da napravimo modele korišćenjem ansambl algoritama i to random forest i gradient boosting."
   ]
  },
  {
   "cell_type": "code",
   "execution_count": 115,
   "id": "ccc32d58",
   "metadata": {},
   "outputs": [],
   "source": [
    "from sklearn.ensemble import RandomForestClassifier"
   ]
  },
  {
   "cell_type": "code",
   "execution_count": 126,
   "id": "6e919368",
   "metadata": {},
   "outputs": [
    {
     "name": "stdout",
     "output_type": "stream",
     "text": [
      "Number of trees: 10\n",
      "Accuracy: 90.51% +/- 0.83%\n",
      "Precision: 60.42% +/- 7.49%\n",
      "Recall: 39.87% +/- 5.49%\n",
      "F1: 47.58% +/- 3.92%\n",
      "-------------------------------\n",
      "Number of trees: 20\n",
      "Accuracy: 90.01% +/- 1.22%\n",
      "Precision: 57.12% +/- 8.95%\n",
      "Recall: 36.72% +/- 4.94%\n",
      "F1: 44.4% +/- 5.36%\n",
      "-------------------------------\n",
      "Number of trees: 30\n",
      "Accuracy: 90.74% +/- 0.62%\n",
      "Precision: 61.58% +/- 4.79%\n",
      "Recall: 41.06% +/- 5.98%\n",
      "F1: 48.86% +/- 4.03%\n",
      "-------------------------------\n",
      "Number of trees: 40\n",
      "Accuracy: 90.51% +/- 0.98%\n",
      "Precision: 60.51% +/- 7.7%\n",
      "Recall: 38.66% +/- 5.74%\n",
      "F1: 46.81% +/- 5.24%\n",
      "-------------------------------\n",
      "Number of trees: 50\n",
      "Accuracy: 91.09% +/- 1.1%\n",
      "Precision: 64.79% +/- 8.64%\n",
      "Recall: 39.85% +/- 4.81%\n",
      "F1: 49.27% +/- 5.86%\n",
      "-------------------------------\n",
      "Number of trees: 60\n",
      "Accuracy: 90.59% +/- 0.84%\n",
      "Precision: 60.53% +/- 5.97%\n",
      "Recall: 38.65% +/- 5.77%\n",
      "F1: 46.98% +/- 5.43%\n",
      "-------------------------------\n",
      "Number of trees: 70\n",
      "Accuracy: 90.85% +/- 1.14%\n",
      "Precision: 63.7% +/- 9.4%\n",
      "Recall: 38.42% +/- 5.09%\n",
      "F1: 47.68% +/- 5.72%\n",
      "-------------------------------\n",
      "Number of trees: 80\n",
      "Accuracy: 91.14% +/- 1.05%\n",
      "Precision: 64.14% +/- 7.18%\n",
      "Recall: 42.78% +/- 4.26%\n",
      "F1: 51.21% +/- 4.81%\n",
      "-------------------------------\n",
      "Number of trees: 90\n",
      "Accuracy: 91.03% +/- 0.83%\n",
      "Precision: 64.6% +/- 7.32%\n",
      "Recall: 40.33% +/- 3.79%\n",
      "F1: 49.4% +/- 3.52%\n",
      "-------------------------------\n",
      "Number of trees: 100\n",
      "Accuracy: 91.06% +/- 0.88%\n",
      "Precision: 65.53% +/- 8.61%\n",
      "Recall: 39.87% +/- 4.94%\n",
      "F1: 49.11% +/- 4.05%\n",
      "-------------------------------\n",
      "Number of trees: 110\n",
      "Accuracy: 90.88% +/- 1.0%\n",
      "Precision: 62.16% +/- 6.67%\n",
      "Recall: 41.79% +/- 5.41%\n",
      "F1: 49.79% +/- 5.29%\n",
      "-------------------------------\n",
      "Number of trees: 120\n",
      "Accuracy: 90.67% +/- 0.83%\n",
      "Precision: 61.5% +/- 6.92%\n",
      "Recall: 39.87% +/- 4.09%\n",
      "F1: 48.09% +/- 3.42%\n",
      "-------------------------------\n",
      "Number of trees: 130\n",
      "Accuracy: 90.85% +/- 0.79%\n",
      "Precision: 62.44% +/- 6.33%\n",
      "Recall: 40.82% +/- 4.46%\n",
      "F1: 49.14% +/- 4.05%\n",
      "-------------------------------\n",
      "Number of trees: 140\n",
      "Accuracy: 90.9% +/- 1.05%\n",
      "Precision: 62.79% +/- 7.8%\n",
      "Recall: 41.56% +/- 5.15%\n",
      "F1: 49.76% +/- 5.17%\n",
      "-------------------------------\n",
      "Number of trees: 150\n",
      "Accuracy: 90.77% +/- 0.95%\n",
      "Precision: 62.3% +/- 6.95%\n",
      "Recall: 39.15% +/- 5.56%\n",
      "F1: 47.83% +/- 5.37%\n",
      "-------------------------------\n"
     ]
    }
   ],
   "source": [
    "for i in range(10, 160, 10):\n",
    "    print(f'Number of trees: {i}')\n",
    "    model=RandomForestClassifier(max_depth=13, n_estimators=i)\n",
    "    result=cross_validate(model, X, y, cv=10, scoring=['accuracy', 'precision', 'recall', 'f1'])\n",
    "    print_cv_performance(result)\n",
    "    print('-------------------------------')"
   ]
  },
  {
   "cell_type": "code",
   "execution_count": 127,
   "id": "52199136",
   "metadata": {},
   "outputs": [],
   "source": [
    "from sklearn.ensemble import GradientBoostingClassifier"
   ]
  },
  {
   "cell_type": "code",
   "execution_count": 136,
   "id": "aedf5840",
   "metadata": {
    "scrolled": false
   },
   "outputs": [
    {
     "name": "stdout",
     "output_type": "stream",
     "text": [
      "Accuracy: 91.06% +/- 1.33%\n",
      "Precision: 61.06% +/- 8.69%\n",
      "Recall: 53.84% +/- 8.82%\n",
      "F1: 56.47% +/- 6.26%\n"
     ]
    }
   ],
   "source": [
    "model=GradientBoostingClassifier(n_estimators=220, learning_rate=0.6)\n",
    "result=cross_validate(model, X, y, cv=10, scoring=['accuracy', 'recall', 'f1', 'precision'])\n",
    "print_cv_performance(result)"
   ]
  },
  {
   "cell_type": "markdown",
   "id": "6ed64226",
   "metadata": {},
   "source": [
    "Rezultati nam pokazuju da se ovi modeli nisu nešto pokazali kao dobri klasifikatori za ovaj skup podataka."
   ]
  },
  {
   "cell_type": "code",
   "execution_count": 137,
   "id": "14e3ab58",
   "metadata": {},
   "outputs": [],
   "source": [
    "#matrica troskova?"
   ]
  }
 ],
 "metadata": {
  "kernelspec": {
   "display_name": "Python 3 (ipykernel)",
   "language": "python",
   "name": "python3"
  },
  "language_info": {
   "codemirror_mode": {
    "name": "ipython",
    "version": 3
   },
   "file_extension": ".py",
   "mimetype": "text/x-python",
   "name": "python",
   "nbconvert_exporter": "python",
   "pygments_lexer": "ipython3",
   "version": "3.9.13"
  }
 },
 "nbformat": 4,
 "nbformat_minor": 5
}
