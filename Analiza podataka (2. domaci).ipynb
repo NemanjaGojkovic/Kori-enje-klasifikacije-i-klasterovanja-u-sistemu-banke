{
 "cells": [
  {
   "cell_type": "markdown",
   "id": "ad19acdd",
   "metadata": {},
   "source": [
    "# Analiza podataka\n"
   ]
  },
  {
   "cell_type": "markdown",
   "id": "d0ac6138",
   "metadata": {},
   "source": [
    "Prvo što je neophodno jeste da se učitaju biblioteke koje će se koristiti u vršenju analite i vizuelizacije podataka. Takođe smo definisali maksimalan broj kolone koje mogu da se vide na 50 kako bismo mogli da vidimo sve kolone koje se nalaze u ovom skupu."
   ]
  },
  {
   "cell_type": "code",
   "execution_count": 1,
   "id": "a2578b43",
   "metadata": {},
   "outputs": [],
   "source": [
    "import pandas as pd\n",
    "import numpy as np\n",
    "import matplotlib.pyplot as plt\n",
    "import seaborn as sns\n",
    "pd.options.display.max_columns=50"
   ]
  },
  {
   "cell_type": "markdown",
   "id": "af63555a",
   "metadata": {},
   "source": [
    "Sada ćemo da učitamo skup podataka `Bank Marketing` i to u promenljivu `banks` i pozvati neke osnovne metode za dobijanje informacija o samom skupu podataka."
   ]
  },
  {
   "cell_type": "code",
   "execution_count": 2,
   "id": "d79fa18e",
   "metadata": {},
   "outputs": [],
   "source": [
    "banks=pd.read_csv('Bank Marketing/bank-additional.csv', sep=';')"
   ]
  },
  {
   "cell_type": "code",
   "execution_count": 3,
   "id": "0271adf2",
   "metadata": {},
   "outputs": [
    {
     "data": {
      "text/html": [
       "<div>\n",
       "<style scoped>\n",
       "    .dataframe tbody tr th:only-of-type {\n",
       "        vertical-align: middle;\n",
       "    }\n",
       "\n",
       "    .dataframe tbody tr th {\n",
       "        vertical-align: top;\n",
       "    }\n",
       "\n",
       "    .dataframe thead th {\n",
       "        text-align: right;\n",
       "    }\n",
       "</style>\n",
       "<table border=\"1\" class=\"dataframe\">\n",
       "  <thead>\n",
       "    <tr style=\"text-align: right;\">\n",
       "      <th></th>\n",
       "      <th>age</th>\n",
       "      <th>job</th>\n",
       "      <th>marital</th>\n",
       "      <th>education</th>\n",
       "      <th>default</th>\n",
       "      <th>housing</th>\n",
       "      <th>loan</th>\n",
       "      <th>contact</th>\n",
       "      <th>month</th>\n",
       "      <th>day_of_week</th>\n",
       "      <th>duration</th>\n",
       "      <th>campaign</th>\n",
       "      <th>pdays</th>\n",
       "      <th>previous</th>\n",
       "      <th>poutcome</th>\n",
       "      <th>emp.var.rate</th>\n",
       "      <th>cons.price.idx</th>\n",
       "      <th>cons.conf.idx</th>\n",
       "      <th>euribor3m</th>\n",
       "      <th>nr.employed</th>\n",
       "      <th>y</th>\n",
       "    </tr>\n",
       "  </thead>\n",
       "  <tbody>\n",
       "    <tr>\n",
       "      <th>0</th>\n",
       "      <td>30</td>\n",
       "      <td>blue-collar</td>\n",
       "      <td>married</td>\n",
       "      <td>basic.9y</td>\n",
       "      <td>no</td>\n",
       "      <td>yes</td>\n",
       "      <td>no</td>\n",
       "      <td>cellular</td>\n",
       "      <td>may</td>\n",
       "      <td>fri</td>\n",
       "      <td>487.0</td>\n",
       "      <td>2.0</td>\n",
       "      <td>999</td>\n",
       "      <td>0.0</td>\n",
       "      <td>nonexistent</td>\n",
       "      <td>-1.8</td>\n",
       "      <td>92.893</td>\n",
       "      <td>-46.2</td>\n",
       "      <td>1.313</td>\n",
       "      <td>5099.1</td>\n",
       "      <td>no</td>\n",
       "    </tr>\n",
       "    <tr>\n",
       "      <th>1</th>\n",
       "      <td>39</td>\n",
       "      <td>services</td>\n",
       "      <td>single</td>\n",
       "      <td>high.school</td>\n",
       "      <td>no</td>\n",
       "      <td>no</td>\n",
       "      <td>no</td>\n",
       "      <td>telephone</td>\n",
       "      <td>may</td>\n",
       "      <td>fri</td>\n",
       "      <td>346.0</td>\n",
       "      <td>4.0</td>\n",
       "      <td>999</td>\n",
       "      <td>0.0</td>\n",
       "      <td>nonexistent</td>\n",
       "      <td>1.1</td>\n",
       "      <td>93.994</td>\n",
       "      <td>-36.4</td>\n",
       "      <td>4.855</td>\n",
       "      <td>5191</td>\n",
       "      <td>no</td>\n",
       "    </tr>\n",
       "    <tr>\n",
       "      <th>2</th>\n",
       "      <td>25</td>\n",
       "      <td>services</td>\n",
       "      <td>married</td>\n",
       "      <td>high.school</td>\n",
       "      <td>no</td>\n",
       "      <td>yes</td>\n",
       "      <td>no</td>\n",
       "      <td>telephone</td>\n",
       "      <td>jun</td>\n",
       "      <td>wed</td>\n",
       "      <td>227.0</td>\n",
       "      <td>1.0</td>\n",
       "      <td>999</td>\n",
       "      <td>0.0</td>\n",
       "      <td>nonexistent</td>\n",
       "      <td>1.4</td>\n",
       "      <td>94.465</td>\n",
       "      <td>-41.8</td>\n",
       "      <td>4.962</td>\n",
       "      <td>5228.1</td>\n",
       "      <td>no</td>\n",
       "    </tr>\n",
       "    <tr>\n",
       "      <th>3</th>\n",
       "      <td>38</td>\n",
       "      <td>services</td>\n",
       "      <td>married</td>\n",
       "      <td>basic.9y</td>\n",
       "      <td>no</td>\n",
       "      <td>unknown</td>\n",
       "      <td>unknown</td>\n",
       "      <td>telephone</td>\n",
       "      <td>jun</td>\n",
       "      <td>fri</td>\n",
       "      <td>17.0</td>\n",
       "      <td>3.0</td>\n",
       "      <td>999</td>\n",
       "      <td>0.0</td>\n",
       "      <td>nonexistent</td>\n",
       "      <td>1.4</td>\n",
       "      <td>94.465</td>\n",
       "      <td>-41.8</td>\n",
       "      <td>4.959</td>\n",
       "      <td>5228.1</td>\n",
       "      <td>no</td>\n",
       "    </tr>\n",
       "    <tr>\n",
       "      <th>4</th>\n",
       "      <td>47</td>\n",
       "      <td>admin.</td>\n",
       "      <td>married</td>\n",
       "      <td>university.degree</td>\n",
       "      <td>no</td>\n",
       "      <td>yes</td>\n",
       "      <td>no</td>\n",
       "      <td>cellular</td>\n",
       "      <td>nov</td>\n",
       "      <td>mon</td>\n",
       "      <td>58.0</td>\n",
       "      <td>1.0</td>\n",
       "      <td>999</td>\n",
       "      <td>0.0</td>\n",
       "      <td>nonexistent</td>\n",
       "      <td>-0.1</td>\n",
       "      <td>93.200</td>\n",
       "      <td>-42.0</td>\n",
       "      <td>4.191</td>\n",
       "      <td>5195.8</td>\n",
       "      <td>no</td>\n",
       "    </tr>\n",
       "    <tr>\n",
       "      <th>5</th>\n",
       "      <td>32</td>\n",
       "      <td>services</td>\n",
       "      <td>single</td>\n",
       "      <td>university.degree</td>\n",
       "      <td>no</td>\n",
       "      <td>no</td>\n",
       "      <td>no</td>\n",
       "      <td>cellular</td>\n",
       "      <td>sep</td>\n",
       "      <td>thu</td>\n",
       "      <td>128.0</td>\n",
       "      <td>3.0</td>\n",
       "      <td>999</td>\n",
       "      <td>2.0</td>\n",
       "      <td>failure</td>\n",
       "      <td>-1.1</td>\n",
       "      <td>94.199</td>\n",
       "      <td>-37.5</td>\n",
       "      <td>0.884</td>\n",
       "      <td>4963.6</td>\n",
       "      <td>no</td>\n",
       "    </tr>\n",
       "    <tr>\n",
       "      <th>6</th>\n",
       "      <td>32</td>\n",
       "      <td>admin.</td>\n",
       "      <td>single</td>\n",
       "      <td>university.degree</td>\n",
       "      <td>no</td>\n",
       "      <td>yes</td>\n",
       "      <td>no</td>\n",
       "      <td>cellular</td>\n",
       "      <td>sep</td>\n",
       "      <td>mon</td>\n",
       "      <td>290.0</td>\n",
       "      <td>4.0</td>\n",
       "      <td>999</td>\n",
       "      <td>0.0</td>\n",
       "      <td>nonexistent</td>\n",
       "      <td>-1.1</td>\n",
       "      <td>94.199</td>\n",
       "      <td>-37.5</td>\n",
       "      <td>0.879</td>\n",
       "      <td>4963.6</td>\n",
       "      <td>no</td>\n",
       "    </tr>\n",
       "    <tr>\n",
       "      <th>7</th>\n",
       "      <td>41</td>\n",
       "      <td>entrepreneur</td>\n",
       "      <td>married</td>\n",
       "      <td>university.degree</td>\n",
       "      <td>unknown</td>\n",
       "      <td>yes</td>\n",
       "      <td>no</td>\n",
       "      <td>cellular</td>\n",
       "      <td>nov</td>\n",
       "      <td>mon</td>\n",
       "      <td>44.0</td>\n",
       "      <td>2.0</td>\n",
       "      <td>999</td>\n",
       "      <td>0.0</td>\n",
       "      <td>nonexistent</td>\n",
       "      <td>-0.1</td>\n",
       "      <td>93.200</td>\n",
       "      <td>-42.0</td>\n",
       "      <td>4.191</td>\n",
       "      <td>5195.8</td>\n",
       "      <td>no</td>\n",
       "    </tr>\n",
       "    <tr>\n",
       "      <th>8</th>\n",
       "      <td>31</td>\n",
       "      <td>services</td>\n",
       "      <td>divorced</td>\n",
       "      <td>professional.course</td>\n",
       "      <td>no</td>\n",
       "      <td>no</td>\n",
       "      <td>no</td>\n",
       "      <td>cellular</td>\n",
       "      <td>nov</td>\n",
       "      <td>tue</td>\n",
       "      <td>68.0</td>\n",
       "      <td>1.0</td>\n",
       "      <td>999</td>\n",
       "      <td>1.0</td>\n",
       "      <td>failure</td>\n",
       "      <td>-0.1</td>\n",
       "      <td>93.200</td>\n",
       "      <td>-42.0</td>\n",
       "      <td>4.153</td>\n",
       "      <td>5195.8</td>\n",
       "      <td>no</td>\n",
       "    </tr>\n",
       "    <tr>\n",
       "      <th>9</th>\n",
       "      <td>35</td>\n",
       "      <td>blue-collar</td>\n",
       "      <td>married</td>\n",
       "      <td>basic.9y</td>\n",
       "      <td>unknown</td>\n",
       "      <td>no</td>\n",
       "      <td>no</td>\n",
       "      <td>telephone</td>\n",
       "      <td>may</td>\n",
       "      <td>thu</td>\n",
       "      <td>NaN</td>\n",
       "      <td>1.0</td>\n",
       "      <td>999</td>\n",
       "      <td>0.0</td>\n",
       "      <td>nonexistent</td>\n",
       "      <td>1.1</td>\n",
       "      <td>93.994</td>\n",
       "      <td>-36.4</td>\n",
       "      <td>4.855</td>\n",
       "      <td>5191</td>\n",
       "      <td>no</td>\n",
       "    </tr>\n",
       "  </tbody>\n",
       "</table>\n",
       "</div>"
      ],
      "text/plain": [
       "   age           job   marital            education  default  housing  \\\n",
       "0   30   blue-collar   married             basic.9y       no      yes   \n",
       "1   39      services    single          high.school       no       no   \n",
       "2   25      services   married          high.school       no      yes   \n",
       "3   38      services   married             basic.9y       no  unknown   \n",
       "4   47        admin.   married    university.degree       no      yes   \n",
       "5   32      services    single    university.degree       no       no   \n",
       "6   32        admin.    single    university.degree       no      yes   \n",
       "7   41  entrepreneur   married    university.degree  unknown      yes   \n",
       "8   31      services  divorced  professional.course       no       no   \n",
       "9   35   blue-collar   married             basic.9y  unknown       no   \n",
       "\n",
       "      loan    contact month day_of_week  duration  campaign  pdays  previous  \\\n",
       "0       no   cellular   may         fri     487.0       2.0    999       0.0   \n",
       "1       no  telephone   may         fri     346.0       4.0    999       0.0   \n",
       "2       no  telephone   jun         wed     227.0       1.0    999       0.0   \n",
       "3  unknown  telephone   jun         fri      17.0       3.0    999       0.0   \n",
       "4       no   cellular   nov         mon      58.0       1.0    999       0.0   \n",
       "5       no   cellular   sep         thu     128.0       3.0    999       2.0   \n",
       "6       no   cellular   sep         mon     290.0       4.0    999       0.0   \n",
       "7       no   cellular   nov         mon      44.0       2.0    999       0.0   \n",
       "8       no   cellular   nov         tue      68.0       1.0    999       1.0   \n",
       "9       no  telephone   may         thu       NaN       1.0    999       0.0   \n",
       "\n",
       "      poutcome  emp.var.rate  cons.price.idx  cons.conf.idx  euribor3m  \\\n",
       "0  nonexistent          -1.8          92.893          -46.2      1.313   \n",
       "1  nonexistent           1.1          93.994          -36.4      4.855   \n",
       "2  nonexistent           1.4          94.465          -41.8      4.962   \n",
       "3  nonexistent           1.4          94.465          -41.8      4.959   \n",
       "4  nonexistent          -0.1          93.200          -42.0      4.191   \n",
       "5      failure          -1.1          94.199          -37.5      0.884   \n",
       "6  nonexistent          -1.1          94.199          -37.5      0.879   \n",
       "7  nonexistent          -0.1          93.200          -42.0      4.191   \n",
       "8      failure          -0.1          93.200          -42.0      4.153   \n",
       "9  nonexistent           1.1          93.994          -36.4      4.855   \n",
       "\n",
       "  nr.employed   y  \n",
       "0      5099.1  no  \n",
       "1        5191  no  \n",
       "2      5228.1  no  \n",
       "3      5228.1  no  \n",
       "4      5195.8  no  \n",
       "5      4963.6  no  \n",
       "6      4963.6  no  \n",
       "7      5195.8  no  \n",
       "8      5195.8  no  \n",
       "9        5191  no  "
      ]
     },
     "execution_count": 3,
     "metadata": {},
     "output_type": "execute_result"
    }
   ],
   "source": [
    "banks.head(10)"
   ]
  },
  {
   "cell_type": "code",
   "execution_count": 4,
   "id": "03e4758e",
   "metadata": {},
   "outputs": [
    {
     "data": {
      "text/plain": [
       "(4119, 21)"
      ]
     },
     "execution_count": 4,
     "metadata": {},
     "output_type": "execute_result"
    }
   ],
   "source": [
    "banks.shape"
   ]
  },
  {
   "cell_type": "code",
   "execution_count": 5,
   "id": "10302d57",
   "metadata": {},
   "outputs": [
    {
     "name": "stdout",
     "output_type": "stream",
     "text": [
      "<class 'pandas.core.frame.DataFrame'>\n",
      "RangeIndex: 4119 entries, 0 to 4118\n",
      "Data columns (total 21 columns):\n",
      " #   Column          Non-Null Count  Dtype  \n",
      "---  ------          --------------  -----  \n",
      " 0   age             4119 non-null   int64  \n",
      " 1   job             4119 non-null   object \n",
      " 2   marital         4119 non-null   object \n",
      " 3   education       4119 non-null   object \n",
      " 4   default         4119 non-null   object \n",
      " 5   housing         4119 non-null   object \n",
      " 6   loan            4119 non-null   object \n",
      " 7   contact         4119 non-null   object \n",
      " 8   month           4119 non-null   object \n",
      " 9   day_of_week     4119 non-null   object \n",
      " 10  duration        4116 non-null   float64\n",
      " 11  campaign        4114 non-null   float64\n",
      " 12  pdays           4119 non-null   int64  \n",
      " 13  previous        4117 non-null   float64\n",
      " 14  poutcome        4119 non-null   object \n",
      " 15  emp.var.rate    4116 non-null   float64\n",
      " 16  cons.price.idx  4117 non-null   float64\n",
      " 17  cons.conf.idx   4117 non-null   float64\n",
      " 18  euribor3m       4117 non-null   float64\n",
      " 19  nr.employed     4118 non-null   object \n",
      " 20  y               4118 non-null   object \n",
      "dtypes: float64(7), int64(2), object(12)\n",
      "memory usage: 675.9+ KB\n"
     ]
    }
   ],
   "source": [
    "banks.info()"
   ]
  },
  {
   "cell_type": "markdown",
   "id": "852e441d",
   "metadata": {},
   "source": [
    "Nakon dobijanja osnovnih informacija o skupu podataka uz pomoć ovih funkcija, a takođe i čitanjem šifranika dobijenog pored skupe dobijamo jednu vrlo bitnu informaciju koja je vezana za atribut `duration`. Ovaj atribut u velikoj meri utiče na izlazni atribut ovog modela (`y`-da li se klijent uplatio oročeni depozit), jer ukoliko je trajanje poziva jednako 0 tj. poziv nije postojao onda njemu ta ponuda nije ni bila poznata. Samim tim ovaj atribut ćemo koristiti da bismo izvukli neke informacije o klijentima, ali ga nećemo koristiti u kreiranju modela."
   ]
  },
  {
   "cell_type": "code",
   "execution_count": 6,
   "id": "b06aca7d",
   "metadata": {
    "scrolled": true
   },
   "outputs": [
    {
     "data": {
      "text/plain": [
       "0    487.0\n",
       "1    346.0\n",
       "2    227.0\n",
       "3     17.0\n",
       "4     58.0\n",
       "Name: duration, dtype: float64"
      ]
     },
     "execution_count": 6,
     "metadata": {},
     "output_type": "execute_result"
    }
   ],
   "source": [
    "banks.duration.head()"
   ]
  },
  {
   "cell_type": "code",
   "execution_count": 7,
   "id": "7efdaa87",
   "metadata": {},
   "outputs": [
    {
     "data": {
      "text/html": [
       "<div>\n",
       "<style scoped>\n",
       "    .dataframe tbody tr th:only-of-type {\n",
       "        vertical-align: middle;\n",
       "    }\n",
       "\n",
       "    .dataframe tbody tr th {\n",
       "        vertical-align: top;\n",
       "    }\n",
       "\n",
       "    .dataframe thead th {\n",
       "        text-align: right;\n",
       "    }\n",
       "</style>\n",
       "<table border=\"1\" class=\"dataframe\">\n",
       "  <thead>\n",
       "    <tr style=\"text-align: right;\">\n",
       "      <th></th>\n",
       "      <th>age</th>\n",
       "      <th>job</th>\n",
       "      <th>marital</th>\n",
       "      <th>education</th>\n",
       "      <th>default</th>\n",
       "      <th>housing</th>\n",
       "      <th>loan</th>\n",
       "      <th>contact</th>\n",
       "      <th>month</th>\n",
       "      <th>day_of_week</th>\n",
       "      <th>duration</th>\n",
       "      <th>campaign</th>\n",
       "      <th>pdays</th>\n",
       "      <th>previous</th>\n",
       "      <th>poutcome</th>\n",
       "      <th>emp.var.rate</th>\n",
       "      <th>cons.price.idx</th>\n",
       "      <th>cons.conf.idx</th>\n",
       "      <th>euribor3m</th>\n",
       "      <th>nr.employed</th>\n",
       "      <th>y</th>\n",
       "    </tr>\n",
       "  </thead>\n",
       "  <tbody>\n",
       "    <tr>\n",
       "      <th>1950</th>\n",
       "      <td>39</td>\n",
       "      <td>admin.</td>\n",
       "      <td>married</td>\n",
       "      <td>high.school</td>\n",
       "      <td>no</td>\n",
       "      <td>yes</td>\n",
       "      <td>no</td>\n",
       "      <td>telephone</td>\n",
       "      <td>may</td>\n",
       "      <td>tue</td>\n",
       "      <td>0.0</td>\n",
       "      <td>4.0</td>\n",
       "      <td>999</td>\n",
       "      <td>0.0</td>\n",
       "      <td>nonexistent</td>\n",
       "      <td>1.1</td>\n",
       "      <td>93.994</td>\n",
       "      <td>-36.4</td>\n",
       "      <td>4.857</td>\n",
       "      <td>5191</td>\n",
       "      <td>no</td>\n",
       "    </tr>\n",
       "  </tbody>\n",
       "</table>\n",
       "</div>"
      ],
      "text/plain": [
       "      age     job  marital    education default housing loan    contact month  \\\n",
       "1950   39  admin.  married  high.school      no     yes   no  telephone   may   \n",
       "\n",
       "     day_of_week  duration  campaign  pdays  previous     poutcome  \\\n",
       "1950         tue       0.0       4.0    999       0.0  nonexistent   \n",
       "\n",
       "      emp.var.rate  cons.price.idx  cons.conf.idx  euribor3m nr.employed   y  \n",
       "1950           1.1          93.994          -36.4      4.857        5191  no  "
      ]
     },
     "execution_count": 7,
     "metadata": {},
     "output_type": "execute_result"
    }
   ],
   "source": [
    "banks[banks.duration==0].head()"
   ]
  },
  {
   "cell_type": "markdown",
   "id": "54c00272",
   "metadata": {},
   "source": [
    "Pošto smo našli jednu osobu koja je imala atribut `duration` jednak 0, tu osobu ćemo izbaciti iz analize."
   ]
  },
  {
   "cell_type": "code",
   "execution_count": 8,
   "id": "d033d2d9",
   "metadata": {},
   "outputs": [],
   "source": [
    "banks=banks[banks.duration!=0]"
   ]
  },
  {
   "cell_type": "markdown",
   "id": "59c5b6e7",
   "metadata": {},
   "source": [
    "Takođe ćemo promeniti imena promenljivih radi lakše analize."
   ]
  },
  {
   "cell_type": "code",
   "execution_count": 9,
   "id": "f13a6a2e",
   "metadata": {},
   "outputs": [],
   "source": [
    "banks=banks.rename(columns={'y':'subscribed?',\n",
    "                    'emp.var.rate':'emp_var_rate',\n",
    "                   'cons.price.idx':'cons_price_idx',\n",
    "                   'cons.conf.idx':'cons_conf_idx',\n",
    "                   'nr.employed':'nr_employed'})"
   ]
  },
  {
   "cell_type": "code",
   "execution_count": 10,
   "id": "e9ef3c09",
   "metadata": {},
   "outputs": [
    {
     "data": {
      "text/plain": [
       "Index(['age', 'job', 'marital', 'education', 'default', 'housing', 'loan',\n",
       "       'contact', 'month', 'day_of_week', 'duration', 'campaign', 'pdays',\n",
       "       'previous', 'poutcome', 'emp_var_rate', 'cons_price_idx',\n",
       "       'cons_conf_idx', 'euribor3m', 'nr_employed', 'subscribed?'],\n",
       "      dtype='object')"
      ]
     },
     "execution_count": 10,
     "metadata": {},
     "output_type": "execute_result"
    }
   ],
   "source": [
    "banks.columns"
   ]
  },
  {
   "cell_type": "code",
   "execution_count": 11,
   "id": "82effb22",
   "metadata": {},
   "outputs": [
    {
     "data": {
      "text/html": [
       "<div>\n",
       "<style scoped>\n",
       "    .dataframe tbody tr th:only-of-type {\n",
       "        vertical-align: middle;\n",
       "    }\n",
       "\n",
       "    .dataframe tbody tr th {\n",
       "        vertical-align: top;\n",
       "    }\n",
       "\n",
       "    .dataframe thead th {\n",
       "        text-align: right;\n",
       "    }\n",
       "</style>\n",
       "<table border=\"1\" class=\"dataframe\">\n",
       "  <thead>\n",
       "    <tr style=\"text-align: right;\">\n",
       "      <th></th>\n",
       "      <th>age</th>\n",
       "      <th>job</th>\n",
       "      <th>marital</th>\n",
       "      <th>education</th>\n",
       "      <th>default</th>\n",
       "      <th>housing</th>\n",
       "      <th>loan</th>\n",
       "      <th>contact</th>\n",
       "      <th>month</th>\n",
       "      <th>day_of_week</th>\n",
       "      <th>duration</th>\n",
       "      <th>campaign</th>\n",
       "      <th>pdays</th>\n",
       "      <th>previous</th>\n",
       "      <th>poutcome</th>\n",
       "      <th>emp_var_rate</th>\n",
       "      <th>cons_price_idx</th>\n",
       "      <th>cons_conf_idx</th>\n",
       "      <th>euribor3m</th>\n",
       "      <th>nr_employed</th>\n",
       "      <th>subscribed?</th>\n",
       "    </tr>\n",
       "  </thead>\n",
       "  <tbody>\n",
       "    <tr>\n",
       "      <th>0</th>\n",
       "      <td>30</td>\n",
       "      <td>blue-collar</td>\n",
       "      <td>married</td>\n",
       "      <td>basic.9y</td>\n",
       "      <td>no</td>\n",
       "      <td>yes</td>\n",
       "      <td>no</td>\n",
       "      <td>cellular</td>\n",
       "      <td>may</td>\n",
       "      <td>fri</td>\n",
       "      <td>487.0</td>\n",
       "      <td>2.0</td>\n",
       "      <td>999</td>\n",
       "      <td>0.0</td>\n",
       "      <td>nonexistent</td>\n",
       "      <td>-1.8</td>\n",
       "      <td>92.893</td>\n",
       "      <td>-46.2</td>\n",
       "      <td>1.313</td>\n",
       "      <td>5099.1</td>\n",
       "      <td>no</td>\n",
       "    </tr>\n",
       "    <tr>\n",
       "      <th>1</th>\n",
       "      <td>39</td>\n",
       "      <td>services</td>\n",
       "      <td>single</td>\n",
       "      <td>high.school</td>\n",
       "      <td>no</td>\n",
       "      <td>no</td>\n",
       "      <td>no</td>\n",
       "      <td>telephone</td>\n",
       "      <td>may</td>\n",
       "      <td>fri</td>\n",
       "      <td>346.0</td>\n",
       "      <td>4.0</td>\n",
       "      <td>999</td>\n",
       "      <td>0.0</td>\n",
       "      <td>nonexistent</td>\n",
       "      <td>1.1</td>\n",
       "      <td>93.994</td>\n",
       "      <td>-36.4</td>\n",
       "      <td>4.855</td>\n",
       "      <td>5191</td>\n",
       "      <td>no</td>\n",
       "    </tr>\n",
       "    <tr>\n",
       "      <th>2</th>\n",
       "      <td>25</td>\n",
       "      <td>services</td>\n",
       "      <td>married</td>\n",
       "      <td>high.school</td>\n",
       "      <td>no</td>\n",
       "      <td>yes</td>\n",
       "      <td>no</td>\n",
       "      <td>telephone</td>\n",
       "      <td>jun</td>\n",
       "      <td>wed</td>\n",
       "      <td>227.0</td>\n",
       "      <td>1.0</td>\n",
       "      <td>999</td>\n",
       "      <td>0.0</td>\n",
       "      <td>nonexistent</td>\n",
       "      <td>1.4</td>\n",
       "      <td>94.465</td>\n",
       "      <td>-41.8</td>\n",
       "      <td>4.962</td>\n",
       "      <td>5228.1</td>\n",
       "      <td>no</td>\n",
       "    </tr>\n",
       "    <tr>\n",
       "      <th>3</th>\n",
       "      <td>38</td>\n",
       "      <td>services</td>\n",
       "      <td>married</td>\n",
       "      <td>basic.9y</td>\n",
       "      <td>no</td>\n",
       "      <td>unknown</td>\n",
       "      <td>unknown</td>\n",
       "      <td>telephone</td>\n",
       "      <td>jun</td>\n",
       "      <td>fri</td>\n",
       "      <td>17.0</td>\n",
       "      <td>3.0</td>\n",
       "      <td>999</td>\n",
       "      <td>0.0</td>\n",
       "      <td>nonexistent</td>\n",
       "      <td>1.4</td>\n",
       "      <td>94.465</td>\n",
       "      <td>-41.8</td>\n",
       "      <td>4.959</td>\n",
       "      <td>5228.1</td>\n",
       "      <td>no</td>\n",
       "    </tr>\n",
       "    <tr>\n",
       "      <th>4</th>\n",
       "      <td>47</td>\n",
       "      <td>admin.</td>\n",
       "      <td>married</td>\n",
       "      <td>university.degree</td>\n",
       "      <td>no</td>\n",
       "      <td>yes</td>\n",
       "      <td>no</td>\n",
       "      <td>cellular</td>\n",
       "      <td>nov</td>\n",
       "      <td>mon</td>\n",
       "      <td>58.0</td>\n",
       "      <td>1.0</td>\n",
       "      <td>999</td>\n",
       "      <td>0.0</td>\n",
       "      <td>nonexistent</td>\n",
       "      <td>-0.1</td>\n",
       "      <td>93.200</td>\n",
       "      <td>-42.0</td>\n",
       "      <td>4.191</td>\n",
       "      <td>5195.8</td>\n",
       "      <td>no</td>\n",
       "    </tr>\n",
       "  </tbody>\n",
       "</table>\n",
       "</div>"
      ],
      "text/plain": [
       "   age          job  marital          education default  housing     loan  \\\n",
       "0   30  blue-collar  married           basic.9y      no      yes       no   \n",
       "1   39     services   single        high.school      no       no       no   \n",
       "2   25     services  married        high.school      no      yes       no   \n",
       "3   38     services  married           basic.9y      no  unknown  unknown   \n",
       "4   47       admin.  married  university.degree      no      yes       no   \n",
       "\n",
       "     contact month day_of_week  duration  campaign  pdays  previous  \\\n",
       "0   cellular   may         fri     487.0       2.0    999       0.0   \n",
       "1  telephone   may         fri     346.0       4.0    999       0.0   \n",
       "2  telephone   jun         wed     227.0       1.0    999       0.0   \n",
       "3  telephone   jun         fri      17.0       3.0    999       0.0   \n",
       "4   cellular   nov         mon      58.0       1.0    999       0.0   \n",
       "\n",
       "      poutcome  emp_var_rate  cons_price_idx  cons_conf_idx  euribor3m  \\\n",
       "0  nonexistent          -1.8          92.893          -46.2      1.313   \n",
       "1  nonexistent           1.1          93.994          -36.4      4.855   \n",
       "2  nonexistent           1.4          94.465          -41.8      4.962   \n",
       "3  nonexistent           1.4          94.465          -41.8      4.959   \n",
       "4  nonexistent          -0.1          93.200          -42.0      4.191   \n",
       "\n",
       "  nr_employed subscribed?  \n",
       "0      5099.1          no  \n",
       "1        5191          no  \n",
       "2      5228.1          no  \n",
       "3      5228.1          no  \n",
       "4      5195.8          no  "
      ]
     },
     "execution_count": 11,
     "metadata": {},
     "output_type": "execute_result"
    }
   ],
   "source": [
    "banks.head()"
   ]
  },
  {
   "cell_type": "code",
   "execution_count": 12,
   "id": "488c5588",
   "metadata": {},
   "outputs": [
    {
     "data": {
      "text/plain": [
       "age                 int64\n",
       "job                object\n",
       "marital            object\n",
       "education          object\n",
       "default            object\n",
       "housing            object\n",
       "loan               object\n",
       "contact            object\n",
       "month              object\n",
       "day_of_week        object\n",
       "duration          float64\n",
       "campaign          float64\n",
       "pdays               int64\n",
       "previous          float64\n",
       "poutcome           object\n",
       "emp_var_rate      float64\n",
       "cons_price_idx    float64\n",
       "cons_conf_idx     float64\n",
       "euribor3m         float64\n",
       "nr_employed        object\n",
       "subscribed?        object\n",
       "dtype: object"
      ]
     },
     "execution_count": 12,
     "metadata": {},
     "output_type": "execute_result"
    }
   ],
   "source": [
    "banks.dtypes"
   ]
  },
  {
   "cell_type": "markdown",
   "id": "c57de097",
   "metadata": {},
   "source": [
    "Možemo da odradimo neke osnovne deskriptivne statistike nad ovim skupom."
   ]
  },
  {
   "cell_type": "code",
   "execution_count": 13,
   "id": "39671f06",
   "metadata": {
    "scrolled": true
   },
   "outputs": [
    {
     "data": {
      "text/html": [
       "<div>\n",
       "<style scoped>\n",
       "    .dataframe tbody tr th:only-of-type {\n",
       "        vertical-align: middle;\n",
       "    }\n",
       "\n",
       "    .dataframe tbody tr th {\n",
       "        vertical-align: top;\n",
       "    }\n",
       "\n",
       "    .dataframe thead th {\n",
       "        text-align: right;\n",
       "    }\n",
       "</style>\n",
       "<table border=\"1\" class=\"dataframe\">\n",
       "  <thead>\n",
       "    <tr style=\"text-align: right;\">\n",
       "      <th></th>\n",
       "      <th>age</th>\n",
       "      <th>duration</th>\n",
       "      <th>campaign</th>\n",
       "      <th>pdays</th>\n",
       "      <th>previous</th>\n",
       "      <th>emp_var_rate</th>\n",
       "      <th>cons_price_idx</th>\n",
       "      <th>cons_conf_idx</th>\n",
       "      <th>euribor3m</th>\n",
       "    </tr>\n",
       "  </thead>\n",
       "  <tbody>\n",
       "    <tr>\n",
       "      <th>count</th>\n",
       "      <td>4118.000000</td>\n",
       "      <td>4115.000000</td>\n",
       "      <td>4113.000000</td>\n",
       "      <td>4118.000000</td>\n",
       "      <td>4116.000000</td>\n",
       "      <td>4115.000000</td>\n",
       "      <td>4116.000000</td>\n",
       "      <td>4116.000000</td>\n",
       "      <td>4116.000000</td>\n",
       "    </tr>\n",
       "    <tr>\n",
       "      <th>mean</th>\n",
       "      <td>40.113890</td>\n",
       "      <td>256.931470</td>\n",
       "      <td>2.533917</td>\n",
       "      <td>960.412822</td>\n",
       "      <td>0.190476</td>\n",
       "      <td>0.084447</td>\n",
       "      <td>93.579439</td>\n",
       "      <td>-40.487350</td>\n",
       "      <td>4.858993</td>\n",
       "    </tr>\n",
       "    <tr>\n",
       "      <th>std</th>\n",
       "      <td>10.314599</td>\n",
       "      <td>254.763392</td>\n",
       "      <td>2.566883</td>\n",
       "      <td>191.945151</td>\n",
       "      <td>0.541961</td>\n",
       "      <td>1.563470</td>\n",
       "      <td>0.579476</td>\n",
       "      <td>4.639967</td>\n",
       "      <td>79.442107</td>\n",
       "    </tr>\n",
       "    <tr>\n",
       "      <th>min</th>\n",
       "      <td>18.000000</td>\n",
       "      <td>4.000000</td>\n",
       "      <td>1.000000</td>\n",
       "      <td>0.000000</td>\n",
       "      <td>0.000000</td>\n",
       "      <td>-3.400000</td>\n",
       "      <td>92.201000</td>\n",
       "      <td>-50.800000</td>\n",
       "      <td>0.635000</td>\n",
       "    </tr>\n",
       "    <tr>\n",
       "      <th>25%</th>\n",
       "      <td>32.000000</td>\n",
       "      <td>103.000000</td>\n",
       "      <td>1.000000</td>\n",
       "      <td>999.000000</td>\n",
       "      <td>0.000000</td>\n",
       "      <td>-1.800000</td>\n",
       "      <td>93.075000</td>\n",
       "      <td>-42.700000</td>\n",
       "      <td>1.334000</td>\n",
       "    </tr>\n",
       "    <tr>\n",
       "      <th>50%</th>\n",
       "      <td>38.000000</td>\n",
       "      <td>181.000000</td>\n",
       "      <td>2.000000</td>\n",
       "      <td>999.000000</td>\n",
       "      <td>0.000000</td>\n",
       "      <td>1.100000</td>\n",
       "      <td>93.749000</td>\n",
       "      <td>-41.800000</td>\n",
       "      <td>4.857000</td>\n",
       "    </tr>\n",
       "    <tr>\n",
       "      <th>75%</th>\n",
       "      <td>47.000000</td>\n",
       "      <td>317.500000</td>\n",
       "      <td>3.000000</td>\n",
       "      <td>999.000000</td>\n",
       "      <td>0.000000</td>\n",
       "      <td>1.400000</td>\n",
       "      <td>93.994000</td>\n",
       "      <td>-36.400000</td>\n",
       "      <td>4.961000</td>\n",
       "    </tr>\n",
       "    <tr>\n",
       "      <th>max</th>\n",
       "      <td>88.000000</td>\n",
       "      <td>3643.000000</td>\n",
       "      <td>35.000000</td>\n",
       "      <td>999.000000</td>\n",
       "      <td>6.000000</td>\n",
       "      <td>1.400000</td>\n",
       "      <td>94.767000</td>\n",
       "      <td>1.266000</td>\n",
       "      <td>5099.100000</td>\n",
       "    </tr>\n",
       "  </tbody>\n",
       "</table>\n",
       "</div>"
      ],
      "text/plain": [
       "               age     duration     campaign        pdays     previous  \\\n",
       "count  4118.000000  4115.000000  4113.000000  4118.000000  4116.000000   \n",
       "mean     40.113890   256.931470     2.533917   960.412822     0.190476   \n",
       "std      10.314599   254.763392     2.566883   191.945151     0.541961   \n",
       "min      18.000000     4.000000     1.000000     0.000000     0.000000   \n",
       "25%      32.000000   103.000000     1.000000   999.000000     0.000000   \n",
       "50%      38.000000   181.000000     2.000000   999.000000     0.000000   \n",
       "75%      47.000000   317.500000     3.000000   999.000000     0.000000   \n",
       "max      88.000000  3643.000000    35.000000   999.000000     6.000000   \n",
       "\n",
       "       emp_var_rate  cons_price_idx  cons_conf_idx    euribor3m  \n",
       "count   4115.000000     4116.000000    4116.000000  4116.000000  \n",
       "mean       0.084447       93.579439     -40.487350     4.858993  \n",
       "std        1.563470        0.579476       4.639967    79.442107  \n",
       "min       -3.400000       92.201000     -50.800000     0.635000  \n",
       "25%       -1.800000       93.075000     -42.700000     1.334000  \n",
       "50%        1.100000       93.749000     -41.800000     4.857000  \n",
       "75%        1.400000       93.994000     -36.400000     4.961000  \n",
       "max        1.400000       94.767000       1.266000  5099.100000  "
      ]
     },
     "execution_count": 13,
     "metadata": {},
     "output_type": "execute_result"
    }
   ],
   "source": [
    "banks.describe()"
   ]
  },
  {
   "cell_type": "markdown",
   "id": "67d43565",
   "metadata": {},
   "source": [
    "Saznali smo neke osnovne deskriptivne statistike. Prva stvar koju primećujemo je da je atribut `nr_employed` definisan kao `object` a trebalo bi kao numerički atribut. S tim u vezi ćemo utvrditi razlog zbog kojeg je `Pandas` njega definisao kao `object`."
   ]
  },
  {
   "cell_type": "code",
   "execution_count": 14,
   "id": "b9eeb338",
   "metadata": {},
   "outputs": [
    {
     "data": {
      "text/plain": [
       "5228.1    1625\n",
       "5099.1     822\n",
       "5191       757\n",
       "5195.8     392\n",
       "5076.2     164\n",
       "5017.5     104\n",
       "4991.6      87\n",
       "4963.6      83\n",
       "5008.7      60\n",
       "5023.5      21\n",
       "no           1\n",
       "5176.3       1\n",
       "Name: nr_employed, dtype: int64"
      ]
     },
     "execution_count": 14,
     "metadata": {},
     "output_type": "execute_result"
    }
   ],
   "source": [
    "banks['nr_employed'].value_counts()"
   ]
  },
  {
   "cell_type": "code",
   "execution_count": 15,
   "id": "1f50e940",
   "metadata": {},
   "outputs": [
    {
     "data": {
      "text/html": [
       "<div>\n",
       "<style scoped>\n",
       "    .dataframe tbody tr th:only-of-type {\n",
       "        vertical-align: middle;\n",
       "    }\n",
       "\n",
       "    .dataframe tbody tr th {\n",
       "        vertical-align: top;\n",
       "    }\n",
       "\n",
       "    .dataframe thead th {\n",
       "        text-align: right;\n",
       "    }\n",
       "</style>\n",
       "<table border=\"1\" class=\"dataframe\">\n",
       "  <thead>\n",
       "    <tr style=\"text-align: right;\">\n",
       "      <th></th>\n",
       "      <th>age</th>\n",
       "      <th>job</th>\n",
       "      <th>marital</th>\n",
       "      <th>education</th>\n",
       "      <th>default</th>\n",
       "      <th>housing</th>\n",
       "      <th>loan</th>\n",
       "      <th>contact</th>\n",
       "      <th>month</th>\n",
       "      <th>day_of_week</th>\n",
       "      <th>duration</th>\n",
       "      <th>campaign</th>\n",
       "      <th>pdays</th>\n",
       "      <th>previous</th>\n",
       "      <th>poutcome</th>\n",
       "      <th>emp_var_rate</th>\n",
       "      <th>cons_price_idx</th>\n",
       "      <th>cons_conf_idx</th>\n",
       "      <th>euribor3m</th>\n",
       "      <th>nr_employed</th>\n",
       "      <th>subscribed?</th>\n",
       "    </tr>\n",
       "  </thead>\n",
       "  <tbody>\n",
       "    <tr>\n",
       "      <th>780</th>\n",
       "      <td>32</td>\n",
       "      <td>blue-collar</td>\n",
       "      <td>married</td>\n",
       "      <td>basic.4y</td>\n",
       "      <td>no</td>\n",
       "      <td>no</td>\n",
       "      <td>yes</td>\n",
       "      <td>cellular</td>\n",
       "      <td>may</td>\n",
       "      <td>thu</td>\n",
       "      <td>80.0</td>\n",
       "      <td>4.0</td>\n",
       "      <td>999</td>\n",
       "      <td>0.0</td>\n",
       "      <td>nonexistent</td>\n",
       "      <td>-1.8</td>\n",
       "      <td>92.893</td>\n",
       "      <td>1.266</td>\n",
       "      <td>5099.1</td>\n",
       "      <td>no</td>\n",
       "      <td>NaN</td>\n",
       "    </tr>\n",
       "  </tbody>\n",
       "</table>\n",
       "</div>"
      ],
      "text/plain": [
       "     age          job  marital education default housing loan   contact month  \\\n",
       "780   32  blue-collar  married  basic.4y      no      no  yes  cellular   may   \n",
       "\n",
       "    day_of_week  duration  campaign  pdays  previous     poutcome  \\\n",
       "780         thu      80.0       4.0    999       0.0  nonexistent   \n",
       "\n",
       "     emp_var_rate  cons_price_idx  cons_conf_idx  euribor3m nr_employed  \\\n",
       "780          -1.8          92.893          1.266     5099.1          no   \n",
       "\n",
       "    subscribed?  \n",
       "780         NaN  "
      ]
     },
     "execution_count": 15,
     "metadata": {},
     "output_type": "execute_result"
    }
   ],
   "source": [
    "banks[banks['nr_employed']=='no']"
   ]
  },
  {
   "cell_type": "code",
   "execution_count": 16,
   "id": "31434cdf",
   "metadata": {},
   "outputs": [
    {
     "data": {
      "text/plain": [
       "780     5099.100\n",
       "1546       5.045\n",
       "263        4.970\n",
       "1598       4.970\n",
       "270        4.970\n",
       "Name: euribor3m, dtype: float64"
      ]
     },
     "execution_count": 16,
     "metadata": {},
     "output_type": "execute_result"
    }
   ],
   "source": [
    "banks['euribor3m'].sort_values(ascending=False).head()"
   ]
  },
  {
   "cell_type": "markdown",
   "id": "7377663c",
   "metadata": {},
   "source": [
    "Nakon pozivanja metode `value_counts` utvridli smo da postoji pojavljivanje vrednosti \"no\" u `nr_employed` atributu. Očigledno je to greška u podacima pa kako bismo videli kako ćemo da je rešimo prvo smo bacili pogled na osobu koji ima ovu vrednost. Kao što može da se primeti ova osoba pored greške u ovom atributu ima i `NaN` vrednost za izlazni atribut. Pošto ima dve vrednosti atributa koje nam nisu od pomoći pri modelovanju razmišljamo o izbacivanju ove osobe iz skupa. Konačnu odluku nam je dala informacija o vrednosti atributa `euribor3m`. Prilikom prikazivanja deskriptivne statistike dobili smo informaciju da je baš vrednost koju ovaj atribut prikazuje maksimalna u ovom skupu podataka, dok informacije o kvaritilima nam pričaju da su to vrednosti znatno manje nego kod ove osobe. Prikazivanjem sortiranih vrednosti svih osoba iz skupa podataka uočavamo da je ovo jedina osoba koja ima ovako visoku vrednost atributa `euribor3m` pa samim tim je moguće da je u pitanju autlajer. Međutim daljom analizom smo došli do toga da je vrlo verovatno da je osoba koja je popunjavala dataset slučajno preskočila jednu od kolona za upis podataka, jer je vrednost \"no\" koja je dodata atributu `nr_employed` vrlo verovatno trebalo da bude vrednost izlaznog atrbuta, a vrednost 5099.1 je vrlo verovatno trebalo da bude dodeljenja atributu `euribor3m`. Najviše smisla bi bilo da je propuštena vrednost atributa `cons_conf_idx`, ali da ne bismo doveli određeni šum u ovaj skup konačna odluka je da se ova osoba izbaci iz dalje analize."
   ]
  },
  {
   "cell_type": "code",
   "execution_count": 17,
   "id": "cf9626fe",
   "metadata": {},
   "outputs": [],
   "source": [
    "banks=banks[banks['nr_employed']!='no']"
   ]
  },
  {
   "cell_type": "markdown",
   "id": "9f0ce147",
   "metadata": {},
   "source": [
    "Pošto smo rešili problem atributa `nr.employed` sada možemo da ga konvertujemo u `float`."
   ]
  },
  {
   "cell_type": "code",
   "execution_count": 18,
   "id": "58903d73",
   "metadata": {},
   "outputs": [],
   "source": [
    "pd.options.mode.chained_assignment = None\n",
    "banks['nr_employed']=pd.to_numeric(banks['nr_employed'], errors='coerce')"
   ]
  },
  {
   "cell_type": "code",
   "execution_count": 19,
   "id": "ee3819b1",
   "metadata": {},
   "outputs": [
    {
     "name": "stdout",
     "output_type": "stream",
     "text": [
      "<class 'pandas.core.frame.DataFrame'>\n",
      "Int64Index: 4117 entries, 0 to 4118\n",
      "Data columns (total 21 columns):\n",
      " #   Column          Non-Null Count  Dtype  \n",
      "---  ------          --------------  -----  \n",
      " 0   age             4117 non-null   int64  \n",
      " 1   job             4117 non-null   object \n",
      " 2   marital         4117 non-null   object \n",
      " 3   education       4117 non-null   object \n",
      " 4   default         4117 non-null   object \n",
      " 5   housing         4117 non-null   object \n",
      " 6   loan            4117 non-null   object \n",
      " 7   contact         4117 non-null   object \n",
      " 8   month           4117 non-null   object \n",
      " 9   day_of_week     4117 non-null   object \n",
      " 10  duration        4114 non-null   float64\n",
      " 11  campaign        4112 non-null   float64\n",
      " 12  pdays           4117 non-null   int64  \n",
      " 13  previous        4115 non-null   float64\n",
      " 14  poutcome        4117 non-null   object \n",
      " 15  emp_var_rate    4114 non-null   float64\n",
      " 16  cons_price_idx  4115 non-null   float64\n",
      " 17  cons_conf_idx   4115 non-null   float64\n",
      " 18  euribor3m       4115 non-null   float64\n",
      " 19  nr_employed     4116 non-null   float64\n",
      " 20  subscribed?     4117 non-null   object \n",
      "dtypes: float64(8), int64(2), object(11)\n",
      "memory usage: 707.6+ KB\n"
     ]
    }
   ],
   "source": [
    "banks.info()"
   ]
  },
  {
   "cell_type": "code",
   "execution_count": 20,
   "id": "e32f554c",
   "metadata": {
    "scrolled": true
   },
   "outputs": [
    {
     "data": {
      "text/html": [
       "<div>\n",
       "<style scoped>\n",
       "    .dataframe tbody tr th:only-of-type {\n",
       "        vertical-align: middle;\n",
       "    }\n",
       "\n",
       "    .dataframe tbody tr th {\n",
       "        vertical-align: top;\n",
       "    }\n",
       "\n",
       "    .dataframe thead th {\n",
       "        text-align: right;\n",
       "    }\n",
       "</style>\n",
       "<table border=\"1\" class=\"dataframe\">\n",
       "  <thead>\n",
       "    <tr style=\"text-align: right;\">\n",
       "      <th></th>\n",
       "      <th>age</th>\n",
       "      <th>duration</th>\n",
       "      <th>campaign</th>\n",
       "      <th>pdays</th>\n",
       "      <th>previous</th>\n",
       "      <th>emp_var_rate</th>\n",
       "      <th>cons_price_idx</th>\n",
       "      <th>cons_conf_idx</th>\n",
       "      <th>euribor3m</th>\n",
       "      <th>nr_employed</th>\n",
       "    </tr>\n",
       "  </thead>\n",
       "  <tbody>\n",
       "    <tr>\n",
       "      <th>count</th>\n",
       "      <td>4117.000000</td>\n",
       "      <td>4114.000000</td>\n",
       "      <td>4112.000000</td>\n",
       "      <td>4117.000000</td>\n",
       "      <td>4115.000000</td>\n",
       "      <td>4114.000000</td>\n",
       "      <td>4115.000000</td>\n",
       "      <td>4115.000000</td>\n",
       "      <td>4115.000000</td>\n",
       "      <td>4116.000000</td>\n",
       "    </tr>\n",
       "    <tr>\n",
       "      <th>mean</th>\n",
       "      <td>40.115861</td>\n",
       "      <td>256.974477</td>\n",
       "      <td>2.533560</td>\n",
       "      <td>960.403449</td>\n",
       "      <td>0.190522</td>\n",
       "      <td>0.084905</td>\n",
       "      <td>93.579606</td>\n",
       "      <td>-40.497497</td>\n",
       "      <td>3.621025</td>\n",
       "      <td>5166.477138</td>\n",
       "    </tr>\n",
       "    <tr>\n",
       "      <th>std</th>\n",
       "      <td>10.315077</td>\n",
       "      <td>254.779420</td>\n",
       "      <td>2.567094</td>\n",
       "      <td>191.967524</td>\n",
       "      <td>0.542019</td>\n",
       "      <td>1.563384</td>\n",
       "      <td>0.579447</td>\n",
       "      <td>4.594634</td>\n",
       "      <td>1.733722</td>\n",
       "      <td>73.680013</td>\n",
       "    </tr>\n",
       "    <tr>\n",
       "      <th>min</th>\n",
       "      <td>18.000000</td>\n",
       "      <td>4.000000</td>\n",
       "      <td>1.000000</td>\n",
       "      <td>0.000000</td>\n",
       "      <td>0.000000</td>\n",
       "      <td>-3.400000</td>\n",
       "      <td>92.201000</td>\n",
       "      <td>-50.800000</td>\n",
       "      <td>0.635000</td>\n",
       "      <td>4963.600000</td>\n",
       "    </tr>\n",
       "    <tr>\n",
       "      <th>25%</th>\n",
       "      <td>32.000000</td>\n",
       "      <td>103.000000</td>\n",
       "      <td>1.000000</td>\n",
       "      <td>999.000000</td>\n",
       "      <td>0.000000</td>\n",
       "      <td>-1.800000</td>\n",
       "      <td>93.075000</td>\n",
       "      <td>-42.700000</td>\n",
       "      <td>1.334000</td>\n",
       "      <td>5099.100000</td>\n",
       "    </tr>\n",
       "    <tr>\n",
       "      <th>50%</th>\n",
       "      <td>38.000000</td>\n",
       "      <td>181.000000</td>\n",
       "      <td>2.000000</td>\n",
       "      <td>999.000000</td>\n",
       "      <td>0.000000</td>\n",
       "      <td>1.100000</td>\n",
       "      <td>93.749000</td>\n",
       "      <td>-41.800000</td>\n",
       "      <td>4.857000</td>\n",
       "      <td>5191.000000</td>\n",
       "    </tr>\n",
       "    <tr>\n",
       "      <th>75%</th>\n",
       "      <td>47.000000</td>\n",
       "      <td>317.750000</td>\n",
       "      <td>3.000000</td>\n",
       "      <td>999.000000</td>\n",
       "      <td>0.000000</td>\n",
       "      <td>1.400000</td>\n",
       "      <td>93.994000</td>\n",
       "      <td>-36.400000</td>\n",
       "      <td>4.961000</td>\n",
       "      <td>5228.100000</td>\n",
       "    </tr>\n",
       "    <tr>\n",
       "      <th>max</th>\n",
       "      <td>88.000000</td>\n",
       "      <td>3643.000000</td>\n",
       "      <td>35.000000</td>\n",
       "      <td>999.000000</td>\n",
       "      <td>6.000000</td>\n",
       "      <td>1.400000</td>\n",
       "      <td>94.767000</td>\n",
       "      <td>-26.900000</td>\n",
       "      <td>5.045000</td>\n",
       "      <td>5228.100000</td>\n",
       "    </tr>\n",
       "  </tbody>\n",
       "</table>\n",
       "</div>"
      ],
      "text/plain": [
       "               age     duration     campaign        pdays     previous  \\\n",
       "count  4117.000000  4114.000000  4112.000000  4117.000000  4115.000000   \n",
       "mean     40.115861   256.974477     2.533560   960.403449     0.190522   \n",
       "std      10.315077   254.779420     2.567094   191.967524     0.542019   \n",
       "min      18.000000     4.000000     1.000000     0.000000     0.000000   \n",
       "25%      32.000000   103.000000     1.000000   999.000000     0.000000   \n",
       "50%      38.000000   181.000000     2.000000   999.000000     0.000000   \n",
       "75%      47.000000   317.750000     3.000000   999.000000     0.000000   \n",
       "max      88.000000  3643.000000    35.000000   999.000000     6.000000   \n",
       "\n",
       "       emp_var_rate  cons_price_idx  cons_conf_idx    euribor3m  nr_employed  \n",
       "count   4114.000000     4115.000000    4115.000000  4115.000000  4116.000000  \n",
       "mean       0.084905       93.579606     -40.497497     3.621025  5166.477138  \n",
       "std        1.563384        0.579447       4.594634     1.733722    73.680013  \n",
       "min       -3.400000       92.201000     -50.800000     0.635000  4963.600000  \n",
       "25%       -1.800000       93.075000     -42.700000     1.334000  5099.100000  \n",
       "50%        1.100000       93.749000     -41.800000     4.857000  5191.000000  \n",
       "75%        1.400000       93.994000     -36.400000     4.961000  5228.100000  \n",
       "max        1.400000       94.767000     -26.900000     5.045000  5228.100000  "
      ]
     },
     "execution_count": 20,
     "metadata": {},
     "output_type": "execute_result"
    }
   ],
   "source": [
    "banks.describe()"
   ]
  },
  {
   "cell_type": "markdown",
   "id": "d087a311",
   "metadata": {},
   "source": [
    "Pre nego što se pozabavimo pojedinačnom analizom atributa, proverićemo da li postoje neke nepostojeće vrednosti i videti da li možemo nekako da ih obradimo."
   ]
  },
  {
   "cell_type": "code",
   "execution_count": 21,
   "id": "37899dcb",
   "metadata": {},
   "outputs": [
    {
     "data": {
      "text/plain": [
       "age               0\n",
       "job               0\n",
       "marital           0\n",
       "education         0\n",
       "default           0\n",
       "housing           0\n",
       "loan              0\n",
       "contact           0\n",
       "month             0\n",
       "day_of_week       0\n",
       "duration          3\n",
       "campaign          5\n",
       "pdays             0\n",
       "previous          2\n",
       "poutcome          0\n",
       "emp_var_rate      3\n",
       "cons_price_idx    2\n",
       "cons_conf_idx     2\n",
       "euribor3m         2\n",
       "nr_employed       1\n",
       "subscribed?       0\n",
       "dtype: int64"
      ]
     },
     "execution_count": 21,
     "metadata": {},
     "output_type": "execute_result"
    }
   ],
   "source": [
    "banks.isna().sum()"
   ]
  },
  {
   "cell_type": "markdown",
   "id": "52f2bdcf",
   "metadata": {},
   "source": [
    "Pošto se sve `NaN` vrednosti nalaze u atributima koji su kontinualni, možemo da ih se rešimo tako što ćemo ih zameniti sa vrednošću artimetičke sredine tih atributa. Primećuje se da smo za neke vrednosti umesto aritmetičke sredine odlučili da izbacimo potpuno redove sa `NaN` vrednostima. To je jer smo daljom analizom utvrdili da je bolje izbaciti ih iz nego zadržati. Razlog ćemo definisati kasnije."
   ]
  },
  {
   "cell_type": "code",
   "execution_count": 22,
   "id": "a6567ff5",
   "metadata": {},
   "outputs": [],
   "source": [
    "banks.duration=banks.duration.fillna(banks.duration.mean())\n",
    "banks.campaign=banks.campaign.dropna()\n",
    "banks.previous=banks.previous.dropna()\n",
    "banks['emp_var_rate']=banks['emp_var_rate'].fillna(banks['emp_var_rate'].mean())\n",
    "banks['cons_price_idx']=banks['cons_price_idx'].fillna(banks['cons_price_idx'].mean())\n",
    "banks['euribor3m']=banks['euribor3m'].fillna(banks['euribor3m'].mean())\n",
    "banks['cons_conf_idx']=banks['cons_conf_idx'].fillna(banks['cons_conf_idx'].mean())\n",
    "banks['nr_employed']=banks['nr_employed'].dropna()"
   ]
  },
  {
   "cell_type": "code",
   "execution_count": 23,
   "id": "d104ed5b",
   "metadata": {},
   "outputs": [
    {
     "data": {
      "text/plain": [
       "8"
      ]
     },
     "execution_count": 23,
     "metadata": {},
     "output_type": "execute_result"
    }
   ],
   "source": [
    "banks.isna().sum().sum()\n"
   ]
  },
  {
   "cell_type": "markdown",
   "id": "210f5834",
   "metadata": {},
   "source": [
    "Pogledaćemo i korelacije između nekih kontonualnih promenljivih, prvo prikazom scatter plot-a, a zatim testom korelacije i heatmapom."
   ]
  },
  {
   "cell_type": "code",
   "execution_count": 24,
   "id": "8edfa1a6",
   "metadata": {},
   "outputs": [
    {
     "data": {
      "image/png": "[encoded data removed]",
      "text/plain": [
       "<Figure size 1343.74x1250 with 30 Axes>"
      ]
     },
     "metadata": {},
     "output_type": "display_data"
    }
   ],
   "source": [
    "sns.pairplot(banks, vars=['emp_var_rate','cons_price_idx','cons_conf_idx','nr_employed','euribor3m'], hue='subscribed?')\n",
    "plt.show()"
   ]
  },
  {
   "cell_type": "code",
   "execution_count": 25,
   "id": "0a8c78ea",
   "metadata": {},
   "outputs": [
    {
     "data": {
      "image/png": "[encoded data removed]",
      "text/plain": [
       "<Figure size 640x480 with 2 Axes>"
      ]
     },
     "metadata": {},
     "output_type": "display_data"
    }
   ],
   "source": [
    "banks_corr=banks[['emp_var_rate','cons_price_idx','cons_conf_idx','nr_employed','euribor3m']].corr()\n",
    "sns.heatmap(banks_corr, annot=True)\n",
    "plt.show()"
   ]
  },
  {
   "cell_type": "markdown",
   "id": "2dd39bb9",
   "metadata": {},
   "source": [
    "Vidimo da postoje neke promenljivu koje su u visokoj korelaciji, ali postoji mogućnost da postoji multikolinearnost u regresiji. Svakako pošto nećemo kreirati regresioni model, ovo možemo zanemariti. Sada ćemo prikazati pojedinačne raspodele vredmosti ovih atributa i videti šta ćemo dalje."
   ]
  },
  {
   "cell_type": "code",
   "execution_count": 26,
   "id": "8b28200d",
   "metadata": {},
   "outputs": [
    {
     "data": {
      "image/png": "[encoded data removed]",
      "text/plain": [
       "<Figure size 640x480 with 6 Axes>"
      ]
     },
     "metadata": {},
     "output_type": "display_data"
    }
   ],
   "source": [
    "banks[['emp_var_rate','cons_price_idx','cons_conf_idx','nr_employed','euribor3m']].hist(bins=50)\n",
    "plt.show()"
   ]
  },
  {
   "cell_type": "code",
   "execution_count": 27,
   "id": "bf327e1b",
   "metadata": {},
   "outputs": [
    {
     "data": {
      "image/png": "[encoded data removed]",
      "text/plain": [
       "<Figure size 640x480 with 1 Axes>"
      ]
     },
     "metadata": {},
     "output_type": "display_data"
    }
   ],
   "source": [
    "banks[['duration','campaign','pdays','previous']].plot(kind='box')\n",
    "plt.show()"
   ]
  },
  {
   "cell_type": "markdown",
   "id": "80bfba23",
   "metadata": {},
   "source": [
    "Sa box-plota saznajemo da svake od ovih prikazanih promenljivih imaju autlajere. Sad cemo da probamo da vidimo svaku pojedinačno i da zaključimo šta možemo sa njima."
   ]
  },
  {
   "cell_type": "code",
   "execution_count": 28,
   "id": "6514db9c",
   "metadata": {},
   "outputs": [
    {
     "data": {
      "image/png": "[encoded data removed]",
      "text/plain": [
       "<Figure size 640x480 with 1 Axes>"
      ]
     },
     "metadata": {},
     "output_type": "display_data"
    }
   ],
   "source": [
    "banks['duration'].plot(kind='hist', bins=100)\n",
    "plt.show()"
   ]
  },
  {
   "cell_type": "code",
   "execution_count": 29,
   "id": "f9ce87d7",
   "metadata": {},
   "outputs": [
    {
     "data": {
      "image/png": "[encoded data removed]",
      "text/plain": [
       "<Figure size 640x480 with 1 Axes>"
      ]
     },
     "metadata": {},
     "output_type": "display_data"
    }
   ],
   "source": [
    "banks['campaign'].plot(kind='box')\n",
    "plt.show()"
   ]
  },
  {
   "cell_type": "code",
   "execution_count": 30,
   "id": "ae0a7784",
   "metadata": {},
   "outputs": [
    {
     "data": {
      "image/png": "[encoded data removed]",
      "text/plain": [
       "<Figure size 640x480 with 1 Axes>"
      ]
     },
     "metadata": {},
     "output_type": "display_data"
    }
   ],
   "source": [
    "banks['campaign'].plot(kind='hist', bins=30)\n",
    "plt.show()"
   ]
  },
  {
   "cell_type": "code",
   "execution_count": 31,
   "id": "c8aba08c",
   "metadata": {},
   "outputs": [
    {
     "data": {
      "image/png": "[encoded data removed]",
      "text/plain": [
       "<Figure size 640x480 with 1 Axes>"
      ]
     },
     "metadata": {},
     "output_type": "display_data"
    }
   ],
   "source": [
    "banks['pdays'].plot(kind='box')\n",
    "plt.show()"
   ]
  },
  {
   "cell_type": "code",
   "execution_count": 32,
   "id": "ad6a6573",
   "metadata": {},
   "outputs": [
    {
     "data": {
      "image/png": "[encoded data removed]",
      "text/plain": [
       "<Figure size 640x480 with 1 Axes>"
      ]
     },
     "metadata": {},
     "output_type": "display_data"
    }
   ],
   "source": [
    "banks['pdays'].plot(kind='hist', bins=60)\n",
    "plt.show()"
   ]
  },
  {
   "cell_type": "code",
   "execution_count": 33,
   "id": "674ff33a",
   "metadata": {},
   "outputs": [
    {
     "data": {
      "text/plain": [
       "999    3957\n",
       "3        52\n",
       "6        42\n",
       "4        14\n",
       "7        10\n",
       "10        8\n",
       "12        5\n",
       "5         4\n",
       "2         4\n",
       "1         3\n",
       "9         3\n",
       "16        2\n",
       "13        2\n",
       "18        2\n",
       "0         2\n",
       "15        2\n",
       "19        1\n",
       "17        1\n",
       "11        1\n",
       "21        1\n",
       "14        1\n",
       "Name: pdays, dtype: int64"
      ]
     },
     "execution_count": 33,
     "metadata": {},
     "output_type": "execute_result"
    }
   ],
   "source": [
    "banks.pdays.value_counts()"
   ]
  },
  {
   "cell_type": "markdown",
   "id": "89d62e0e",
   "metadata": {},
   "source": [
    "Ova promenljiva nam takođe ne daje puno informacija kada je predstavljena na kontinualnoj skali pa ćemo je kategorizovati u dve grupe: ljudi koji su bili kontaktirani i ljudi koji nisu bili kontaktirani od strane prethodne kampanje. "
   ]
  },
  {
   "cell_type": "code",
   "execution_count": 34,
   "id": "2df3756d",
   "metadata": {},
   "outputs": [
    {
     "data": {
      "text/html": [
       "<div>\n",
       "<style scoped>\n",
       "    .dataframe tbody tr th:only-of-type {\n",
       "        vertical-align: middle;\n",
       "    }\n",
       "\n",
       "    .dataframe tbody tr th {\n",
       "        vertical-align: top;\n",
       "    }\n",
       "\n",
       "    .dataframe thead th {\n",
       "        text-align: right;\n",
       "    }\n",
       "</style>\n",
       "<table border=\"1\" class=\"dataframe\">\n",
       "  <thead>\n",
       "    <tr style=\"text-align: right;\">\n",
       "      <th></th>\n",
       "      <th>age</th>\n",
       "      <th>job</th>\n",
       "      <th>marital</th>\n",
       "      <th>education</th>\n",
       "      <th>default</th>\n",
       "      <th>housing</th>\n",
       "      <th>loan</th>\n",
       "      <th>contact</th>\n",
       "      <th>month</th>\n",
       "      <th>day_of_week</th>\n",
       "      <th>duration</th>\n",
       "      <th>campaign</th>\n",
       "      <th>pdays</th>\n",
       "      <th>previous</th>\n",
       "      <th>poutcome</th>\n",
       "      <th>emp_var_rate</th>\n",
       "      <th>cons_price_idx</th>\n",
       "      <th>cons_conf_idx</th>\n",
       "      <th>euribor3m</th>\n",
       "      <th>nr_employed</th>\n",
       "      <th>subscribed?</th>\n",
       "    </tr>\n",
       "  </thead>\n",
       "  <tbody>\n",
       "    <tr>\n",
       "      <th>0</th>\n",
       "      <td>30</td>\n",
       "      <td>blue-collar</td>\n",
       "      <td>married</td>\n",
       "      <td>basic.9y</td>\n",
       "      <td>no</td>\n",
       "      <td>yes</td>\n",
       "      <td>no</td>\n",
       "      <td>cellular</td>\n",
       "      <td>may</td>\n",
       "      <td>fri</td>\n",
       "      <td>487.0</td>\n",
       "      <td>2.0</td>\n",
       "      <td>False</td>\n",
       "      <td>0.0</td>\n",
       "      <td>nonexistent</td>\n",
       "      <td>-1.8</td>\n",
       "      <td>92.893</td>\n",
       "      <td>-46.2</td>\n",
       "      <td>1.313</td>\n",
       "      <td>5099.1</td>\n",
       "      <td>no</td>\n",
       "    </tr>\n",
       "    <tr>\n",
       "      <th>1</th>\n",
       "      <td>39</td>\n",
       "      <td>services</td>\n",
       "      <td>single</td>\n",
       "      <td>high.school</td>\n",
       "      <td>no</td>\n",
       "      <td>no</td>\n",
       "      <td>no</td>\n",
       "      <td>telephone</td>\n",
       "      <td>may</td>\n",
       "      <td>fri</td>\n",
       "      <td>346.0</td>\n",
       "      <td>4.0</td>\n",
       "      <td>False</td>\n",
       "      <td>0.0</td>\n",
       "      <td>nonexistent</td>\n",
       "      <td>1.1</td>\n",
       "      <td>93.994</td>\n",
       "      <td>-36.4</td>\n",
       "      <td>4.855</td>\n",
       "      <td>5191.0</td>\n",
       "      <td>no</td>\n",
       "    </tr>\n",
       "    <tr>\n",
       "      <th>2</th>\n",
       "      <td>25</td>\n",
       "      <td>services</td>\n",
       "      <td>married</td>\n",
       "      <td>high.school</td>\n",
       "      <td>no</td>\n",
       "      <td>yes</td>\n",
       "      <td>no</td>\n",
       "      <td>telephone</td>\n",
       "      <td>jun</td>\n",
       "      <td>wed</td>\n",
       "      <td>227.0</td>\n",
       "      <td>1.0</td>\n",
       "      <td>False</td>\n",
       "      <td>0.0</td>\n",
       "      <td>nonexistent</td>\n",
       "      <td>1.4</td>\n",
       "      <td>94.465</td>\n",
       "      <td>-41.8</td>\n",
       "      <td>4.962</td>\n",
       "      <td>5228.1</td>\n",
       "      <td>no</td>\n",
       "    </tr>\n",
       "    <tr>\n",
       "      <th>3</th>\n",
       "      <td>38</td>\n",
       "      <td>services</td>\n",
       "      <td>married</td>\n",
       "      <td>basic.9y</td>\n",
       "      <td>no</td>\n",
       "      <td>unknown</td>\n",
       "      <td>unknown</td>\n",
       "      <td>telephone</td>\n",
       "      <td>jun</td>\n",
       "      <td>fri</td>\n",
       "      <td>17.0</td>\n",
       "      <td>3.0</td>\n",
       "      <td>False</td>\n",
       "      <td>0.0</td>\n",
       "      <td>nonexistent</td>\n",
       "      <td>1.4</td>\n",
       "      <td>94.465</td>\n",
       "      <td>-41.8</td>\n",
       "      <td>4.959</td>\n",
       "      <td>5228.1</td>\n",
       "      <td>no</td>\n",
       "    </tr>\n",
       "    <tr>\n",
       "      <th>4</th>\n",
       "      <td>47</td>\n",
       "      <td>admin.</td>\n",
       "      <td>married</td>\n",
       "      <td>university.degree</td>\n",
       "      <td>no</td>\n",
       "      <td>yes</td>\n",
       "      <td>no</td>\n",
       "      <td>cellular</td>\n",
       "      <td>nov</td>\n",
       "      <td>mon</td>\n",
       "      <td>58.0</td>\n",
       "      <td>1.0</td>\n",
       "      <td>False</td>\n",
       "      <td>0.0</td>\n",
       "      <td>nonexistent</td>\n",
       "      <td>-0.1</td>\n",
       "      <td>93.200</td>\n",
       "      <td>-42.0</td>\n",
       "      <td>4.191</td>\n",
       "      <td>5195.8</td>\n",
       "      <td>no</td>\n",
       "    </tr>\n",
       "  </tbody>\n",
       "</table>\n",
       "</div>"
      ],
      "text/plain": [
       "   age          job  marital          education default  housing     loan  \\\n",
       "0   30  blue-collar  married           basic.9y      no      yes       no   \n",
       "1   39     services   single        high.school      no       no       no   \n",
       "2   25     services  married        high.school      no      yes       no   \n",
       "3   38     services  married           basic.9y      no  unknown  unknown   \n",
       "4   47       admin.  married  university.degree      no      yes       no   \n",
       "\n",
       "     contact month day_of_week  duration  campaign  pdays  previous  \\\n",
       "0   cellular   may         fri     487.0       2.0  False       0.0   \n",
       "1  telephone   may         fri     346.0       4.0  False       0.0   \n",
       "2  telephone   jun         wed     227.0       1.0  False       0.0   \n",
       "3  telephone   jun         fri      17.0       3.0  False       0.0   \n",
       "4   cellular   nov         mon      58.0       1.0  False       0.0   \n",
       "\n",
       "      poutcome  emp_var_rate  cons_price_idx  cons_conf_idx  euribor3m  \\\n",
       "0  nonexistent          -1.8          92.893          -46.2      1.313   \n",
       "1  nonexistent           1.1          93.994          -36.4      4.855   \n",
       "2  nonexistent           1.4          94.465          -41.8      4.962   \n",
       "3  nonexistent           1.4          94.465          -41.8      4.959   \n",
       "4  nonexistent          -0.1          93.200          -42.0      4.191   \n",
       "\n",
       "   nr_employed subscribed?  \n",
       "0       5099.1          no  \n",
       "1       5191.0          no  \n",
       "2       5228.1          no  \n",
       "3       5228.1          no  \n",
       "4       5195.8          no  "
      ]
     },
     "execution_count": 34,
     "metadata": {},
     "output_type": "execute_result"
    }
   ],
   "source": [
    "banks['pdays']=banks['pdays'].apply(lambda x: True if x!=999 else False)\n",
    "banks.head()"
   ]
  },
  {
   "cell_type": "code",
   "execution_count": 35,
   "id": "8f5ff2b2",
   "metadata": {},
   "outputs": [
    {
     "data": {
      "image/png": "[encoded data removed]",
      "text/plain": [
       "<Figure size 640x480 with 1 Axes>"
      ]
     },
     "metadata": {},
     "output_type": "display_data"
    }
   ],
   "source": [
    "banks['previous'].plot(kind='box')\n",
    "plt.show()"
   ]
  },
  {
   "cell_type": "code",
   "execution_count": 36,
   "id": "1381e786",
   "metadata": {
    "scrolled": false
   },
   "outputs": [
    {
     "data": {
      "image/png": "[encoded data removed]",
      "text/plain": [
       "<Figure size 640x480 with 1 Axes>"
      ]
     },
     "metadata": {},
     "output_type": "display_data"
    }
   ],
   "source": [
    "banks['previous'].plot(kind='hist', bins=30)\n",
    "plt.show()"
   ]
  },
  {
   "cell_type": "code",
   "execution_count": 37,
   "id": "4506aa92",
   "metadata": {
    "scrolled": false
   },
   "outputs": [
    {
     "data": {
      "text/plain": [
       "0.0    3519\n",
       "1.0     475\n",
       "2.0      78\n",
       "3.0      25\n",
       "4.0      14\n",
       "5.0       2\n",
       "6.0       2\n",
       "Name: previous, dtype: int64"
      ]
     },
     "execution_count": 37,
     "metadata": {},
     "output_type": "execute_result"
    }
   ],
   "source": [
    "banks.previous.value_counts()"
   ]
  },
  {
   "cell_type": "code",
   "execution_count": 38,
   "id": "97dd0200",
   "metadata": {},
   "outputs": [],
   "source": [
    "banks['previous']=banks['previous'].apply(lambda x: True if x!=0 else False)"
   ]
  },
  {
   "cell_type": "code",
   "execution_count": 39,
   "id": "435fe8a5",
   "metadata": {},
   "outputs": [
    {
     "data": {
      "image/png": "[encoded data removed]",
      "text/plain": [
       "<Figure size 640x480 with 1 Axes>"
      ]
     },
     "metadata": {},
     "output_type": "display_data"
    }
   ],
   "source": [
    "banks.age.plot(kind='box')\n",
    "plt.show()"
   ]
  },
  {
   "cell_type": "code",
   "execution_count": 40,
   "id": "1266e2e2",
   "metadata": {},
   "outputs": [
    {
     "data": {
      "image/png": "[encoded data removed]",
      "text/plain": [
       "<Figure size 640x480 with 1 Axes>"
      ]
     },
     "metadata": {},
     "output_type": "display_data"
    }
   ],
   "source": [
    "banks.age.plot(kind='hist', bins=50)\n",
    "plt.show()"
   ]
  },
  {
   "cell_type": "code",
   "execution_count": 41,
   "id": "f981aec2",
   "metadata": {
    "scrolled": true
   },
   "outputs": [
    {
     "data": {
      "text/html": [
       "<div>\n",
       "<style scoped>\n",
       "    .dataframe tbody tr th:only-of-type {\n",
       "        vertical-align: middle;\n",
       "    }\n",
       "\n",
       "    .dataframe tbody tr th {\n",
       "        vertical-align: top;\n",
       "    }\n",
       "\n",
       "    .dataframe thead th {\n",
       "        text-align: right;\n",
       "    }\n",
       "</style>\n",
       "<table border=\"1\" class=\"dataframe\">\n",
       "  <thead>\n",
       "    <tr style=\"text-align: right;\">\n",
       "      <th></th>\n",
       "      <th>job</th>\n",
       "      <th>marital</th>\n",
       "      <th>education</th>\n",
       "      <th>default</th>\n",
       "      <th>housing</th>\n",
       "      <th>loan</th>\n",
       "      <th>contact</th>\n",
       "      <th>month</th>\n",
       "      <th>day_of_week</th>\n",
       "      <th>poutcome</th>\n",
       "      <th>subscribed?</th>\n",
       "    </tr>\n",
       "  </thead>\n",
       "  <tbody>\n",
       "    <tr>\n",
       "      <th>count</th>\n",
       "      <td>4117</td>\n",
       "      <td>4117</td>\n",
       "      <td>4117</td>\n",
       "      <td>4117</td>\n",
       "      <td>4117</td>\n",
       "      <td>4117</td>\n",
       "      <td>4117</td>\n",
       "      <td>4117</td>\n",
       "      <td>4117</td>\n",
       "      <td>4117</td>\n",
       "      <td>4117</td>\n",
       "    </tr>\n",
       "    <tr>\n",
       "      <th>unique</th>\n",
       "      <td>12</td>\n",
       "      <td>4</td>\n",
       "      <td>8</td>\n",
       "      <td>3</td>\n",
       "      <td>3</td>\n",
       "      <td>3</td>\n",
       "      <td>2</td>\n",
       "      <td>10</td>\n",
       "      <td>5</td>\n",
       "      <td>3</td>\n",
       "      <td>2</td>\n",
       "    </tr>\n",
       "    <tr>\n",
       "      <th>top</th>\n",
       "      <td>admin.</td>\n",
       "      <td>married</td>\n",
       "      <td>university.degree</td>\n",
       "      <td>no</td>\n",
       "      <td>yes</td>\n",
       "      <td>no</td>\n",
       "      <td>cellular</td>\n",
       "      <td>may</td>\n",
       "      <td>thu</td>\n",
       "      <td>nonexistent</td>\n",
       "      <td>no</td>\n",
       "    </tr>\n",
       "    <tr>\n",
       "      <th>freq</th>\n",
       "      <td>1011</td>\n",
       "      <td>2507</td>\n",
       "      <td>1264</td>\n",
       "      <td>3313</td>\n",
       "      <td>2174</td>\n",
       "      <td>3348</td>\n",
       "      <td>2651</td>\n",
       "      <td>1376</td>\n",
       "      <td>859</td>\n",
       "      <td>3521</td>\n",
       "      <td>3666</td>\n",
       "    </tr>\n",
       "  </tbody>\n",
       "</table>\n",
       "</div>"
      ],
      "text/plain": [
       "           job  marital          education default housing  loan   contact  \\\n",
       "count     4117     4117               4117    4117    4117  4117      4117   \n",
       "unique      12        4                  8       3       3     3         2   \n",
       "top     admin.  married  university.degree      no     yes    no  cellular   \n",
       "freq      1011     2507               1264    3313    2174  3348      2651   \n",
       "\n",
       "       month day_of_week     poutcome subscribed?  \n",
       "count   4117        4117         4117        4117  \n",
       "unique    10           5            3           2  \n",
       "top      may         thu  nonexistent          no  \n",
       "freq    1376         859         3521        3666  "
      ]
     },
     "execution_count": 41,
     "metadata": {},
     "output_type": "execute_result"
    }
   ],
   "source": [
    "banks.describe(include='object')"
   ]
  },
  {
   "cell_type": "markdown",
   "id": "5178fcfa",
   "metadata": {},
   "source": [
    "U šifraniku je rečeno da su za kategoričke promenljive nedostajuće vrednosti definisane sa vrednosti \"unknown\". Sada ćemo da vidimo kako ćemo da rešimo problem tih nedostajućih vrednosti. Prvo ćemo da sve vrednosti \"unknown\" promenimo u NaN vrednost radi lakšeg rada."
   ]
  },
  {
   "cell_type": "code",
   "execution_count": 42,
   "id": "a72778fb",
   "metadata": {},
   "outputs": [],
   "source": [
    "banks=banks.replace('unknown', np.nan)"
   ]
  },
  {
   "cell_type": "code",
   "execution_count": 43,
   "id": "37ca0d6f",
   "metadata": {
    "scrolled": false
   },
   "outputs": [
    {
     "data": {
      "text/plain": [
       "age                 0\n",
       "job                39\n",
       "marital            11\n",
       "education         167\n",
       "default           803\n",
       "housing           105\n",
       "loan              105\n",
       "contact             0\n",
       "month               0\n",
       "day_of_week         0\n",
       "duration            0\n",
       "campaign            5\n",
       "pdays               0\n",
       "previous            0\n",
       "poutcome            0\n",
       "emp_var_rate        0\n",
       "cons_price_idx      0\n",
       "cons_conf_idx       0\n",
       "euribor3m           0\n",
       "nr_employed         1\n",
       "subscribed?         0\n",
       "dtype: int64"
      ]
     },
     "execution_count": 43,
     "metadata": {},
     "output_type": "execute_result"
    }
   ],
   "source": [
    "banks.isna().sum()"
   ]
  },
  {
   "cell_type": "markdown",
   "id": "8d276292",
   "metadata": {},
   "source": [
    "Vidimo da postoji veliki broj nedostajućih vrednosti. Za početak smo odlučili da sve objekte koji imaju više od dve NaN vrednosti izbacimo iz skupa. "
   ]
  },
  {
   "cell_type": "code",
   "execution_count": 44,
   "id": "36af9e20",
   "metadata": {},
   "outputs": [],
   "source": [
    "banks=banks[banks.isna().sum(axis=1) < 2]"
   ]
  },
  {
   "cell_type": "code",
   "execution_count": 45,
   "id": "c3744db8",
   "metadata": {
    "scrolled": false
   },
   "outputs": [
    {
     "data": {
      "text/plain": [
       "age                 0\n",
       "job                17\n",
       "marital            10\n",
       "education         114\n",
       "default           718\n",
       "housing             0\n",
       "loan                0\n",
       "contact             0\n",
       "month               0\n",
       "day_of_week         0\n",
       "duration            0\n",
       "campaign            0\n",
       "pdays               0\n",
       "previous            0\n",
       "poutcome            0\n",
       "emp_var_rate        0\n",
       "cons_price_idx      0\n",
       "cons_conf_idx       0\n",
       "euribor3m           0\n",
       "nr_employed         1\n",
       "subscribed?         0\n",
       "dtype: int64"
      ]
     },
     "execution_count": 45,
     "metadata": {},
     "output_type": "execute_result"
    }
   ],
   "source": [
    "banks.isna().sum()"
   ]
  },
  {
   "cell_type": "code",
   "execution_count": 46,
   "id": "1aa3ae76",
   "metadata": {},
   "outputs": [
    {
     "data": {
      "text/plain": [
       "no     3228\n",
       "yes       1\n",
       "Name: default, dtype: int64"
      ]
     },
     "execution_count": 46,
     "metadata": {},
     "output_type": "execute_result"
    }
   ],
   "source": [
    "banks.default.value_counts()"
   ]
  },
  {
   "cell_type": "markdown",
   "id": "248104de",
   "metadata": {},
   "source": [
    "Sledeće što se može primetiti jeste da attibut `default` ima veliki broj NaN vrednosti. Proverom svih vrednosti koje on ima dobili smo informaciju da samo jedan objekat ima vrednost \"yes\" dok su sve ostale \"no\". Samim tim ovaj atribut nam je aposlutno nepotreban i izbacujemo ga iz skupa."
   ]
  },
  {
   "cell_type": "code",
   "execution_count": 47,
   "id": "02859286",
   "metadata": {},
   "outputs": [],
   "source": [
    "banks=banks.drop('default', axis=1)"
   ]
  },
  {
   "cell_type": "code",
   "execution_count": 48,
   "id": "7c074890",
   "metadata": {},
   "outputs": [
    {
     "data": {
      "text/plain": [
       "admin.           991\n",
       "blue-collar      837\n",
       "technician       670\n",
       "services         372\n",
       "management       318\n",
       "retired          159\n",
       "self-employed    151\n",
       "entrepreneur     143\n",
       "housemaid        107\n",
       "unemployed       105\n",
       "student           77\n",
       "Name: job, dtype: int64"
      ]
     },
     "execution_count": 48,
     "metadata": {},
     "output_type": "execute_result"
    }
   ],
   "source": [
    "banks.job.value_counts()"
   ]
  },
  {
   "cell_type": "code",
   "execution_count": 49,
   "id": "f25cd75d",
   "metadata": {},
   "outputs": [],
   "source": [
    "banks=banks[~banks.job.isna()]"
   ]
  },
  {
   "cell_type": "code",
   "execution_count": 50,
   "id": "8d9500d4",
   "metadata": {},
   "outputs": [
    {
     "data": {
      "text/plain": [
       "married     2385\n",
       "single      1103\n",
       "divorced     432\n",
       "Name: marital, dtype: int64"
      ]
     },
     "execution_count": 50,
     "metadata": {},
     "output_type": "execute_result"
    }
   ],
   "source": [
    "banks.marital.value_counts()"
   ]
  },
  {
   "cell_type": "code",
   "execution_count": 51,
   "id": "52090bc0",
   "metadata": {},
   "outputs": [],
   "source": [
    "banks.marital=banks.marital.fillna('married')"
   ]
  },
  {
   "cell_type": "code",
   "execution_count": 52,
   "id": "cd8b74b3",
   "metadata": {},
   "outputs": [
    {
     "data": {
      "text/plain": [
       "married     2395\n",
       "single      1103\n",
       "divorced     432\n",
       "Name: marital, dtype: int64"
      ]
     },
     "execution_count": 52,
     "metadata": {},
     "output_type": "execute_result"
    }
   ],
   "source": [
    "banks.marital.value_counts()"
   ]
  },
  {
   "cell_type": "code",
   "execution_count": 53,
   "id": "43b6ed8a",
   "metadata": {},
   "outputs": [],
   "source": [
    "banks=banks[~banks.education.isna()]"
   ]
  },
  {
   "cell_type": "markdown",
   "id": "73595fe2",
   "metadata": {},
   "source": [
    "Što se tiče ostalih atributa, `education` je imao veći broj nedostajućih vrednosti, a pošto nismo mogli da nađemo način da ga zamenimo sa nekim drugim vrednostima odlučili smo da izbacimo sve objekte sa `NaN` vrednosti ovog atributa. Atribut `job` je imao vrlo malo nedostajučih vrednosti pa smo ih samo izbacili iz skupa, a što se tiče atributa `marital`, pošto veliki broj objekata ima vrednost \"married\" odlučili smo da popunimo `NaN` vrednosti sa ovom vrednosti (takođe jer postoji mali broj `NaN` vrednosti)."
   ]
  },
  {
   "cell_type": "code",
   "execution_count": 54,
   "id": "b3e0f22b",
   "metadata": {},
   "outputs": [
    {
     "data": {
      "text/plain": [
       "(3816, 20)"
      ]
     },
     "execution_count": 54,
     "metadata": {},
     "output_type": "execute_result"
    }
   ],
   "source": [
    "banks.shape"
   ]
  },
  {
   "cell_type": "markdown",
   "id": "7e6ae8a7",
   "metadata": {},
   "source": [
    "Sada nam ostaje da pretvorimo kategoričke vrednosti iz `object` u `category` tip. Takođe ćemo sve vrednosti koje imaju \"no\" i \"yes\" pretvoriti u `bool` tip."
   ]
  },
  {
   "cell_type": "code",
   "execution_count": 55,
   "id": "0c911298",
   "metadata": {},
   "outputs": [],
   "source": [
    "banks.job=banks.job.astype('category')\n",
    "banks.education=banks.education.astype('category')\n",
    "banks.marital=banks.marital.astype('category')\n",
    "banks.contact=banks.contact.astype('category')\n",
    "banks.day_of_week=banks.day_of_week.astype('category')\n",
    "banks.poutcome=banks.poutcome.astype('category')\n",
    "banks.month=banks.month.astype('category')"
   ]
  },
  {
   "cell_type": "code",
   "execution_count": 56,
   "id": "834cd03a",
   "metadata": {},
   "outputs": [],
   "source": [
    "banks.housing=banks.housing.map({'yes':True, 'no': False})\n",
    "banks.loan=banks.loan.map({'yes':True, 'no': False})\n",
    "banks['subscribed?']=banks['subscribed?'].map({'yes':True, 'no': False})"
   ]
  },
  {
   "cell_type": "code",
   "execution_count": 57,
   "id": "659d165c",
   "metadata": {},
   "outputs": [
    {
     "data": {
      "text/plain": [
       "age                  int64\n",
       "job               category\n",
       "marital           category\n",
       "education         category\n",
       "housing               bool\n",
       "loan                  bool\n",
       "contact           category\n",
       "month             category\n",
       "day_of_week       category\n",
       "duration           float64\n",
       "campaign           float64\n",
       "pdays                 bool\n",
       "previous              bool\n",
       "poutcome          category\n",
       "emp_var_rate       float64\n",
       "cons_price_idx     float64\n",
       "cons_conf_idx      float64\n",
       "euribor3m          float64\n",
       "nr_employed        float64\n",
       "subscribed?           bool\n",
       "dtype: object"
      ]
     },
     "execution_count": 57,
     "metadata": {},
     "output_type": "execute_result"
    }
   ],
   "source": [
    "banks.dtypes"
   ]
  },
  {
   "cell_type": "code",
   "execution_count": 58,
   "id": "92cbd0d6",
   "metadata": {
    "scrolled": false
   },
   "outputs": [
    {
     "data": {
      "image/png": "[encoded data removed]",
      "text/plain": [
       "<Figure size 640x480 with 1 Axes>"
      ]
     },
     "metadata": {},
     "output_type": "display_data"
    }
   ],
   "source": [
    "sns.countplot(y=banks.job)\n",
    "plt.show()"
   ]
  },
  {
   "cell_type": "markdown",
   "id": "aba10214",
   "metadata": {},
   "source": [
    "Zbog potrebe kvanifikacije kategoričkih promenljivih, promenljivu `job` ćemo prvo kategorizovati u 3 grupe: slabo plaćeni, srednje plaćeni i visoko plaćeni poslovi, a zatim ćemo da odradimo ordinal encoding gde ćemo im dodeliti vrednosti od 0 do 2 respektivno."
   ]
  },
  {
   "cell_type": "code",
   "execution_count": 59,
   "id": "1ed676c8",
   "metadata": {},
   "outputs": [],
   "source": [
    "def job_categorisation(x):\n",
    "    y=''\n",
    "    if x in ['admin.','entrepreneur', 'management']:\n",
    "        y='high_paid'\n",
    "    if x in ['technician', 'self-employed', 'services']:\n",
    "        y='medium_paid'\n",
    "    if x in ['housemaid', 'student', 'retired', 'unemployed', 'blue-collar']:\n",
    "        y='low_paid'\n",
    "    return y\n",
    "banks.job=banks.job.apply(job_categorisation)"
   ]
  },
  {
   "cell_type": "code",
   "execution_count": 60,
   "id": "799fb2b5",
   "metadata": {},
   "outputs": [
    {
     "data": {
      "text/plain": [
       "high_paid      1417\n",
       "low_paid       1237\n",
       "medium_paid    1162\n",
       "Name: job, dtype: int64"
      ]
     },
     "execution_count": 60,
     "metadata": {},
     "output_type": "execute_result"
    }
   ],
   "source": [
    "banks.job.value_counts()"
   ]
  },
  {
   "cell_type": "code",
   "execution_count": 61,
   "id": "70bcf015",
   "metadata": {},
   "outputs": [],
   "source": [
    "def job_encode(x):\n",
    "    y=''\n",
    "    if x=='low_paid':\n",
    "        y='0'\n",
    "    if x=='medium_paid':\n",
    "        y='1'\n",
    "    if x=='high_paid':\n",
    "        y='2'\n",
    "    return y\n",
    "banks.job=banks.job.apply(job_encode)"
   ]
  },
  {
   "cell_type": "code",
   "execution_count": 62,
   "id": "d0cfda73",
   "metadata": {},
   "outputs": [],
   "source": [
    "banks.job=pd.to_numeric(banks.job)"
   ]
  },
  {
   "cell_type": "code",
   "execution_count": 63,
   "id": "3f300c06",
   "metadata": {
    "scrolled": false
   },
   "outputs": [
    {
     "data": {
      "image/png": "[encoded data removed]",
      "text/plain": [
       "<Figure size 640x480 with 1 Axes>"
      ]
     },
     "metadata": {},
     "output_type": "display_data"
    }
   ],
   "source": [
    "sns.countplot(y=banks.education)\n",
    "plt.show()"
   ]
  },
  {
   "cell_type": "code",
   "execution_count": 64,
   "id": "9df5593b",
   "metadata": {},
   "outputs": [
    {
     "data": {
      "text/plain": [
       "(1, 20)"
      ]
     },
     "execution_count": 64,
     "metadata": {},
     "output_type": "execute_result"
    }
   ],
   "source": [
    "banks[banks.education=='illiterate'].shape"
   ]
  },
  {
   "cell_type": "markdown",
   "id": "b3e414f7",
   "metadata": {},
   "source": [
    "Pre svega vidimo da postoji samo jedna osoba koja za promenljivu `education` ima vrednost atributa \"illiterate\", pa kako ne bismo unosili šum u model ovu osobu ćemo izbaciti iz skupa. Takođe ćemo kvanitfikovati ovu promenljivu pomoću ordinal encoding metode, gde ćemo dodeliti vrednosti od 0 do 5, respektivno visini stručne spreme."
   ]
  },
  {
   "cell_type": "code",
   "execution_count": 65,
   "id": "745bae0c",
   "metadata": {
    "scrolled": false
   },
   "outputs": [],
   "source": [
    "banks=banks[banks.education!='illiterate']"
   ]
  },
  {
   "cell_type": "code",
   "execution_count": 66,
   "id": "d194f223",
   "metadata": {},
   "outputs": [],
   "source": [
    "def education_encode(x):\n",
    "    y=''\n",
    "    if x=='basic.4y':\n",
    "        y='0'\n",
    "    if x=='basic.6y':\n",
    "        y='1'\n",
    "    if x=='basic.9y':\n",
    "        y='2'\n",
    "    if x=='high.school':\n",
    "        y='3'\n",
    "    if x=='professional.course':\n",
    "        y='4'\n",
    "    if x=='university.degree':\n",
    "        y='5'\n",
    "    return y\n",
    "banks.education=banks.education.apply(education_encode)"
   ]
  },
  {
   "cell_type": "code",
   "execution_count": 67,
   "id": "6bccccb5",
   "metadata": {},
   "outputs": [],
   "source": [
    "banks.education=pd.to_numeric(banks.education)"
   ]
  },
  {
   "cell_type": "code",
   "execution_count": 68,
   "id": "022ae7a6",
   "metadata": {
    "scrolled": false
   },
   "outputs": [
    {
     "data": {
      "image/png": "[encoded data removed]",
      "text/plain": [
       "<Figure size 640x480 with 1 Axes>"
      ]
     },
     "metadata": {},
     "output_type": "display_data"
    }
   ],
   "source": [
    "sns.countplot(y=banks.marital)\n",
    "plt.show()"
   ]
  },
  {
   "cell_type": "markdown",
   "id": "a277632b",
   "metadata": {},
   "source": [
    "Doneli smo odluku da kvantifikujemo ovaj atrbut primenom one-hot endcode metode."
   ]
  },
  {
   "cell_type": "code",
   "execution_count": 69,
   "id": "b29263b3",
   "metadata": {},
   "outputs": [],
   "source": [
    "one_hot=pd.get_dummies(banks['marital'])\n",
    "banks=banks.join(one_hot)"
   ]
  },
  {
   "cell_type": "code",
   "execution_count": 70,
   "id": "2879ab6e",
   "metadata": {
    "scrolled": false
   },
   "outputs": [
    {
     "data": {
      "text/html": [
       "<div>\n",
       "<style scoped>\n",
       "    .dataframe tbody tr th:only-of-type {\n",
       "        vertical-align: middle;\n",
       "    }\n",
       "\n",
       "    .dataframe tbody tr th {\n",
       "        vertical-align: top;\n",
       "    }\n",
       "\n",
       "    .dataframe thead th {\n",
       "        text-align: right;\n",
       "    }\n",
       "</style>\n",
       "<table border=\"1\" class=\"dataframe\">\n",
       "  <thead>\n",
       "    <tr style=\"text-align: right;\">\n",
       "      <th></th>\n",
       "      <th>age</th>\n",
       "      <th>job</th>\n",
       "      <th>marital</th>\n",
       "      <th>education</th>\n",
       "      <th>housing</th>\n",
       "      <th>loan</th>\n",
       "      <th>contact</th>\n",
       "      <th>month</th>\n",
       "      <th>day_of_week</th>\n",
       "      <th>duration</th>\n",
       "      <th>campaign</th>\n",
       "      <th>pdays</th>\n",
       "      <th>previous</th>\n",
       "      <th>poutcome</th>\n",
       "      <th>emp_var_rate</th>\n",
       "      <th>cons_price_idx</th>\n",
       "      <th>cons_conf_idx</th>\n",
       "      <th>euribor3m</th>\n",
       "      <th>nr_employed</th>\n",
       "      <th>subscribed?</th>\n",
       "      <th>divorced</th>\n",
       "      <th>married</th>\n",
       "      <th>single</th>\n",
       "    </tr>\n",
       "  </thead>\n",
       "  <tbody>\n",
       "    <tr>\n",
       "      <th>0</th>\n",
       "      <td>30</td>\n",
       "      <td>0</td>\n",
       "      <td>married</td>\n",
       "      <td>2</td>\n",
       "      <td>True</td>\n",
       "      <td>False</td>\n",
       "      <td>cellular</td>\n",
       "      <td>may</td>\n",
       "      <td>fri</td>\n",
       "      <td>487.0</td>\n",
       "      <td>2.0</td>\n",
       "      <td>False</td>\n",
       "      <td>False</td>\n",
       "      <td>nonexistent</td>\n",
       "      <td>-1.8</td>\n",
       "      <td>92.893</td>\n",
       "      <td>-46.2</td>\n",
       "      <td>1.313</td>\n",
       "      <td>5099.1</td>\n",
       "      <td>False</td>\n",
       "      <td>0</td>\n",
       "      <td>1</td>\n",
       "      <td>0</td>\n",
       "    </tr>\n",
       "    <tr>\n",
       "      <th>1</th>\n",
       "      <td>39</td>\n",
       "      <td>1</td>\n",
       "      <td>single</td>\n",
       "      <td>3</td>\n",
       "      <td>False</td>\n",
       "      <td>False</td>\n",
       "      <td>telephone</td>\n",
       "      <td>may</td>\n",
       "      <td>fri</td>\n",
       "      <td>346.0</td>\n",
       "      <td>4.0</td>\n",
       "      <td>False</td>\n",
       "      <td>False</td>\n",
       "      <td>nonexistent</td>\n",
       "      <td>1.1</td>\n",
       "      <td>93.994</td>\n",
       "      <td>-36.4</td>\n",
       "      <td>4.855</td>\n",
       "      <td>5191.0</td>\n",
       "      <td>False</td>\n",
       "      <td>0</td>\n",
       "      <td>0</td>\n",
       "      <td>1</td>\n",
       "    </tr>\n",
       "    <tr>\n",
       "      <th>2</th>\n",
       "      <td>25</td>\n",
       "      <td>1</td>\n",
       "      <td>married</td>\n",
       "      <td>3</td>\n",
       "      <td>True</td>\n",
       "      <td>False</td>\n",
       "      <td>telephone</td>\n",
       "      <td>jun</td>\n",
       "      <td>wed</td>\n",
       "      <td>227.0</td>\n",
       "      <td>1.0</td>\n",
       "      <td>False</td>\n",
       "      <td>False</td>\n",
       "      <td>nonexistent</td>\n",
       "      <td>1.4</td>\n",
       "      <td>94.465</td>\n",
       "      <td>-41.8</td>\n",
       "      <td>4.962</td>\n",
       "      <td>5228.1</td>\n",
       "      <td>False</td>\n",
       "      <td>0</td>\n",
       "      <td>1</td>\n",
       "      <td>0</td>\n",
       "    </tr>\n",
       "    <tr>\n",
       "      <th>4</th>\n",
       "      <td>47</td>\n",
       "      <td>2</td>\n",
       "      <td>married</td>\n",
       "      <td>5</td>\n",
       "      <td>True</td>\n",
       "      <td>False</td>\n",
       "      <td>cellular</td>\n",
       "      <td>nov</td>\n",
       "      <td>mon</td>\n",
       "      <td>58.0</td>\n",
       "      <td>1.0</td>\n",
       "      <td>False</td>\n",
       "      <td>False</td>\n",
       "      <td>nonexistent</td>\n",
       "      <td>-0.1</td>\n",
       "      <td>93.200</td>\n",
       "      <td>-42.0</td>\n",
       "      <td>4.191</td>\n",
       "      <td>5195.8</td>\n",
       "      <td>False</td>\n",
       "      <td>0</td>\n",
       "      <td>1</td>\n",
       "      <td>0</td>\n",
       "    </tr>\n",
       "    <tr>\n",
       "      <th>5</th>\n",
       "      <td>32</td>\n",
       "      <td>1</td>\n",
       "      <td>single</td>\n",
       "      <td>5</td>\n",
       "      <td>False</td>\n",
       "      <td>False</td>\n",
       "      <td>cellular</td>\n",
       "      <td>sep</td>\n",
       "      <td>thu</td>\n",
       "      <td>128.0</td>\n",
       "      <td>3.0</td>\n",
       "      <td>False</td>\n",
       "      <td>True</td>\n",
       "      <td>failure</td>\n",
       "      <td>-1.1</td>\n",
       "      <td>94.199</td>\n",
       "      <td>-37.5</td>\n",
       "      <td>0.884</td>\n",
       "      <td>4963.6</td>\n",
       "      <td>False</td>\n",
       "      <td>0</td>\n",
       "      <td>0</td>\n",
       "      <td>1</td>\n",
       "    </tr>\n",
       "    <tr>\n",
       "      <th>...</th>\n",
       "      <td>...</td>\n",
       "      <td>...</td>\n",
       "      <td>...</td>\n",
       "      <td>...</td>\n",
       "      <td>...</td>\n",
       "      <td>...</td>\n",
       "      <td>...</td>\n",
       "      <td>...</td>\n",
       "      <td>...</td>\n",
       "      <td>...</td>\n",
       "      <td>...</td>\n",
       "      <td>...</td>\n",
       "      <td>...</td>\n",
       "      <td>...</td>\n",
       "      <td>...</td>\n",
       "      <td>...</td>\n",
       "      <td>...</td>\n",
       "      <td>...</td>\n",
       "      <td>...</td>\n",
       "      <td>...</td>\n",
       "      <td>...</td>\n",
       "      <td>...</td>\n",
       "      <td>...</td>\n",
       "    </tr>\n",
       "    <tr>\n",
       "      <th>4114</th>\n",
       "      <td>30</td>\n",
       "      <td>2</td>\n",
       "      <td>married</td>\n",
       "      <td>1</td>\n",
       "      <td>True</td>\n",
       "      <td>True</td>\n",
       "      <td>cellular</td>\n",
       "      <td>jul</td>\n",
       "      <td>thu</td>\n",
       "      <td>53.0</td>\n",
       "      <td>1.0</td>\n",
       "      <td>False</td>\n",
       "      <td>False</td>\n",
       "      <td>nonexistent</td>\n",
       "      <td>1.4</td>\n",
       "      <td>93.918</td>\n",
       "      <td>-42.7</td>\n",
       "      <td>4.958</td>\n",
       "      <td>5228.1</td>\n",
       "      <td>False</td>\n",
       "      <td>0</td>\n",
       "      <td>1</td>\n",
       "      <td>0</td>\n",
       "    </tr>\n",
       "    <tr>\n",
       "      <th>4115</th>\n",
       "      <td>39</td>\n",
       "      <td>2</td>\n",
       "      <td>married</td>\n",
       "      <td>3</td>\n",
       "      <td>True</td>\n",
       "      <td>False</td>\n",
       "      <td>telephone</td>\n",
       "      <td>jul</td>\n",
       "      <td>fri</td>\n",
       "      <td>219.0</td>\n",
       "      <td>1.0</td>\n",
       "      <td>False</td>\n",
       "      <td>False</td>\n",
       "      <td>nonexistent</td>\n",
       "      <td>1.4</td>\n",
       "      <td>93.918</td>\n",
       "      <td>-42.7</td>\n",
       "      <td>4.959</td>\n",
       "      <td>5228.1</td>\n",
       "      <td>False</td>\n",
       "      <td>0</td>\n",
       "      <td>1</td>\n",
       "      <td>0</td>\n",
       "    </tr>\n",
       "    <tr>\n",
       "      <th>4116</th>\n",
       "      <td>27</td>\n",
       "      <td>0</td>\n",
       "      <td>single</td>\n",
       "      <td>3</td>\n",
       "      <td>False</td>\n",
       "      <td>False</td>\n",
       "      <td>cellular</td>\n",
       "      <td>may</td>\n",
       "      <td>mon</td>\n",
       "      <td>64.0</td>\n",
       "      <td>2.0</td>\n",
       "      <td>False</td>\n",
       "      <td>True</td>\n",
       "      <td>failure</td>\n",
       "      <td>-1.8</td>\n",
       "      <td>92.893</td>\n",
       "      <td>-46.2</td>\n",
       "      <td>1.354</td>\n",
       "      <td>5099.1</td>\n",
       "      <td>False</td>\n",
       "      <td>0</td>\n",
       "      <td>0</td>\n",
       "      <td>1</td>\n",
       "    </tr>\n",
       "    <tr>\n",
       "      <th>4117</th>\n",
       "      <td>58</td>\n",
       "      <td>2</td>\n",
       "      <td>married</td>\n",
       "      <td>3</td>\n",
       "      <td>False</td>\n",
       "      <td>False</td>\n",
       "      <td>cellular</td>\n",
       "      <td>aug</td>\n",
       "      <td>fri</td>\n",
       "      <td>528.0</td>\n",
       "      <td>1.0</td>\n",
       "      <td>False</td>\n",
       "      <td>False</td>\n",
       "      <td>nonexistent</td>\n",
       "      <td>1.4</td>\n",
       "      <td>93.444</td>\n",
       "      <td>-36.1</td>\n",
       "      <td>4.966</td>\n",
       "      <td>5228.1</td>\n",
       "      <td>False</td>\n",
       "      <td>0</td>\n",
       "      <td>1</td>\n",
       "      <td>0</td>\n",
       "    </tr>\n",
       "    <tr>\n",
       "      <th>4118</th>\n",
       "      <td>34</td>\n",
       "      <td>2</td>\n",
       "      <td>single</td>\n",
       "      <td>3</td>\n",
       "      <td>True</td>\n",
       "      <td>False</td>\n",
       "      <td>cellular</td>\n",
       "      <td>nov</td>\n",
       "      <td>wed</td>\n",
       "      <td>175.0</td>\n",
       "      <td>1.0</td>\n",
       "      <td>False</td>\n",
       "      <td>False</td>\n",
       "      <td>nonexistent</td>\n",
       "      <td>-0.1</td>\n",
       "      <td>93.200</td>\n",
       "      <td>-42.0</td>\n",
       "      <td>4.120</td>\n",
       "      <td>5195.8</td>\n",
       "      <td>False</td>\n",
       "      <td>0</td>\n",
       "      <td>0</td>\n",
       "      <td>1</td>\n",
       "    </tr>\n",
       "  </tbody>\n",
       "</table>\n",
       "<p>3815 rows × 23 columns</p>\n",
       "</div>"
      ],
      "text/plain": [
       "      age  job  marital  education  housing   loan    contact month  \\\n",
       "0      30    0  married          2     True  False   cellular   may   \n",
       "1      39    1   single          3    False  False  telephone   may   \n",
       "2      25    1  married          3     True  False  telephone   jun   \n",
       "4      47    2  married          5     True  False   cellular   nov   \n",
       "5      32    1   single          5    False  False   cellular   sep   \n",
       "...   ...  ...      ...        ...      ...    ...        ...   ...   \n",
       "4114   30    2  married          1     True   True   cellular   jul   \n",
       "4115   39    2  married          3     True  False  telephone   jul   \n",
       "4116   27    0   single          3    False  False   cellular   may   \n",
       "4117   58    2  married          3    False  False   cellular   aug   \n",
       "4118   34    2   single          3     True  False   cellular   nov   \n",
       "\n",
       "     day_of_week  duration  campaign  pdays  previous     poutcome  \\\n",
       "0            fri     487.0       2.0  False     False  nonexistent   \n",
       "1            fri     346.0       4.0  False     False  nonexistent   \n",
       "2            wed     227.0       1.0  False     False  nonexistent   \n",
       "4            mon      58.0       1.0  False     False  nonexistent   \n",
       "5            thu     128.0       3.0  False      True      failure   \n",
       "...          ...       ...       ...    ...       ...          ...   \n",
       "4114         thu      53.0       1.0  False     False  nonexistent   \n",
       "4115         fri     219.0       1.0  False     False  nonexistent   \n",
       "4116         mon      64.0       2.0  False      True      failure   \n",
       "4117         fri     528.0       1.0  False     False  nonexistent   \n",
       "4118         wed     175.0       1.0  False     False  nonexistent   \n",
       "\n",
       "      emp_var_rate  cons_price_idx  cons_conf_idx  euribor3m  nr_employed  \\\n",
       "0             -1.8          92.893          -46.2      1.313       5099.1   \n",
       "1              1.1          93.994          -36.4      4.855       5191.0   \n",
       "2              1.4          94.465          -41.8      4.962       5228.1   \n",
       "4             -0.1          93.200          -42.0      4.191       5195.8   \n",
       "5             -1.1          94.199          -37.5      0.884       4963.6   \n",
       "...            ...             ...            ...        ...          ...   \n",
       "4114           1.4          93.918          -42.7      4.958       5228.1   \n",
       "4115           1.4          93.918          -42.7      4.959       5228.1   \n",
       "4116          -1.8          92.893          -46.2      1.354       5099.1   \n",
       "4117           1.4          93.444          -36.1      4.966       5228.1   \n",
       "4118          -0.1          93.200          -42.0      4.120       5195.8   \n",
       "\n",
       "      subscribed?  divorced  married  single  \n",
       "0           False         0        1       0  \n",
       "1           False         0        0       1  \n",
       "2           False         0        1       0  \n",
       "4           False         0        1       0  \n",
       "5           False         0        0       1  \n",
       "...           ...       ...      ...     ...  \n",
       "4114        False         0        1       0  \n",
       "4115        False         0        1       0  \n",
       "4116        False         0        0       1  \n",
       "4117        False         0        1       0  \n",
       "4118        False         0        0       1  \n",
       "\n",
       "[3815 rows x 23 columns]"
      ]
     },
     "execution_count": 70,
     "metadata": {},
     "output_type": "execute_result"
    }
   ],
   "source": [
    "banks"
   ]
  },
  {
   "cell_type": "code",
   "execution_count": 71,
   "id": "43941493",
   "metadata": {},
   "outputs": [],
   "source": [
    "banks=banks.drop('marital', axis=1)"
   ]
  },
  {
   "cell_type": "code",
   "execution_count": 72,
   "id": "3d57c5a6",
   "metadata": {},
   "outputs": [
    {
     "data": {
      "text/html": [
       "<div>\n",
       "<style scoped>\n",
       "    .dataframe tbody tr th:only-of-type {\n",
       "        vertical-align: middle;\n",
       "    }\n",
       "\n",
       "    .dataframe tbody tr th {\n",
       "        vertical-align: top;\n",
       "    }\n",
       "\n",
       "    .dataframe thead th {\n",
       "        text-align: right;\n",
       "    }\n",
       "</style>\n",
       "<table border=\"1\" class=\"dataframe\">\n",
       "  <thead>\n",
       "    <tr style=\"text-align: right;\">\n",
       "      <th></th>\n",
       "      <th>age</th>\n",
       "      <th>job</th>\n",
       "      <th>education</th>\n",
       "      <th>housing</th>\n",
       "      <th>loan</th>\n",
       "      <th>contact</th>\n",
       "      <th>month</th>\n",
       "      <th>day_of_week</th>\n",
       "      <th>duration</th>\n",
       "      <th>campaign</th>\n",
       "      <th>pdays</th>\n",
       "      <th>previous</th>\n",
       "      <th>poutcome</th>\n",
       "      <th>emp_var_rate</th>\n",
       "      <th>cons_price_idx</th>\n",
       "      <th>cons_conf_idx</th>\n",
       "      <th>euribor3m</th>\n",
       "      <th>nr_employed</th>\n",
       "      <th>subscribed?</th>\n",
       "      <th>divorced</th>\n",
       "      <th>married</th>\n",
       "      <th>single</th>\n",
       "    </tr>\n",
       "  </thead>\n",
       "  <tbody>\n",
       "    <tr>\n",
       "      <th>0</th>\n",
       "      <td>30</td>\n",
       "      <td>0</td>\n",
       "      <td>2</td>\n",
       "      <td>True</td>\n",
       "      <td>False</td>\n",
       "      <td>cellular</td>\n",
       "      <td>may</td>\n",
       "      <td>fri</td>\n",
       "      <td>487.0</td>\n",
       "      <td>2.0</td>\n",
       "      <td>False</td>\n",
       "      <td>False</td>\n",
       "      <td>nonexistent</td>\n",
       "      <td>-1.8</td>\n",
       "      <td>92.893</td>\n",
       "      <td>-46.2</td>\n",
       "      <td>1.313</td>\n",
       "      <td>5099.1</td>\n",
       "      <td>False</td>\n",
       "      <td>0</td>\n",
       "      <td>1</td>\n",
       "      <td>0</td>\n",
       "    </tr>\n",
       "    <tr>\n",
       "      <th>1</th>\n",
       "      <td>39</td>\n",
       "      <td>1</td>\n",
       "      <td>3</td>\n",
       "      <td>False</td>\n",
       "      <td>False</td>\n",
       "      <td>telephone</td>\n",
       "      <td>may</td>\n",
       "      <td>fri</td>\n",
       "      <td>346.0</td>\n",
       "      <td>4.0</td>\n",
       "      <td>False</td>\n",
       "      <td>False</td>\n",
       "      <td>nonexistent</td>\n",
       "      <td>1.1</td>\n",
       "      <td>93.994</td>\n",
       "      <td>-36.4</td>\n",
       "      <td>4.855</td>\n",
       "      <td>5191.0</td>\n",
       "      <td>False</td>\n",
       "      <td>0</td>\n",
       "      <td>0</td>\n",
       "      <td>1</td>\n",
       "    </tr>\n",
       "    <tr>\n",
       "      <th>2</th>\n",
       "      <td>25</td>\n",
       "      <td>1</td>\n",
       "      <td>3</td>\n",
       "      <td>True</td>\n",
       "      <td>False</td>\n",
       "      <td>telephone</td>\n",
       "      <td>jun</td>\n",
       "      <td>wed</td>\n",
       "      <td>227.0</td>\n",
       "      <td>1.0</td>\n",
       "      <td>False</td>\n",
       "      <td>False</td>\n",
       "      <td>nonexistent</td>\n",
       "      <td>1.4</td>\n",
       "      <td>94.465</td>\n",
       "      <td>-41.8</td>\n",
       "      <td>4.962</td>\n",
       "      <td>5228.1</td>\n",
       "      <td>False</td>\n",
       "      <td>0</td>\n",
       "      <td>1</td>\n",
       "      <td>0</td>\n",
       "    </tr>\n",
       "    <tr>\n",
       "      <th>4</th>\n",
       "      <td>47</td>\n",
       "      <td>2</td>\n",
       "      <td>5</td>\n",
       "      <td>True</td>\n",
       "      <td>False</td>\n",
       "      <td>cellular</td>\n",
       "      <td>nov</td>\n",
       "      <td>mon</td>\n",
       "      <td>58.0</td>\n",
       "      <td>1.0</td>\n",
       "      <td>False</td>\n",
       "      <td>False</td>\n",
       "      <td>nonexistent</td>\n",
       "      <td>-0.1</td>\n",
       "      <td>93.200</td>\n",
       "      <td>-42.0</td>\n",
       "      <td>4.191</td>\n",
       "      <td>5195.8</td>\n",
       "      <td>False</td>\n",
       "      <td>0</td>\n",
       "      <td>1</td>\n",
       "      <td>0</td>\n",
       "    </tr>\n",
       "    <tr>\n",
       "      <th>5</th>\n",
       "      <td>32</td>\n",
       "      <td>1</td>\n",
       "      <td>5</td>\n",
       "      <td>False</td>\n",
       "      <td>False</td>\n",
       "      <td>cellular</td>\n",
       "      <td>sep</td>\n",
       "      <td>thu</td>\n",
       "      <td>128.0</td>\n",
       "      <td>3.0</td>\n",
       "      <td>False</td>\n",
       "      <td>True</td>\n",
       "      <td>failure</td>\n",
       "      <td>-1.1</td>\n",
       "      <td>94.199</td>\n",
       "      <td>-37.5</td>\n",
       "      <td>0.884</td>\n",
       "      <td>4963.6</td>\n",
       "      <td>False</td>\n",
       "      <td>0</td>\n",
       "      <td>0</td>\n",
       "      <td>1</td>\n",
       "    </tr>\n",
       "  </tbody>\n",
       "</table>\n",
       "</div>"
      ],
      "text/plain": [
       "   age  job  education  housing   loan    contact month day_of_week  duration  \\\n",
       "0   30    0          2     True  False   cellular   may         fri     487.0   \n",
       "1   39    1          3    False  False  telephone   may         fri     346.0   \n",
       "2   25    1          3     True  False  telephone   jun         wed     227.0   \n",
       "4   47    2          5     True  False   cellular   nov         mon      58.0   \n",
       "5   32    1          5    False  False   cellular   sep         thu     128.0   \n",
       "\n",
       "   campaign  pdays  previous     poutcome  emp_var_rate  cons_price_idx  \\\n",
       "0       2.0  False     False  nonexistent          -1.8          92.893   \n",
       "1       4.0  False     False  nonexistent           1.1          93.994   \n",
       "2       1.0  False     False  nonexistent           1.4          94.465   \n",
       "4       1.0  False     False  nonexistent          -0.1          93.200   \n",
       "5       3.0  False      True      failure          -1.1          94.199   \n",
       "\n",
       "   cons_conf_idx  euribor3m  nr_employed  subscribed?  divorced  married  \\\n",
       "0          -46.2      1.313       5099.1        False         0        1   \n",
       "1          -36.4      4.855       5191.0        False         0        0   \n",
       "2          -41.8      4.962       5228.1        False         0        1   \n",
       "4          -42.0      4.191       5195.8        False         0        1   \n",
       "5          -37.5      0.884       4963.6        False         0        0   \n",
       "\n",
       "   single  \n",
       "0       0  \n",
       "1       1  \n",
       "2       0  \n",
       "4       0  \n",
       "5       1  "
      ]
     },
     "execution_count": 72,
     "metadata": {},
     "output_type": "execute_result"
    }
   ],
   "source": [
    "banks.head()"
   ]
  },
  {
   "cell_type": "code",
   "execution_count": 73,
   "id": "02710452",
   "metadata": {
    "scrolled": false
   },
   "outputs": [
    {
     "data": {
      "image/png": "[encoded data removed]",
      "text/plain": [
       "<Figure size 640x480 with 1 Axes>"
      ]
     },
     "metadata": {},
     "output_type": "display_data"
    }
   ],
   "source": [
    "sns.countplot(x=banks.day_of_week)\n",
    "plt.show()"
   ]
  },
  {
   "cell_type": "markdown",
   "id": "99b4bfca",
   "metadata": {},
   "source": [
    "Što se tiče promenljive `day_of_week` odlučili smo se za sledeći pristup. Gledamo na ovaj atribut sa psihološke strane. Poznato je da je najveća anksioznost (zbog odlaska na posao) ponedeljkom, dok ona blago otpada kako nedelja prolazi i u petak je najmanja. Tako da ćemo da ovu promenljivu zapravo da zamenimo sa novom promenljivom koj će se odnositi na stepen nervoze prilikom razgovora, gde će vrednosti ići od 0 do 4, počevši od petka ka ponedeljku. Ove podatke ćemo smestiti u promenljivu `anxiety`."
   ]
  },
  {
   "cell_type": "code",
   "execution_count": 74,
   "id": "5a039df5",
   "metadata": {},
   "outputs": [],
   "source": [
    "def anxiety_encode(x):\n",
    "    y=''\n",
    "    if x=='mon':\n",
    "        y='0'\n",
    "    if x=='tue':\n",
    "        y='1'\n",
    "    if x=='wed':\n",
    "        y='2'\n",
    "    if x=='thu':\n",
    "        y='3'\n",
    "    if x=='fri':\n",
    "        y='4'\n",
    "    return y\n",
    "banks.day_of_week=banks.day_of_week.apply(anxiety_encode)\n",
    "banks=banks.rename(columns={'day_of_week':'anxiety'})"
   ]
  },
  {
   "cell_type": "code",
   "execution_count": 75,
   "id": "ffebc334",
   "metadata": {},
   "outputs": [],
   "source": [
    "banks.anxiety=pd.to_numeric(banks.anxiety)"
   ]
  },
  {
   "cell_type": "code",
   "execution_count": 76,
   "id": "585ef348",
   "metadata": {
    "scrolled": false
   },
   "outputs": [
    {
     "data": {
      "image/png": "[encoded data removed]",
      "text/plain": [
       "<Figure size 640x480 with 1 Axes>"
      ]
     },
     "metadata": {},
     "output_type": "display_data"
    }
   ],
   "source": [
    "sns.countplot(x=banks.month)\n",
    "plt.show()"
   ]
  },
  {
   "cell_type": "markdown",
   "id": "f2bdd1fe",
   "metadata": {},
   "source": [
    "Što se tiče promenljive `month`, nju ćemo prvo kategorizovati po godišnjem dobu, a zatim ćemo primeniti one-hot encode kako bismo kvanifikovali dobijene grupe."
   ]
  },
  {
   "cell_type": "code",
   "execution_count": 77,
   "id": "df4d7fc2",
   "metadata": {},
   "outputs": [],
   "source": [
    "def month_categorisation(x):\n",
    "    y=''\n",
    "    if x in ['dec','nov']:\n",
    "        y='winter'\n",
    "    if x in ['mar', 'apr', 'may']:\n",
    "        y='spring'\n",
    "    if x in ['jun', 'jul', 'aug']:\n",
    "        y='summer'\n",
    "    if x in ['oct', 'sep']:\n",
    "        y='autumn'\n",
    "    return y\n",
    "banks.month=banks.month.apply(month_categorisation)"
   ]
  },
  {
   "cell_type": "code",
   "execution_count": 78,
   "id": "ca28249a",
   "metadata": {},
   "outputs": [],
   "source": [
    "one_hot=pd.get_dummies(banks['month'])\n",
    "banks=banks.join(one_hot)"
   ]
  },
  {
   "cell_type": "code",
   "execution_count": 79,
   "id": "55d70e10",
   "metadata": {},
   "outputs": [],
   "source": [
    "banks=banks.drop('month', axis=1)"
   ]
  },
  {
   "cell_type": "code",
   "execution_count": 80,
   "id": "aee80fb7",
   "metadata": {},
   "outputs": [
    {
     "data": {
      "image/png": "[encoded data removed]",
      "text/plain": [
       "<Figure size 640x480 with 1 Axes>"
      ]
     },
     "metadata": {},
     "output_type": "display_data"
    }
   ],
   "source": [
    "sns.countplot(x=banks.poutcome)\n",
    "plt.show()"
   ]
  },
  {
   "cell_type": "markdown",
   "id": "3261e0c0",
   "metadata": {},
   "source": [
    "Pošto nam promenljiva `poutcome` ne otkriva mnogo informacija, jer je velika većina vrednosti neutralna izbacićemo je iz dalje analize."
   ]
  },
  {
   "cell_type": "code",
   "execution_count": 81,
   "id": "bb785355",
   "metadata": {},
   "outputs": [],
   "source": [
    "banks=banks.drop('poutcome', axis=1)"
   ]
  },
  {
   "cell_type": "markdown",
   "id": "5909e7be",
   "metadata": {},
   "source": [
    "Za kraj nam ostaje samo da promenimo redosled kolona i da na kraju sačuvamo novi skup kao poseban fajl koji ćemo koristiti za kreiranje modela mašinskog učenja."
   ]
  },
  {
   "cell_type": "code",
   "execution_count": 82,
   "id": "5b29160b",
   "metadata": {},
   "outputs": [],
   "source": [
    "banks=banks.reindex(columns=['age', 'job', 'education', 'housing', 'loan', 'winter','spring','summer','autumn', 'contact',\n",
    "       'anxiety', 'duration', 'campaign', 'pdays', 'previous',\n",
    "       'emp_var_rate', 'cons_price_idx', 'cons_conf_idx',\n",
    "       'nr_employed', 'euribor3m', 'divorced', 'married', 'single', 'subscribed?'])"
   ]
  },
  {
   "cell_type": "code",
   "execution_count": 83,
   "id": "43cc7d5e",
   "metadata": {
    "scrolled": false
   },
   "outputs": [
    {
     "data": {
      "text/html": [
       "<div>\n",
       "<style scoped>\n",
       "    .dataframe tbody tr th:only-of-type {\n",
       "        vertical-align: middle;\n",
       "    }\n",
       "\n",
       "    .dataframe tbody tr th {\n",
       "        vertical-align: top;\n",
       "    }\n",
       "\n",
       "    .dataframe thead th {\n",
       "        text-align: right;\n",
       "    }\n",
       "</style>\n",
       "<table border=\"1\" class=\"dataframe\">\n",
       "  <thead>\n",
       "    <tr style=\"text-align: right;\">\n",
       "      <th></th>\n",
       "      <th>age</th>\n",
       "      <th>job</th>\n",
       "      <th>education</th>\n",
       "      <th>housing</th>\n",
       "      <th>loan</th>\n",
       "      <th>winter</th>\n",
       "      <th>spring</th>\n",
       "      <th>summer</th>\n",
       "      <th>autumn</th>\n",
       "      <th>contact</th>\n",
       "      <th>anxiety</th>\n",
       "      <th>duration</th>\n",
       "      <th>campaign</th>\n",
       "      <th>pdays</th>\n",
       "      <th>previous</th>\n",
       "      <th>emp_var_rate</th>\n",
       "      <th>cons_price_idx</th>\n",
       "      <th>cons_conf_idx</th>\n",
       "      <th>nr_employed</th>\n",
       "      <th>euribor3m</th>\n",
       "      <th>divorced</th>\n",
       "      <th>married</th>\n",
       "      <th>single</th>\n",
       "      <th>subscribed?</th>\n",
       "    </tr>\n",
       "  </thead>\n",
       "  <tbody>\n",
       "    <tr>\n",
       "      <th>0</th>\n",
       "      <td>30</td>\n",
       "      <td>0</td>\n",
       "      <td>2</td>\n",
       "      <td>True</td>\n",
       "      <td>False</td>\n",
       "      <td>0</td>\n",
       "      <td>1</td>\n",
       "      <td>0</td>\n",
       "      <td>0</td>\n",
       "      <td>cellular</td>\n",
       "      <td>4</td>\n",
       "      <td>487.0</td>\n",
       "      <td>2.0</td>\n",
       "      <td>False</td>\n",
       "      <td>False</td>\n",
       "      <td>-1.8</td>\n",
       "      <td>92.893</td>\n",
       "      <td>-46.2</td>\n",
       "      <td>5099.1</td>\n",
       "      <td>1.313</td>\n",
       "      <td>0</td>\n",
       "      <td>1</td>\n",
       "      <td>0</td>\n",
       "      <td>False</td>\n",
       "    </tr>\n",
       "    <tr>\n",
       "      <th>1</th>\n",
       "      <td>39</td>\n",
       "      <td>1</td>\n",
       "      <td>3</td>\n",
       "      <td>False</td>\n",
       "      <td>False</td>\n",
       "      <td>0</td>\n",
       "      <td>1</td>\n",
       "      <td>0</td>\n",
       "      <td>0</td>\n",
       "      <td>telephone</td>\n",
       "      <td>4</td>\n",
       "      <td>346.0</td>\n",
       "      <td>4.0</td>\n",
       "      <td>False</td>\n",
       "      <td>False</td>\n",
       "      <td>1.1</td>\n",
       "      <td>93.994</td>\n",
       "      <td>-36.4</td>\n",
       "      <td>5191.0</td>\n",
       "      <td>4.855</td>\n",
       "      <td>0</td>\n",
       "      <td>0</td>\n",
       "      <td>1</td>\n",
       "      <td>False</td>\n",
       "    </tr>\n",
       "    <tr>\n",
       "      <th>2</th>\n",
       "      <td>25</td>\n",
       "      <td>1</td>\n",
       "      <td>3</td>\n",
       "      <td>True</td>\n",
       "      <td>False</td>\n",
       "      <td>0</td>\n",
       "      <td>0</td>\n",
       "      <td>1</td>\n",
       "      <td>0</td>\n",
       "      <td>telephone</td>\n",
       "      <td>2</td>\n",
       "      <td>227.0</td>\n",
       "      <td>1.0</td>\n",
       "      <td>False</td>\n",
       "      <td>False</td>\n",
       "      <td>1.4</td>\n",
       "      <td>94.465</td>\n",
       "      <td>-41.8</td>\n",
       "      <td>5228.1</td>\n",
       "      <td>4.962</td>\n",
       "      <td>0</td>\n",
       "      <td>1</td>\n",
       "      <td>0</td>\n",
       "      <td>False</td>\n",
       "    </tr>\n",
       "    <tr>\n",
       "      <th>4</th>\n",
       "      <td>47</td>\n",
       "      <td>2</td>\n",
       "      <td>5</td>\n",
       "      <td>True</td>\n",
       "      <td>False</td>\n",
       "      <td>1</td>\n",
       "      <td>0</td>\n",
       "      <td>0</td>\n",
       "      <td>0</td>\n",
       "      <td>cellular</td>\n",
       "      <td>0</td>\n",
       "      <td>58.0</td>\n",
       "      <td>1.0</td>\n",
       "      <td>False</td>\n",
       "      <td>False</td>\n",
       "      <td>-0.1</td>\n",
       "      <td>93.200</td>\n",
       "      <td>-42.0</td>\n",
       "      <td>5195.8</td>\n",
       "      <td>4.191</td>\n",
       "      <td>0</td>\n",
       "      <td>1</td>\n",
       "      <td>0</td>\n",
       "      <td>False</td>\n",
       "    </tr>\n",
       "    <tr>\n",
       "      <th>5</th>\n",
       "      <td>32</td>\n",
       "      <td>1</td>\n",
       "      <td>5</td>\n",
       "      <td>False</td>\n",
       "      <td>False</td>\n",
       "      <td>0</td>\n",
       "      <td>0</td>\n",
       "      <td>0</td>\n",
       "      <td>1</td>\n",
       "      <td>cellular</td>\n",
       "      <td>3</td>\n",
       "      <td>128.0</td>\n",
       "      <td>3.0</td>\n",
       "      <td>False</td>\n",
       "      <td>True</td>\n",
       "      <td>-1.1</td>\n",
       "      <td>94.199</td>\n",
       "      <td>-37.5</td>\n",
       "      <td>4963.6</td>\n",
       "      <td>0.884</td>\n",
       "      <td>0</td>\n",
       "      <td>0</td>\n",
       "      <td>1</td>\n",
       "      <td>False</td>\n",
       "    </tr>\n",
       "  </tbody>\n",
       "</table>\n",
       "</div>"
      ],
      "text/plain": [
       "   age  job  education  housing   loan  winter  spring  summer  autumn  \\\n",
       "0   30    0          2     True  False       0       1       0       0   \n",
       "1   39    1          3    False  False       0       1       0       0   \n",
       "2   25    1          3     True  False       0       0       1       0   \n",
       "4   47    2          5     True  False       1       0       0       0   \n",
       "5   32    1          5    False  False       0       0       0       1   \n",
       "\n",
       "     contact  anxiety  duration  campaign  pdays  previous  emp_var_rate  \\\n",
       "0   cellular        4     487.0       2.0  False     False          -1.8   \n",
       "1  telephone        4     346.0       4.0  False     False           1.1   \n",
       "2  telephone        2     227.0       1.0  False     False           1.4   \n",
       "4   cellular        0      58.0       1.0  False     False          -0.1   \n",
       "5   cellular        3     128.0       3.0  False      True          -1.1   \n",
       "\n",
       "   cons_price_idx  cons_conf_idx  nr_employed  euribor3m  divorced  married  \\\n",
       "0          92.893          -46.2       5099.1      1.313         0        1   \n",
       "1          93.994          -36.4       5191.0      4.855         0        0   \n",
       "2          94.465          -41.8       5228.1      4.962         0        1   \n",
       "4          93.200          -42.0       5195.8      4.191         0        1   \n",
       "5          94.199          -37.5       4963.6      0.884         0        0   \n",
       "\n",
       "   single  subscribed?  \n",
       "0       0        False  \n",
       "1       1        False  \n",
       "2       0        False  \n",
       "4       0        False  \n",
       "5       1        False  "
      ]
     },
     "execution_count": 83,
     "metadata": {},
     "output_type": "execute_result"
    }
   ],
   "source": [
    "banks.head()"
   ]
  },
  {
   "cell_type": "code",
   "execution_count": 84,
   "id": "8b06be25",
   "metadata": {},
   "outputs": [],
   "source": [
    "banks.to_csv('Bank Marketing/prepared_bank.csv', index=False)"
   ]
  }
 ],
 "metadata": {
  "kernelspec": {
   "display_name": "Python 3 (ipykernel)",
   "language": "python",
   "name": "python3"
  },
  "language_info": {
   "codemirror_mode": {
    "name": "ipython",
    "version": 3
   },
   "file_extension": ".py",
   "mimetype": "text/x-python",
   "name": "python",
   "nbconvert_exporter": "python",
   "pygments_lexer": "ipython3",
   "version": "3.9.13"
  },
  "toc-showcode": true
 },
 "nbformat": 4,
 "nbformat_minor": 5
}
